{
  "nbformat": 4,
  "nbformat_minor": 0,
  "metadata": {
    "kernelspec": {
      "display_name": "Python 3",
      "language": "python",
      "name": "python3"
    },
    "language_info": {
      "codemirror_mode": {
        "name": "ipython",
        "version": 3
      },
      "file_extension": ".py",
      "mimetype": "text/x-python",
      "name": "python",
      "nbconvert_exporter": "python",
      "pygments_lexer": "ipython3",
      "version": "3.7.4"
    },
    "colab": {
      "name": "In_class_exercise_08.ipynb",
      "provenance": []
    }
  },
  "cells": [
    {
      "cell_type": "markdown",
      "metadata": {
        "id": "bp4rzi29esrw"
      },
      "source": [
        "# **The eighth in-class-exercise (20 points in total, 10/29/2020)**"
      ]
    },
    {
      "cell_type": "markdown",
      "metadata": {
        "id": "izvz4h7desry"
      },
      "source": [
        "The data for this exercise is from the dataset you created from assignment three. Please perform answer the following questions based on your data:"
      ]
    },
    {
      "cell_type": "markdown",
      "metadata": {
        "id": "RIXotJlYesr0"
      },
      "source": [
        "## (1) (10 points) Write a python program to extract the sentiment related terms from the corpus. You may use python package such as polyglot or external lexicon resources in the question. Rank the sentiment related terms by frequency."
      ]
    },
    {
      "cell_type": "code",
      "metadata": {
        "id": "SiDVk161esr1"
      },
      "source": [
        "# Write your code here\n",
        "\n",
        "import numpy as np\n",
        "import pandas as pd\n",
        "import nltk\n",
        "data = pd.read_csv(\"/content/Sentiment Analysis.csv\")\n",
        "data = data[['Content_txt','Sentiment']].copy()\n",
        "\n",
        "\n"
      ],
      "execution_count": 11,
      "outputs": []
    },
    {
      "cell_type": "code",
      "metadata": {
        "id": "o_OuALIpMMQg",
        "outputId": "107379d0-c2cc-41ee-bb00-f471a1318613",
        "colab": {
          "base_uri": "https://localhost:8080/",
          "height": 204
        }
      },
      "source": [
        "data.head()"
      ],
      "execution_count": 12,
      "outputs": [
        {
          "output_type": "execute_result",
          "data": {
            "text/html": [
              "<div>\n",
              "<style scoped>\n",
              "    .dataframe tbody tr th:only-of-type {\n",
              "        vertical-align: middle;\n",
              "    }\n",
              "\n",
              "    .dataframe tbody tr th {\n",
              "        vertical-align: top;\n",
              "    }\n",
              "\n",
              "    .dataframe thead th {\n",
              "        text-align: right;\n",
              "    }\n",
              "</style>\n",
              "<table border=\"1\" class=\"dataframe\">\n",
              "  <thead>\n",
              "    <tr style=\"text-align: right;\">\n",
              "      <th></th>\n",
              "      <th>Content_txt</th>\n",
              "      <th>Sentiment</th>\n",
              "    </tr>\n",
              "  </thead>\n",
              "  <tbody>\n",
              "    <tr>\n",
              "      <th>0</th>\n",
              "      <td>Amazon laptop exist</td>\n",
              "      <td>Positive</td>\n",
              "    </tr>\n",
              "    <tr>\n",
              "      <th>1</th>\n",
              "      <td>looking for laptop</td>\n",
              "      <td>positive</td>\n",
              "    </tr>\n",
              "    <tr>\n",
              "      <th>2</th>\n",
              "      <td>for his wife</td>\n",
              "      <td>positive</td>\n",
              "    </tr>\n",
              "    <tr>\n",
              "      <th>3</th>\n",
              "      <td>SSD atleat 16GB</td>\n",
              "      <td>Positive</td>\n",
              "    </tr>\n",
              "    <tr>\n",
              "      <th>4</th>\n",
              "      <td>i5 prosseor</td>\n",
              "      <td>poitive</td>\n",
              "    </tr>\n",
              "  </tbody>\n",
              "</table>\n",
              "</div>"
            ],
            "text/plain": [
              "           Content_txt Sentiment\n",
              "0  Amazon laptop exist  Positive\n",
              "1   looking for laptop  positive\n",
              "2         for his wife  positive\n",
              "3      SSD atleat 16GB  Positive\n",
              "4          i5 prosseor   poitive"
            ]
          },
          "metadata": {
            "tags": []
          },
          "execution_count": 12
        }
      ]
    },
    {
      "cell_type": "code",
      "metadata": {
        "id": "66FEKmFmMRek",
        "outputId": "67e896db-7cd4-46ba-be6b-4eefc4535be0",
        "colab": {
          "base_uri": "https://localhost:8080/",
          "height": 317
        }
      },
      "source": [
        "import matplotlib.pyplot as plt\n",
        "data['Sentiment'].value_counts().plot(kind='bar')\n"
      ],
      "execution_count": 13,
      "outputs": [
        {
          "output_type": "execute_result",
          "data": {
            "text/plain": [
              "<matplotlib.axes._subplots.AxesSubplot at 0x7feec6d24ba8>"
            ]
          },
          "metadata": {
            "tags": []
          },
          "execution_count": 13
        },
        {
          "output_type": "display_data",
          "data": {
            "image/png": "[encoded data removed]",
            "text/plain": [
              "<Figure size 432x288 with 1 Axes>"
            ]
          },
          "metadata": {
            "tags": [],
            "needs_background": "light"
          }
        }
      ]
    },
    {
      "cell_type": "code",
      "metadata": {
        "id": "OX6MSY1yMWeN",
        "outputId": "e2515f0f-583a-4d8b-c4a6-2c83cd971962",
        "colab": {
          "base_uri": "https://localhost:8080/"
        }
      },
      "source": [
        "import nltk\n",
        "from nltk import word_tokenize, sent_tokenize\n",
        "from nltk.corpus import stopwords\n",
        "nltk.download('stopwords')\n",
        "nltk.download('punkt')\n",
        "nltk.download('wordnet')\n",
        "from textblob import Word\n",
        "from wordcloud import WordCloud, STOPWORDS\n",
        "from textblob import TextBlob\n",
        "import string\n",
        "stop = stopwords.words('english')\n",
        "\n",
        "\n",
        "data['Content_txt'] = data['Content_txt'].apply(lambda x: \" \".join(x.lower() for x in x.split()))\n",
        "data['Content_txt'] = data['Content_txt'].apply(lambda  x: \" \".join(x for x in x.split() if x not in string.punctuation))\n",
        "data['Content_txt'] = data['Content_txt'].apply(lambda x: \" \".join(x for x in x.split() if x not in stop))\n",
        "data['Content_txt'] = data['Content_txt'].apply(lambda x: \" \".join([Word(word).lemmatize() for word in x.split()]))"
      ],
      "execution_count": 16,
      "outputs": [
        {
          "output_type": "stream",
          "text": [
            "[nltk_data] Downloading package stopwords to /root/nltk_data...\n",
            "[nltk_data]   Package stopwords is already up-to-date!\n",
            "[nltk_data] Downloading package punkt to /root/nltk_data...\n",
            "[nltk_data]   Package punkt is already up-to-date!\n",
            "[nltk_data] Downloading package wordnet to /root/nltk_data...\n",
            "[nltk_data]   Package wordnet is already up-to-date!\n"
          ],
          "name": "stdout"
        }
      ]
    },
    {
      "cell_type": "code",
      "metadata": {
        "id": "wWoB3MxsM04I",
        "outputId": "9ec60209-337c-4184-cd8d-b82cf4a085f2",
        "colab": {
          "base_uri": "https://localhost:8080/"
        }
      },
      "source": [
        "from nltk.tokenize import word_tokenize\n",
        "\n",
        "words_sentence = []\n",
        "for sentence in data['Content_txt']:\n",
        "  words_sentence.append(word_tokenize(sentence))\n",
        "words_sentence[:8]"
      ],
      "execution_count": 55,
      "outputs": [
        {
          "output_type": "execute_result",
          "data": {
            "text/plain": [
              "[['amazon', 'laptop', 'exist'],\n",
              " ['looking', 'laptop'],\n",
              " ['wife'],\n",
              " ['ssd', 'atleat', '16gb'],\n",
              " ['i5', 'prosseor'],\n",
              " ['comfortable'],\n",
              " ['price'],\n",
              " ['window']]"
            ]
          },
          "metadata": {
            "tags": []
          },
          "execution_count": 55
        }
      ]
    },
    {
      "cell_type": "code",
      "metadata": {
        "id": "KZHmZXZ6M-CZ",
        "outputId": "0d60cacd-4506-4ccc-9ce6-6178555feb53",
        "colab": {
          "base_uri": "https://localhost:8080/"
        }
      },
      "source": [
        "import itertools\n",
        "aftercleaning = [x for x in words_sentence if x != []]\n",
        "iterations = list(itertools.chain.from_iterable(aftercleaning))\n",
        "iterations[:8]"
      ],
      "execution_count": 89,
      "outputs": [
        {
          "output_type": "execute_result",
          "data": {
            "text/plain": [
              "['amazon', 'laptop', 'exist', 'looking', 'laptop', 'wife', 'ssd', 'atleat']"
            ]
          },
          "metadata": {
            "tags": []
          },
          "execution_count": 89
        }
      ]
    },
    {
      "cell_type": "code",
      "metadata": {
        "id": "iCXrrHgMNC6N",
        "outputId": "5985c8a4-6427-4694-8956-4e63b189b74c",
        "colab": {
          "base_uri": "https://localhost:8080/"
        }
      },
      "source": [
        "sentiment_list = data.to_records(index=False)\n",
        "sentiment_list = list(sentiment_list)\n",
        "sentiment_list[:4]"
      ],
      "execution_count": 21,
      "outputs": [
        {
          "output_type": "execute_result",
          "data": {
            "text/plain": [
              "[('amazon laptop exist', 'Positive'),\n",
              " ('looking laptop', 'positive'),\n",
              " ('wife', 'positive'),\n",
              " ('ssd atleat 16gb', 'Positive'),\n",
              " ('i5 prosseor', 'poitive')]"
            ]
          },
          "metadata": {
            "tags": []
          },
          "execution_count": 21
        }
      ]
    },
    {
      "cell_type": "code",
      "metadata": {
        "id": "JbDsEZ4rNJwW"
      },
      "source": [
        "def document_features(document):\n",
        "    document_words = set(document)\n",
        "    features = {}\n",
        "    for word in iterations:\n",
        "        features['contains({})'.format(word)] = (word in document_words)\n",
        "    return features"
      ],
      "execution_count": 22,
      "outputs": []
    },
    {
      "cell_type": "code",
      "metadata": {
        "id": "cSzcgrJvNT_2",
        "outputId": "b346d793-1fc9-4cb2-bac2-2b38b7e0b209",
        "colab": {
          "base_uri": "https://localhost:8080/"
        }
      },
      "source": [
        "featuresets = [(document_features(d), c) for (d,c) in sentiment_list]\n",
        "train_set, test_set = featuresets[:40], featuresets[40:]\n",
        "classifier = nltk.NaiveBayesClassifier.train(train_set)\n",
        "print(nltk.classify.accuracy(classifier, test_set))"
      ],
      "execution_count": 56,
      "outputs": [
        {
          "output_type": "stream",
          "text": [
            "0.9090909090909091\n"
          ],
          "name": "stdout"
        }
      ]
    },
    {
      "cell_type": "code",
      "metadata": {
        "id": "F1yVoD3ANayd",
        "outputId": "d4f4fccc-9d3f-405a-a23a-f61310373e2a",
        "colab": {
          "base_uri": "https://localhost:8080/"
        }
      },
      "source": [
        "classifier.show_most_informative_features(8)"
      ],
      "execution_count": 57,
      "outputs": [
        {
          "output_type": "stream",
          "text": [
            "Most Informative Features\n",
            "        contains(screen) = False          Negati : Positi =      1.0 : 1.0\n",
            "           contains(ssd) = False          Negati : Positi =      1.0 : 1.0\n",
            "       contains(useless) = False          Negati : Positi =      1.0 : 1.0\n",
            "        contains(effici) = False          Negati : Positi =      1.0 : 1.0\n",
            "            contains(i5) = False          Negati : Positi =      1.0 : 1.0\n",
            "      contains(prosseor) = False          Negati : Positi =      1.0 : 1.0\n",
            "         contains(price) = False          Negati : Positi =      1.0 : 1.0\n",
            "        contains(window) = False          Negati : Positi =      1.0 : 1.0\n"
          ],
          "name": "stdout"
        }
      ]
    },
    {
      "cell_type": "markdown",
      "metadata": {
        "id": "gqWkghRJesr6"
      },
      "source": [
        "## (2) (10 points) Compare the performance of the following tools in sentiment identification: TextBlob (https://textblob.readthedocs.io/en/dev/), VADER (https://github.com/cjhutto/vaderSentiment), TFIDF-based Support Vector Machine (SVM) (Split your data into training and testing data). Take your own annotation as the standard answers. \n",
        "\n",
        "Reference code: https://towardsdatascience.com/fine-grained-sentiment-analysis-in-python-part-1-2697bb111ed4"
      ]
    },
    {
      "cell_type": "code",
      "metadata": {
        "id": "456UmF1OOfDy",
        "outputId": "8b9bcce1-56d3-4c1a-ea8b-7db8b94785f6",
        "colab": {
          "base_uri": "https://localhost:8080/"
        }
      },
      "source": [
        "\n",
        "\n",
        "from textblob import TextBlob\n",
        "values=[]\n",
        "for i in data['Content_txt']:\n",
        "  blob = TextBlob(i)\n",
        "  for sentencepolarity in blob.sentences:\n",
        "    values.append(sentencepolarity.polarity)\n",
        "neutral=0\n",
        "pos=0\n",
        "neg=0\n",
        "for i in values:\n",
        "  if i==0.0:\n",
        "    neutral+=1\n",
        "  elif i>0:\n",
        "    pos+=1\n",
        "  else: neg+=1\n",
        "\n",
        "    \n",
        "print(\"positive\",pos)\n",
        "print(\"negative\",neg)\n",
        "print(\"neutral\",neutral)"
      ],
      "execution_count": 69,
      "outputs": [
        {
          "output_type": "stream",
          "text": [
            "positive 3\n",
            "negative 2\n",
            "neutral 46\n"
          ],
          "name": "stdout"
        }
      ]
    },
    {
      "cell_type": "code",
      "metadata": {
        "id": "8Qs-tqtHesr7",
        "outputId": "f927d058-5739-487d-8e64-44a50bd6cd26",
        "colab": {
          "base_uri": "https://localhost:8080/"
        }
      },
      "source": [
        "# Write your code here\n",
        "\n",
        "!pip install vaderSentiment\n",
        "from vaderSentiment.vaderSentiment import SentimentIntensityAnalyzer\n",
        "sentimentanalyser = SentimentIntensityAnalyzer()\n",
        "def sentiment_analyzer(sentencepolarity):\n",
        "    count_sentiment = analyser.polarity_scores(sentence)\n",
        "    print(\"{:-<20} {}\".format(sentencepolarity, str(count_sentiment)))\n",
        "for i in data['Content_txt'][:8]:\n",
        "  sentiment_analyzer(i)\n",
        "\n",
        "\n",
        "\n",
        "\n",
        "\n",
        "\n",
        "\n"
      ],
      "execution_count": 71,
      "outputs": [
        {
          "output_type": "stream",
          "text": [
            "Requirement already satisfied: vaderSentiment in /usr/local/lib/python3.6/dist-packages (3.3.2)\n",
            "Requirement already satisfied: requests in /usr/local/lib/python3.6/dist-packages (from vaderSentiment) (2.23.0)\n",
            "Requirement already satisfied: chardet<4,>=3.0.2 in /usr/local/lib/python3.6/dist-packages (from requests->vaderSentiment) (3.0.4)\n",
            "Requirement already satisfied: idna<3,>=2.5 in /usr/local/lib/python3.6/dist-packages (from requests->vaderSentiment) (2.10)\n",
            "Requirement already satisfied: certifi>=2017.4.17 in /usr/local/lib/python3.6/dist-packages (from requests->vaderSentiment) (2020.6.20)\n",
            "Requirement already satisfied: urllib3!=1.25.0,!=1.25.1,<1.26,>=1.21.1 in /usr/local/lib/python3.6/dist-packages (from requests->vaderSentiment) (1.24.3)\n",
            "amazon laptop exist- {'neg': 0.0, 'neu': 1.0, 'pos': 0.0, 'compound': 0.0}\n",
            "looking laptop------ {'neg': 0.0, 'neu': 1.0, 'pos': 0.0, 'compound': 0.0}\n",
            "wife---------------- {'neg': 0.0, 'neu': 1.0, 'pos': 0.0, 'compound': 0.0}\n",
            "ssd atleat 16gb----- {'neg': 0.0, 'neu': 1.0, 'pos': 0.0, 'compound': 0.0}\n",
            "i5 prosseor--------- {'neg': 0.0, 'neu': 1.0, 'pos': 0.0, 'compound': 0.0}\n",
            "comfortable--------- {'neg': 0.0, 'neu': 1.0, 'pos': 0.0, 'compound': 0.0}\n",
            "price--------------- {'neg': 0.0, 'neu': 1.0, 'pos': 0.0, 'compound': 0.0}\n",
            "window-------------- {'neg': 0.0, 'neu': 1.0, 'pos': 0.0, 'compound': 0.0}\n"
          ],
          "name": "stdout"
        }
      ]
    },
    {
      "cell_type": "code",
      "metadata": {
        "id": "7j80n3mOOulB"
      },
      "source": [
        "train=data[:40]\n",
        "test=data[40:]\n",
        "from sklearn.feature_extraction.text import TfidfVectorizer\n",
        "vectorizer = TfidfVectorizer(min_df = 1,\n",
        "                             max_df = 0.4,\n",
        "                             sublinear_tfid = True,\n",
        "                             use_idf = True)\n",
        "sentiment_train_vectors = vectorizer.fit_transform(train['Content_txt'])\n",
        "sentiment_test_vectors = vectorizer.transform(test['Content_txt'])"
      ],
      "execution_count": 88,
      "outputs": []
    },
    {
      "cell_type": "code",
      "metadata": {
        "id": "hrtLHOdGPSQU",
        "outputId": "f9b20488-7c5a-4a4d-f0a1-8de431df8752",
        "colab": {
          "base_uri": "https://localhost:8080/"
        }
      },
      "source": [
        "import time\n",
        "from sklearn import svm\n",
        "from sklearn.metrics import classification_report\n",
        "classifiertdif_linear = svm.SVC(kernel='linear')\n",
        "tdif0 = time.time()\n",
        "classifiertdif_linear.fit(sentiment_train_vectors, train['Sentiment'])\n",
        "tdif1 = time.time()\n",
        "prediction_linear = classifiertdif_linear.predict(sentiment_test_vectors)\n",
        "tdif2 = time.time()\n",
        "time_linear_train = tdif1-tdif0\n",
        "time_linear_predict = tdif2-tdif1\n",
        "print(\"Training time: %fs; Prediction time: %fs\" % (time_linear_train, time_linear_predict))\n",
        "result = classification_report(test['Sentiment'], prediction_linear, output_dict=True)\n"
      ],
      "execution_count": 85,
      "outputs": [
        {
          "output_type": "stream",
          "text": [
            "Training time: 0.006916s; Prediction time: 0.000247s\n"
          ],
          "name": "stdout"
        }
      ]
    },
    {
      "cell_type": "code",
      "metadata": {
        "id": "FQCvwXV7R29B"
      },
      "source": [
        "# Your analysis here\n",
        "\n",
        "Out from the analysis I have observed that the ratio of positive and negative over the count are varied, when it comes to the count in th etexblog we see that the positive scenarios are more so the Textblog is appropriate.\n",
        "When it comes to the Vader we see the values displayed where the negative values are in more so its inappropriate. When it comes to the SVM even the values to taht of f values they are accurate when it comes to the poitive values. Overall from the conclusion we can see that the values of texblob are accurate when compared to that of SVM and Vader.\n"
      ],
      "execution_count": null,
      "outputs": []
    }
  ]
}