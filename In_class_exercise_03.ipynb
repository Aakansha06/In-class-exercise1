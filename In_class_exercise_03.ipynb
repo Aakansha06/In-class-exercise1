{
  "nbformat": 4,
  "nbformat_minor": 0,
  "metadata": {
    "kernelspec": {
      "display_name": "Python 3",
      "language": "python",
      "name": "python3"
    },
    "language_info": {
      "codemirror_mode": {
        "name": "ipython",
        "version": 3
      },
      "file_extension": ".py",
      "mimetype": "text/x-python",
      "name": "python",
      "nbconvert_exporter": "python",
      "pygments_lexer": "ipython3",
      "version": "3.7.4"
    },
    "colab": {
      "name": "In-class-exercise-03.ipynb",
      "provenance": []
    }
  },
  "cells": [
    {
      "cell_type": "markdown",
      "metadata": {
        "id": "bVvzra2I1OyL",
        "colab_type": "text"
      },
      "source": [
        "## The third In-class-exercise (9/16/2020, 20 points in total)"
      ]
    },
    {
      "cell_type": "markdown",
      "metadata": {
        "id": "RNZTXJFj1OyN",
        "colab_type": "text"
      },
      "source": [
        "The purpose of this exercise is to under users' information needs, then collect the data for analysis."
      ]
    },
    {
      "cell_type": "markdown",
      "metadata": {
        "id": "eLlYAwMc1OyO",
        "colab_type": "text"
      },
      "source": [
        "Question 1 (8 points): Describe an interesting research question (or practical question) you have in mind, what kind of data should be collected to answer the question(s)? How many data needed for the analysis? The detail steps for collecting and save the data. "
      ]
    },
    {
      "cell_type": "code",
      "metadata": {
        "id": "wxJptYRw1OyP",
        "colab_type": "code",
        "colab": {
          "base_uri": "https://localhost:8080/",
          "height": 34
        },
        "outputId": "b137b593-c87b-4eca-a5f8-a973f504d962"
      },
      "source": [
        "# Your answer here (no code for this question, write down your answer as detail as possible for the above questions):\n",
        "Recommend a best restaurant based on the customer reviews in yelp.com\n",
        "Here the user searching for a best restaurant near him. He/she looking for a recommendation for the restaurant. \n",
        "Any customer who want to try for a restaurant will look at the reviews which was given by the previous customers who \n",
        "visited the restaurant. The data we need to provide recommendation to user is rerviews data. The source used to get \n",
        "the data required to solve the problem is from yelp website. This is a free website used by most of the customers and \n",
        "businessowners.\n",
        "\n",
        "Steps to get the data required for recommendation:\n",
        "1. Scrape the website www.yelp.com\n",
        "2. Collect the review data into csv\n",
        "3. Preprocess the data\n",
        "4. Split the data into train,validation and test\n",
        "5. Build a recommendation model\n",
        "6. Evaluate the model with metrics."
      ],
      "execution_count": null,
      "outputs": [
        {
          "output_type": "stream",
          "text": [
            "<http.client.HTTPResponse object at 0x7fa0e6113780>\n"
          ],
          "name": "stdout"
        }
      ]
    },
    {
      "cell_type": "markdown",
      "metadata": {
        "id": "PtRqCdCz1OyV",
        "colab_type": "text"
      },
      "source": [
        "Question 2 (12 points): Write python code to collect 500 items of the data you plan to collect above."
      ]
    },
    {
      "cell_type": "code",
      "metadata": {
        "id": "MtfDdD_21OyW",
        "colab_type": "code",
        "colab": {
          "base_uri": "https://localhost:8080/",
          "height": 904
        },
        "outputId": "9c16b16f-b975-4845-c5bb-ba3208e87f7a"
      },
      "source": [
        "# You code here (Please add comments in the code):\n",
        "\n",
        "import bs4\n",
        "import pandas as pd\n",
        "import requests\n",
        "\n",
        "a = []\n",
        "def get_page_contents(url):\n",
        "        page = requests.get(url, headers={\"Accept-Language\": \"en-US\"})\n",
        "        return bs4.BeautifulSoup(page.text, \"html.parser\")\n",
        "for i in range(0,500,10):\n",
        "    url = 'https://www.yelp.com/search?find_desc=&find_loc=Mi&start='+str(i)\n",
        "    print(url)\n",
        "    soup = get_page_contents(url)\n",
        "    Restaurants = soup.findAll('h4',class_='lemon--h4__09f24__1yd__ heading--h4__09f24__2ijYq alternate__09f24__39r7c')\n",
        "    Res_Name = [Rest.find('a').text for Rest in Restaurants]\n",
        "    a.extend(Res_Name)\n",
        "print(a)\n",
        "Restaurants_Data = pd.DataFrame({'Res_Name':a})\n",
        "Restaurants_Data.to_excel(r\"/content/yelp.xlsx\")"
      ],
      "execution_count": 3,
      "outputs": [
        {
          "output_type": "stream",
          "text": [
            "https://www.yelp.com/search?find_desc=&find_loc=Mi&start=0\n",
            "https://www.yelp.com/search?find_desc=&find_loc=Mi&start=10\n",
            "https://www.yelp.com/search?find_desc=&find_loc=Mi&start=20\n",
            "https://www.yelp.com/search?find_desc=&find_loc=Mi&start=30\n",
            "https://www.yelp.com/search?find_desc=&find_loc=Mi&start=40\n",
            "https://www.yelp.com/search?find_desc=&find_loc=Mi&start=50\n",
            "https://www.yelp.com/search?find_desc=&find_loc=Mi&start=60\n",
            "https://www.yelp.com/search?find_desc=&find_loc=Mi&start=70\n",
            "https://www.yelp.com/search?find_desc=&find_loc=Mi&start=80\n",
            "https://www.yelp.com/search?find_desc=&find_loc=Mi&start=90\n",
            "https://www.yelp.com/search?find_desc=&find_loc=Mi&start=100\n",
            "https://www.yelp.com/search?find_desc=&find_loc=Mi&start=110\n",
            "https://www.yelp.com/search?find_desc=&find_loc=Mi&start=120\n",
            "https://www.yelp.com/search?find_desc=&find_loc=Mi&start=130\n",
            "https://www.yelp.com/search?find_desc=&find_loc=Mi&start=140\n",
            "https://www.yelp.com/search?find_desc=&find_loc=Mi&start=150\n",
            "https://www.yelp.com/search?find_desc=&find_loc=Mi&start=160\n",
            "https://www.yelp.com/search?find_desc=&find_loc=Mi&start=170\n",
            "https://www.yelp.com/search?find_desc=&find_loc=Mi&start=180\n",
            "https://www.yelp.com/search?find_desc=&find_loc=Mi&start=190\n",
            "https://www.yelp.com/search?find_desc=&find_loc=Mi&start=200\n",
            "https://www.yelp.com/search?find_desc=&find_loc=Mi&start=210\n",
            "https://www.yelp.com/search?find_desc=&find_loc=Mi&start=220\n",
            "https://www.yelp.com/search?find_desc=&find_loc=Mi&start=230\n",
            "https://www.yelp.com/search?find_desc=&find_loc=Mi&start=240\n",
            "https://www.yelp.com/search?find_desc=&find_loc=Mi&start=250\n",
            "https://www.yelp.com/search?find_desc=&find_loc=Mi&start=260\n",
            "https://www.yelp.com/search?find_desc=&find_loc=Mi&start=270\n",
            "https://www.yelp.com/search?find_desc=&find_loc=Mi&start=280\n",
            "https://www.yelp.com/search?find_desc=&find_loc=Mi&start=290\n",
            "https://www.yelp.com/search?find_desc=&find_loc=Mi&start=300\n",
            "https://www.yelp.com/search?find_desc=&find_loc=Mi&start=310\n",
            "https://www.yelp.com/search?find_desc=&find_loc=Mi&start=320\n",
            "https://www.yelp.com/search?find_desc=&find_loc=Mi&start=330\n",
            "https://www.yelp.com/search?find_desc=&find_loc=Mi&start=340\n",
            "https://www.yelp.com/search?find_desc=&find_loc=Mi&start=350\n",
            "https://www.yelp.com/search?find_desc=&find_loc=Mi&start=360\n",
            "https://www.yelp.com/search?find_desc=&find_loc=Mi&start=370\n",
            "https://www.yelp.com/search?find_desc=&find_loc=Mi&start=380\n",
            "https://www.yelp.com/search?find_desc=&find_loc=Mi&start=390\n",
            "https://www.yelp.com/search?find_desc=&find_loc=Mi&start=400\n",
            "https://www.yelp.com/search?find_desc=&find_loc=Mi&start=410\n",
            "https://www.yelp.com/search?find_desc=&find_loc=Mi&start=420\n",
            "https://www.yelp.com/search?find_desc=&find_loc=Mi&start=430\n",
            "https://www.yelp.com/search?find_desc=&find_loc=Mi&start=440\n",
            "https://www.yelp.com/search?find_desc=&find_loc=Mi&start=450\n",
            "https://www.yelp.com/search?find_desc=&find_loc=Mi&start=460\n",
            "https://www.yelp.com/search?find_desc=&find_loc=Mi&start=470\n",
            "https://www.yelp.com/search?find_desc=&find_loc=Mi&start=480\n",
            "https://www.yelp.com/search?find_desc=&find_loc=Mi&start=490\n",
            "['Roasting Plant Detroit', 'Dime Store', 'Green Dot Stables', 'Selden Standard', 'Detroit Institute of Arts', 'Slows Bar BQ', 'Chartreuse', 'Supino Pizzeria', 'Mudgie’s Deli & Wine Shop', 'Wright & Company', 'Roast', 'Roasting Plant Detroit', 'Lafayette Coney Island', 'Standby', 'ima', 'The Hudson Cafe', 'Taqueria El Rey', 'Grey Ghost Detroit', 'Batch Brewing Company', 'Takoi', 'Motown Historical Museum', 'The Sugar House', 'Roasting Plant Detroit', 'Vicente’s Cuban Cuisine', 'Taqueria Mi Pueblo', 'Ottava Via', 'Royale with Cheese', 'Bakersfield', 'Pie Sci', 'Republic', 'Johnny Noodle King', 'Mercury Burger Bar', 'Roasting Plant Detroit', 'SavannahBlue', 'Avalon International Breads', 'For the Love of Sugar', 'Honey Bee La Colmena', 'Buddy’s Pizza', 'Urban Ramen', 'Pupusería y Restaurante Salvadoreño', 'Bobcat Bonnie’s', 'The Apparatus Room', 'Joe Muer Seafood', 'Roasting Plant Detroit', 'Sister Pie', 'Giovanni’s Ristorante', 'Roasting Plant Detroit', 'SheWolf Pastificio & Bar', 'Andiamo', 'HopCat', 'Vertical Detroit', 'Astro Coffee', 'Dutch Girl Donuts', 'El Barzon', 'Roasting Plant Detroit', 'Empire Kitchen and Cocktails', 'Parks & Rec Diner', 'Chili Mustard Onions', 'Cornerstone Barrel House', 'Brooklyn Street Local', 'Maru Sushi & Grill Detroit', '2941 Street Food', 'Rock City Eatery', 'Jolly Pumpkin Pizzeria and Brewery- Detroit', 'Honest John’s Bar & Grill', 'Roasting Plant Detroit', 'La Feria', 'Campus Martius Park', 'Astoria Pastry Shop', 'Parc', 'Marrow', 'Detroit Vegan Soul', 'Iridescence', 'Great Lakes Coffee Roasting Company', 'El Asador', 'Taqueria Lupita’s', 'Roasting Plant Detroit', 'Seva Detroit', 'Lady Of The House', 'Detroit Water Ice Factory', 'Detroit Shipping Company', 'Belle Isle Park', 'Texas de Brazil', 'Cliff Bell’s', 'RiverWalk', 'Rocco’s Italian Deli', 'Spread Detroit', 'Roasting Plant Detroit', 'Duly’s Place', 'San Morello', 'The London Chop House', 'The Jamaican Pot', 'Jacoby’s German Biergarten', 'The Skip', 'Charles H Wright Museum of African American History', 'Detroit 75 Kitchen', 'Bon Bon Bon', 'Gus’s World Famous Fried Chicken', 'Roasting Plant Detroit', 'Detroit Historical Museum', 'Grand Trunk Pub', 'Cafe D’Mongo’s Speakeasy', 'Eastern Market Brewing Company', 'Prime and Proper', 'Downtown Louie’s', 'The Clique Restaurant', 'The Peterboro', 'Cannelle Matt Knio', 'Dessert Oasis Coffee Roasters - Detroit', 'Roasting Plant Detroit', 'The Bronx Bar', 'The Royce', 'Pegasus Taverna', 'Mootz Pizzeria + Bar', 'Rusted Crow Detroit', 'Flowers of Vietnam', 'Lumen Detroit', 'Basement Burger Bar', 'La Dolce Vita', 'Go Sy Thai', 'Roasting Plant Detroit', 'Anna Scripps Whitcomb Conservatory', 'Sweetwater Tavern', 'The Whitney', 'Narrow Way Cafe & Shop', 'Polish Village Cafe', 'Boostan Cafe', 'Stache International', 'ASHE Coffee', 'Guardian Building', 'Pho Lucky - Detroit', 'Roasting Plant Detroit', 'Townhouse', 'Kuzzos Chicken & Waffles', 'Red Smoke Barbecue', 'Central Kitchen + Bar', 'Firebird Tavern', 'Shake Shack', 'Midtown Shangri-La', 'Detroit Beer Company', 'Babo', 'Bad Luck Bar', 'Roasting Plant Detroit', 'Hygrade Deli', 'Tommy’s Detroit Bar & Grill', 'Los Galanes', 'Socra Tea Detroit', 'PAO Detroit', 'The Whisky Parlor', 'El Taco Veloz', 'Avalon Cafe and Bakery', 'La Palma', 'Abick’s Bar', 'Roasting Plant Detroit', 'Jose’s Tacos', 'Castalia', 'Bangkok 96 Street Food', 'El Rey de Las Arepas', 'YumVillage', 'MAGNET', 'Bakers Keyboard Lounge', 'The Block', 'Frita Batidos', 'Germack Coffee Roasting Co', 'Roasting Plant Detroit', 'Ford Piquette Avenue Plant', 'Cass Cafe', 'Cork & Gabel', 'Michigan & Trumbull', 'PizzaPlex', 'American Coney Island', 'Red Dunn Kitchen', 'The Red Hook', 'Rose’s Fine Food', 'Harmony Garden Cafe', 'Roasting Plant Detroit', 'Wahlburgers', 'La Lanterna', 'Telway Hamburgers', 'Fishbone’s', 'PJ’s Lager House', 'Saffron De Twah', 'Dilla’s Delights', 'Capers', 'La Gloria Bakery', 'Woodbridge Pub', 'Roasting Plant Detroit', 'Taystee’s Burgers', 'Motor City Wine', 'Mike’s Famous Ham Place', 'Union Street', 'City Wings', 'Good Cakes and Bakes', 'Evie’s Tamales', 'The Old Miami', 'ima', 'MOTZ’S Burgers', 'Roasting Plant Detroit', 'E & L Supermercado', 'Al-Ameer', 'Sheila’s Bakery', 'Original Gonella’s', 'Bucharest Grill', 'Peso', 'Kresge Court at Detroit Institute of Arts', 'Qahwah House', 'McShane’s Irish Pub- Downtown Detroit', 'Tou & Mai', 'Roasting Plant Detroit', 'Shatila Bakery', 'La Noria Bistro', 'Treat Dreams', 'La Michoacana', 'Candy Bar', 'Trinosophes', '8 Degrees Plato', 'Senor Lopez Mexican Restaurant', 'Faygo Beverages', 'Vivio’s Food & Spirits', 'Roasting Plant Detroit', 'Slows To Go', 'Checker Bar', 'Z’s Villa', 'Xochimilco Restaurant', 'Milano Bakery', 'Los Altos Restaurant', 'Ham Shop Cafe', 'Golden Fleece Restaurant', 'Besa', 'Beyond Juicery + Eatery', 'Roasting Plant Detroit', 'Pewabic', '-320 Coffee & Creamery', 'One-Eyed Betty’s Beer Bar & Kitchen', 'Zeff’s Coney Island Restaurant', 'Traffic Jam & Snug', 'Rattlesnake Club', 'Madcap Coffee', 'Folk', 'Northern Lights Lounge', 'The Potato Place', 'Roasting Plant Detroit', 'The Dakota Inn Rathskeller', 'Whole Foods Market', 'Fisher Building', 'Sala Thai', 'Smith & Co', 'Park Bar', 'Blimpie', 'Zef’s Midtown', 'Ernie’s Market', 'Brass Rail Pizza Bar', 'Roasting Plant Detroit', 'Tamaleria Nuevo Leon', 'Two Way Inn', 'Second Best Detroit', 'Bai Mai Thai', 'Urban Bean Co', 'Calexico - Detroit', 'Caucus Club', 'Noodle Art', 'Hot Taco', 'Niki’s Pizza']\n"
          ],
          "name": "stdout"
        }
      ]
    }
  ]
}