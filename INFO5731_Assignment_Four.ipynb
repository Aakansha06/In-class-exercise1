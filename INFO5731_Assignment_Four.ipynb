{
  "nbformat": 4,
  "nbformat_minor": 0,
  "metadata": {
    "colab": {
      "name": "INFO5731_Assignment_Three.ipynb",
      "provenance": [],
      "collapsed_sections": []
    },
    "kernelspec": {
      "display_name": "Python 3",
      "language": "python",
      "name": "python3"
    },
    "language_info": {
      "codemirror_mode": {
        "name": "ipython",
        "version": 3
      },
      "file_extension": ".py",
      "mimetype": "text/x-python",
      "name": "python",
      "nbconvert_exporter": "python",
      "pygments_lexer": "ipython3",
      "version": "3.7.4"
    }
  },
  "cells": [
    {
      "cell_type": "markdown",
      "metadata": {
        "id": "USSdXHuqnwv9"
      },
      "source": [
        "# **INFO5731 Assignment Four**\n",
        "\n",
        "In this assignment, you are required to conduct topic modeling, sentiment analysis, and regression analysis."
      ]
    },
    {
      "cell_type": "markdown",
      "metadata": {
        "id": "YWxodXh5n4xF"
      },
      "source": [
        "# **Question 1: Topic Modeling**"
      ]
    },
    {
      "cell_type": "markdown",
      "metadata": {
        "id": "TenBkDJ5n95k"
      },
      "source": [
        "(30 points). This question is designed to help you understand topic modeling better as well as how to visualize topic modeling results, aims to collect the human meanings of documents. Based on the yelp review data (only the review text will be used for this question), which can be download from Dropbox: https://www.dropbox.com/s/59hsrk56sfwh9u2/Assignment%20four%20data%20Yelp%20%28question%201%20and%202%29.zip?dl=0, **select two models** and write a python program to **identify the top 20 topics (with 15 words for each topic) in the dataset**. Before answering this question, please review the materials in lesson 8, as well as the introduction of these models by the links provided.\n",
        "\n",
        "(1)   Labeled LDA (LLDA): https://github.com/JoeZJH/Labeled-LDA-Python\n",
        "\n",
        "(2)   Biterm Topic Model (BTM): https://github.com/markoarnauto/biterm\n",
        "\n",
        "(3)   HMM-LDA: https://github.com/dongwookim-ml/python-topic-model\n",
        "\n",
        "(4)   SupervisedLDA: https://github.com/dongwookim-ml/python-topic-model/tree/master/notebook\n",
        "\n",
        "(5)   Relational Topic Model: https://github.com/dongwookim-ml/python-topic-model/tree/master/notebook\n",
        "\n",
        "(6)   LDA2VEC: https://github.com/cemoody/lda2vec\n",
        "\n",
        "(7)   BERTopic: https://github.com/MaartenGr/BERTopic\n",
        "\n",
        "(8)   LDA+BERT Topic Modeling: https://www.kaggle.com/dskswu/topic-modeling-bert-lda\n",
        "\n",
        "(9)   Clustering for Topic models: (paper: https://arxiv.org/abs/2004.14914), (code: https://github.com/adalmia96/Cluster-Analysis)\n",
        "\n",
        "\n",
        "**The following information should be reported:**\n",
        "\n",
        "(1) Top 20 clusters for topic modeling.\n",
        "\n",
        "(2) Summarize and describe the topic for each cluster. \n",
        "\n",
        "(3) Visualize the topic modeling reasults by using pyLDAVis: https://www.machinelearningplus.com/nlp/topic-modeling-visualization-how-to-present-results-lda-models/#14.-pyLDAVis\n"
      ]
    },
    {
      "cell_type": "code",
      "metadata": {
        "colab": {
          "base_uri": "https://localhost:8080/"
        },
        "id": "PuFPKhC0m1fd",
        "outputId": "6fb2ec05-8a47-4154-b896-88a848eec21b"
      },
      "source": [
        "# Write your code here\n",
        "\n",
        "import pandas as pd\n",
        "import numpy as np\n",
        "import matplotlib.pyplot as plt\n",
        "import csv\n",
        "import nltk\n",
        "nltk.download('stopwords')\n",
        "from nltk.corpus import stopwords\n",
        "!pip install pyLDAvis\n",
        "import pyLDAvis\n",
        "import spacy\n",
        "import gensim\n",
        "from gensim import corpora, models\n",
        "from gensim.utils import simple_preprocess\n",
        "from gensim.models import CoherenceModel\n",
        "import gensim.corpora as corpora\n",
        "import pyLDAvis.gensim\n",
        "from nltk.tokenize import RegexpTokenizer\n",
        "!pip install stop-words\n",
        "from stop_words import get_stop_words\n",
        "from nltk.stem.porter import PorterStemmer\n",
        "from zipfile import ZipFile\n",
        "import json\n",
        "import pandas as pd\n",
        "import os\n",
        "\n",
        "\n"
      ],
      "execution_count": 3,
      "outputs": [
        {
          "output_type": "stream",
          "text": [
            "[nltk_data] Downloading package stopwords to /root/nltk_data...\n",
            "[nltk_data]   Package stopwords is already up-to-date!\n",
            "Requirement already satisfied: pyLDAvis in /usr/local/lib/python3.6/dist-packages (2.1.2)\n",
            "Requirement already satisfied: jinja2>=2.7.2 in /usr/local/lib/python3.6/dist-packages (from pyLDAvis) (2.11.2)\n",
            "Requirement already satisfied: scipy>=0.18.0 in /usr/local/lib/python3.6/dist-packages (from pyLDAvis) (1.4.1)\n",
            "Requirement already satisfied: pandas>=0.17.0 in /usr/local/lib/python3.6/dist-packages (from pyLDAvis) (1.1.4)\n",
            "Requirement already satisfied: funcy in /usr/local/lib/python3.6/dist-packages (from pyLDAvis) (1.15)\n",
            "Requirement already satisfied: numpy>=1.9.2 in /usr/local/lib/python3.6/dist-packages (from pyLDAvis) (1.18.5)\n",
            "Requirement already satisfied: wheel>=0.23.0 in /usr/local/lib/python3.6/dist-packages (from pyLDAvis) (0.35.1)\n",
            "Requirement already satisfied: future in /usr/local/lib/python3.6/dist-packages (from pyLDAvis) (0.16.0)\n",
            "Requirement already satisfied: pytest in /usr/local/lib/python3.6/dist-packages (from pyLDAvis) (3.6.4)\n",
            "Requirement already satisfied: numexpr in /usr/local/lib/python3.6/dist-packages (from pyLDAvis) (2.7.1)\n",
            "Requirement already satisfied: joblib>=0.8.4 in /usr/local/lib/python3.6/dist-packages (from pyLDAvis) (0.17.0)\n",
            "Requirement already satisfied: MarkupSafe>=0.23 in /usr/local/lib/python3.6/dist-packages (from jinja2>=2.7.2->pyLDAvis) (1.1.1)\n",
            "Requirement already satisfied: pytz>=2017.2 in /usr/local/lib/python3.6/dist-packages (from pandas>=0.17.0->pyLDAvis) (2018.9)\n",
            "Requirement already satisfied: python-dateutil>=2.7.3 in /usr/local/lib/python3.6/dist-packages (from pandas>=0.17.0->pyLDAvis) (2.8.1)\n",
            "Requirement already satisfied: pluggy<0.8,>=0.5 in /usr/local/lib/python3.6/dist-packages (from pytest->pyLDAvis) (0.7.1)\n",
            "Requirement already satisfied: py>=1.5.0 in /usr/local/lib/python3.6/dist-packages (from pytest->pyLDAvis) (1.9.0)\n",
            "Requirement already satisfied: setuptools in /usr/local/lib/python3.6/dist-packages (from pytest->pyLDAvis) (50.3.2)\n",
            "Requirement already satisfied: six>=1.10.0 in /usr/local/lib/python3.6/dist-packages (from pytest->pyLDAvis) (1.15.0)\n",
            "Requirement already satisfied: more-itertools>=4.0.0 in /usr/local/lib/python3.6/dist-packages (from pytest->pyLDAvis) (8.6.0)\n",
            "Requirement already satisfied: attrs>=17.4.0 in /usr/local/lib/python3.6/dist-packages (from pytest->pyLDAvis) (20.3.0)\n",
            "Requirement already satisfied: atomicwrites>=1.0 in /usr/local/lib/python3.6/dist-packages (from pytest->pyLDAvis) (1.4.0)\n",
            "Requirement already satisfied: stop-words in /usr/local/lib/python3.6/dist-packages (2018.7.23)\n"
          ],
          "name": "stdout"
        }
      ]
    },
    {
      "cell_type": "code",
      "metadata": {
        "id": "jgASQFD0zy4o",
        "outputId": "4675f48e-dd45-4a85-e1de-5ecf03ac8ef4",
        "colab": {
          "base_uri": "https://localhost:8080/"
        }
      },
      "source": [
        "#dowloading the modules, reading the zip file.\n",
        "data = \"/content/Assignment four data Yelp (question 1 and 2).zip\"\n",
        "   \n",
        "with ZipFile(data, 'r') as zip: \n",
        "    zip.extractall() \n",
        "    print('Zip files are extracted')"
      ],
      "execution_count": 5,
      "outputs": [
        {
          "output_type": "stream",
          "text": [
            "Extracted files are\n"
          ],
          "name": "stdout"
        }
      ]
    },
    {
      "cell_type": "code",
      "metadata": {
        "id": "6KuXRIf9HF7W"
      },
      "source": [
        "response = list()\n",
        "ratings = list()\n",
        "files = os.listdir('/content/Assignment four data Yelp (question 1 and 2)')"
      ],
      "execution_count": 43,
      "outputs": []
    },
    {
      "cell_type": "code",
      "metadata": {
        "id": "xhgdLSHhHJKa"
      },
      "source": [
        "k=0\n",
        "for file in files:\n",
        "  with open('/content/Assignment four data Yelp (question 1 and 2)/'+file, 'r') as readfile:\n",
        "    k +=1\n",
        "    json_data = json.load(readfile)\n",
        "    for data in json_data:\n",
        "      response.append(data['text'])\n",
        "      ratings.append(data['stars'])\n",
        "    if(k==30):\n",
        "      break"
      ],
      "execution_count": 44,
      "outputs": []
    },
    {
      "cell_type": "code",
      "metadata": {
        "id": "onz7O-RwITp2"
      },
      "source": [
        "json_df = pd.DataFrame(response,columns = [\"Response\"])\n",
        "json_df[\"Ratings\"] = ratings"
      ],
      "execution_count": 45,
      "outputs": []
    },
    {
      "cell_type": "code",
      "metadata": {
        "id": "zvr-vBp8JPat",
        "outputId": "f9f28dd1-1300-4d12-9b33-7d0a3d5a427c",
        "colab": {
          "base_uri": "https://localhost:8080/"
        }
      },
      "source": [
        "\n",
        "json_df.info()"
      ],
      "execution_count": 46,
      "outputs": [
        {
          "output_type": "stream",
          "text": [
            "<class 'pandas.core.frame.DataFrame'>\n",
            "RangeIndex: 3000 entries, 0 to 2999\n",
            "Data columns (total 2 columns):\n",
            " #   Column    Non-Null Count  Dtype  \n",
            "---  ------    --------------  -----  \n",
            " 0   Response  3000 non-null   object \n",
            " 1   Ratings   3000 non-null   float64\n",
            "dtypes: float64(1), object(1)\n",
            "memory usage: 47.0+ KB\n"
          ],
          "name": "stdout"
        }
      ]
    },
    {
      "cell_type": "code",
      "metadata": {
        "id": "FIMpN_QYMFQi",
        "outputId": "da628cf2-eacd-43b8-91f2-1a510e8f92a3",
        "colab": {
          "base_uri": "https://localhost:8080/"
        }
      },
      "source": [
        "import re\n",
        "from textblob import TextBlob\n",
        "from nltk.stem import PorterStemmer\n",
        "from textblob import Word\n",
        "nltk.download('wordnet')\n",
        "from nltk.corpus import stopwords"
      ],
      "execution_count": 49,
      "outputs": [
        {
          "output_type": "stream",
          "text": [
            "[nltk_data] Downloading package wordnet to /root/nltk_data...\n",
            "[nltk_data]   Unzipping corpora/wordnet.zip.\n"
          ],
          "name": "stdout"
        }
      ]
    },
    {
      "cell_type": "code",
      "metadata": {
        "id": "F1Y1RYwBJTVH",
        "outputId": "256a2dbf-e2ba-4a02-fbc4-97179fbe24f6",
        "colab": {
          "base_uri": "https://localhost:8080/"
        }
      },
      "source": [
        "# Removal of special characters\n",
        "json_df['After noise removal'] = json_df['Response'].apply(lambda x: ''.join(re.sub(r\"[^a-zA-Z0-9]+\", ' ', charctr) for charctr in x ))\n",
        "\n",
        "json_df['Remove numbers'] = json_df['After noise removal'].str.replace('\\d+', '')\n"
      ],
      "execution_count": 53,
      "outputs": [
        {
          "output_type": "stream",
          "text": [
            "<input>:4: DeprecationWarning: invalid escape sequence \\d\n",
            "<input>:4: DeprecationWarning: invalid escape sequence \\d\n",
            "<input>:4: DeprecationWarning: invalid escape sequence \\d\n",
            "<ipython-input-53-c1ac13493dd3>:4: DeprecationWarning: invalid escape sequence \\d\n",
            "  json_df['Remove numbers'] = json_df['After noise removal'].str.replace('\\d+', '')\n"
          ],
          "name": "stderr"
        }
      ]
    },
    {
      "cell_type": "code",
      "metadata": {
        "id": "0z2FI0Q2MwbQ",
        "outputId": "db4ffcab-ffdc-4a67-c0b6-6fc34c69b141",
        "colab": {
          "base_uri": "https://localhost:8080/",
          "height": 529
        }
      },
      "source": [
        "json_df.head(10)"
      ],
      "execution_count": 54,
      "outputs": [
        {
          "output_type": "execute_result",
          "data": {
            "text/html": [
              "<div>\n",
              "<style scoped>\n",
              "    .dataframe tbody tr th:only-of-type {\n",
              "        vertical-align: middle;\n",
              "    }\n",
              "\n",
              "    .dataframe tbody tr th {\n",
              "        vertical-align: top;\n",
              "    }\n",
              "\n",
              "    .dataframe thead th {\n",
              "        text-align: right;\n",
              "    }\n",
              "</style>\n",
              "<table border=\"1\" class=\"dataframe\">\n",
              "  <thead>\n",
              "    <tr style=\"text-align: right;\">\n",
              "      <th></th>\n",
              "      <th>Response</th>\n",
              "      <th>Ratings</th>\n",
              "      <th>After noise removal</th>\n",
              "      <th>Remove numbers</th>\n",
              "    </tr>\n",
              "  </thead>\n",
              "  <tbody>\n",
              "    <tr>\n",
              "      <th>0</th>\n",
              "      <td>Exceptional customer service by your service d...</td>\n",
              "      <td>5.0</td>\n",
              "      <td>Exceptional customer service by your service d...</td>\n",
              "      <td>Exceptional customer service by your service d...</td>\n",
              "    </tr>\n",
              "    <tr>\n",
              "      <th>1</th>\n",
              "      <td>I decided to check out downtown Pittsburgh on ...</td>\n",
              "      <td>3.0</td>\n",
              "      <td>I decided to check out downtown Pittsburgh on ...</td>\n",
              "      <td>I decided to check out downtown Pittsburgh on ...</td>\n",
              "    </tr>\n",
              "    <tr>\n",
              "      <th>2</th>\n",
              "      <td>Just got back home form here and couldn't wait...</td>\n",
              "      <td>5.0</td>\n",
              "      <td>Just got back home form here and couldn t wait...</td>\n",
              "      <td>Just got back home form here and couldn t wait...</td>\n",
              "    </tr>\n",
              "    <tr>\n",
              "      <th>3</th>\n",
              "      <td>Came here for lunch with a friend last Saturda...</td>\n",
              "      <td>5.0</td>\n",
              "      <td>Came here for lunch with a friend last Saturda...</td>\n",
              "      <td>Came here for lunch with a friend last Saturda...</td>\n",
              "    </tr>\n",
              "    <tr>\n",
              "      <th>4</th>\n",
              "      <td>Good food but terrible service.  have been her...</td>\n",
              "      <td>2.0</td>\n",
              "      <td>Good food but terrible service   have been her...</td>\n",
              "      <td>Good food but terrible service   have been her...</td>\n",
              "    </tr>\n",
              "    <tr>\n",
              "      <th>5</th>\n",
              "      <td>This has to be the worst Mexican food ever.  I...</td>\n",
              "      <td>1.0</td>\n",
              "      <td>This has to be the worst Mexican food ever   I...</td>\n",
              "      <td>This has to be the worst Mexican food ever   I...</td>\n",
              "    </tr>\n",
              "    <tr>\n",
              "      <th>6</th>\n",
              "      <td>Husband and I went to see Tina Martini a few w...</td>\n",
              "      <td>5.0</td>\n",
              "      <td>Husband and I went to see Tina Martini a few w...</td>\n",
              "      <td>Husband and I went to see Tina Martini a few w...</td>\n",
              "    </tr>\n",
              "    <tr>\n",
              "      <th>7</th>\n",
              "      <td>The food was pretty good... I had jerk chicken...</td>\n",
              "      <td>4.0</td>\n",
              "      <td>The food was pretty good    I had jerk chicken...</td>\n",
              "      <td>The food was pretty good    I had jerk chicken...</td>\n",
              "    </tr>\n",
              "    <tr>\n",
              "      <th>8</th>\n",
              "      <td>Great food!! Loved the environment and the sur...</td>\n",
              "      <td>5.0</td>\n",
              "      <td>Great food   Loved the environment and the sur...</td>\n",
              "      <td>Great food   Loved the environment and the sur...</td>\n",
              "    </tr>\n",
              "    <tr>\n",
              "      <th>9</th>\n",
              "      <td>The most relaxing pedicure I have ever had. KL...</td>\n",
              "      <td>5.0</td>\n",
              "      <td>The most relaxing pedicure I have ever had  KL...</td>\n",
              "      <td>The most relaxing pedicure I have ever had  KL...</td>\n",
              "    </tr>\n",
              "  </tbody>\n",
              "</table>\n",
              "</div>"
            ],
            "text/plain": [
              "                                            Response  ...                                     Remove numbers\n",
              "0  Exceptional customer service by your service d...  ...  Exceptional customer service by your service d...\n",
              "1  I decided to check out downtown Pittsburgh on ...  ...  I decided to check out downtown Pittsburgh on ...\n",
              "2  Just got back home form here and couldn't wait...  ...  Just got back home form here and couldn t wait...\n",
              "3  Came here for lunch with a friend last Saturda...  ...  Came here for lunch with a friend last Saturda...\n",
              "4  Good food but terrible service.  have been her...  ...  Good food but terrible service   have been her...\n",
              "5  This has to be the worst Mexican food ever.  I...  ...  This has to be the worst Mexican food ever   I...\n",
              "6  Husband and I went to see Tina Martini a few w...  ...  Husband and I went to see Tina Martini a few w...\n",
              "7  The food was pretty good... I had jerk chicken...  ...  The food was pretty good    I had jerk chicken...\n",
              "8  Great food!! Loved the environment and the sur...  ...  Great food   Loved the environment and the sur...\n",
              "9  The most relaxing pedicure I have ever had. KL...  ...  The most relaxing pedicure I have ever had  KL...\n",
              "\n",
              "[10 rows x 4 columns]"
            ]
          },
          "metadata": {
            "tags": []
          },
          "execution_count": 54
        }
      ]
    },
    {
      "cell_type": "code",
      "metadata": {
        "id": "FIIBcfAxM4Fw"
      },
      "source": [
        "import numpy as np\n",
        "\n"
      ],
      "execution_count": 58,
      "outputs": []
    },
    {
      "cell_type": "code",
      "metadata": {
        "id": "M2dk1SxKNP7T"
      },
      "source": [
        "from sklearn.feature_extraction.text import CountVectorizer\n",
        "vector = CountVectorizer(stop_words='english')\n",
        "K = vector.fit_transform(json_df['Response'].head(500).values).toarray()"
      ],
      "execution_count": 60,
      "outputs": []
    },
    {
      "cell_type": "code",
      "metadata": {
        "id": "bBNw7-JyNgEN",
        "outputId": "b52fe0f1-3cfd-4ee5-d00f-4d558d3756e0",
        "colab": {
          "base_uri": "https://localhost:8080/"
        }
      },
      "source": [
        "pip install biterm\n"
      ],
      "execution_count": 62,
      "outputs": [
        {
          "output_type": "stream",
          "text": [
            "Collecting biterm\n",
            "\u001b[?25l  Downloading https://files.pythonhosted.org/packages/36/ca/5a43511e6ea8ca02cc9e8be1b8898ad79b140c055d4400342dc210ba23bb/biterm-0.1.5.tar.gz (79kB)\n",
            "\r\u001b[K     |████▏                           | 10kB 14.7MB/s eta 0:00:01\r\u001b[K     |████████▎                       | 20kB 18.8MB/s eta 0:00:01\r\u001b[K     |████████████▍                   | 30kB 15.4MB/s eta 0:00:01\r\u001b[K     |████████████████▌               | 40kB 11.2MB/s eta 0:00:01\r\u001b[K     |████████████████████▋           | 51kB 8.2MB/s eta 0:00:01\r\u001b[K     |████████████████████████▊       | 61kB 8.4MB/s eta 0:00:01\r\u001b[K     |████████████████████████████▉   | 71kB 8.5MB/s eta 0:00:01\r\u001b[K     |████████████████████████████████| 81kB 4.7MB/s \n",
            "\u001b[?25hRequirement already satisfied: numpy in /usr/local/lib/python3.6/dist-packages (from biterm) (1.18.5)\n",
            "Requirement already satisfied: tqdm in /usr/local/lib/python3.6/dist-packages (from biterm) (4.41.1)\n",
            "Requirement already satisfied: cython in /usr/local/lib/python3.6/dist-packages (from biterm) (0.29.21)\n",
            "Requirement already satisfied: nltk in /usr/local/lib/python3.6/dist-packages (from biterm) (3.2.5)\n",
            "Requirement already satisfied: six in /usr/local/lib/python3.6/dist-packages (from nltk->biterm) (1.15.0)\n",
            "Building wheels for collected packages: biterm\n",
            "  Building wheel for biterm (setup.py) ... \u001b[?25l\u001b[?25hdone\n",
            "  Created wheel for biterm: filename=biterm-0.1.5-cp36-cp36m-linux_x86_64.whl size=195429 sha256=373dc5a2f43684d75d082a0531fce862e64cd28080d63e090cb6f74c9eb1c0e4\n",
            "  Stored in directory: /root/.cache/pip/wheels/86/04/10/231fb1d39d86ab58c2683fd3d4fe8415a5bc284ba8a20fd638\n",
            "Successfully built biterm\n",
            "Installing collected packages: biterm\n",
            "Successfully installed biterm-0.1.5\n"
          ],
          "name": "stdout"
        }
      ]
    },
    {
      "cell_type": "code",
      "metadata": {
        "id": "9MG4kB6aNZvG"
      },
      "source": [
        "from biterm.utility import vec_to_biterms\n",
        "vocabulary = np.array(vector.get_feature_names())\n",
        "biterms_ = vec_to_biterms(K)"
      ],
      "execution_count": 68,
      "outputs": []
    },
    {
      "cell_type": "code",
      "metadata": {
        "id": "Wmiguwr7N7WN",
        "outputId": "5afaafdc-b5bd-454d-cb42-c6f3bc4d32f4",
        "colab": {
          "base_uri": "https://localhost:8080/"
        }
      },
      "source": [
        "from biterm.btm import oBTM\n",
        "V_btm = oBTM(num_topics=20, V=vocabulary)\n",
        "Y_topics = V_btm.fit_transform(biterms_, iterations=10)"
      ],
      "execution_count": 71,
      "outputs": [
        {
          "output_type": "stream",
          "text": [
            "\n",
            "  0%|          | 0/10 [00:00<?, ?it/s]\u001b[A\n",
            " 10%|█         | 1/10 [04:36<41:30, 276.73s/it]\u001b[A\n",
            " 20%|██        | 2/10 [09:12<36:52, 276.51s/it]\u001b[A\n",
            " 30%|███       | 3/10 [13:48<32:14, 276.33s/it]\u001b[A\n",
            " 40%|████      | 4/10 [18:24<27:36, 276.11s/it]\u001b[A\n",
            " 50%|█████     | 5/10 [23:00<23:00, 276.09s/it]\u001b[A\n",
            " 60%|██████    | 6/10 [27:35<18:23, 275.96s/it]\u001b[A\n",
            " 70%|███████   | 7/10 [32:12<13:48, 276.10s/it]\u001b[A\n",
            " 80%|████████  | 8/10 [36:48<09:12, 276.00s/it]\u001b[A\n",
            " 90%|█████████ | 9/10 [41:23<04:35, 275.96s/it]\u001b[A\n",
            "100%|██████████| 10/10 [45:59<00:00, 275.97s/it]\n",
            "/usr/local/lib/python3.6/dist-packages/biterm/btm.py:76: RuntimeWarning: invalid value encountered in true_divide\n",
            "  P_zd[i] = P_zb.sum(axis=0) / P_zb.sum(axis=0).sum()\n"
          ],
          "name": "stderr"
        }
      ]
    },
    {
      "cell_type": "code",
      "metadata": {
        "id": "dLXO6fbNkqef"
      },
      "source": [
        "from pprint import pprint\n",
        "# Gensim\n",
        "import gensim\n",
        "import gensim.corpora as corpora\n",
        "from gensim.utils import simple_preprocess\n",
        "from gensim.models import CoherenceModel"
      ],
      "execution_count": 140,
      "outputs": []
    },
    {
      "cell_type": "code",
      "metadata": {
        "id": "pQw4esFjkvKV"
      },
      "source": [
        "# spacy for lemmatization\n",
        "import spacy\n",
        "# Plotting tools\n",
        "import pyLDAvis\n",
        "import pyLDAvis.gensim  # don't skip this\n",
        "import matplotlib.pyplot as plt\n",
        "%matplotlib inline"
      ],
      "execution_count": 141,
      "outputs": []
    },
    {
      "cell_type": "code",
      "metadata": {
        "id": "fBqos0Zsk0_8"
      },
      "source": [
        "import logging\n",
        "logging.basicConfig(format='%(asctime)s : %(levelname)s : %(message)s', level=logging.ERROR)\n",
        "import warnings\n",
        "warnings.filterwarnings(\"ignore\",category=DeprecationWarning)"
      ],
      "execution_count": 142,
      "outputs": []
    },
    {
      "cell_type": "code",
      "metadata": {
        "id": "RhFpttSRklXw"
      },
      "source": [
        "from nltk.corpus import stopwords\n",
        "stop_words = stopwords.words('english')\n",
        "stop_words.extend(['from', 'subject', 're', 'edu', 'use'])"
      ],
      "execution_count": 139,
      "outputs": []
    },
    {
      "cell_type": "code",
      "metadata": {
        "id": "acZ6FjkllANl",
        "outputId": "9b3da53d-f58f-4c33-828d-f586518ae218",
        "colab": {
          "base_uri": "https://localhost:8080/"
        }
      },
      "source": [
        "def words_sent(statement):\n",
        "    for statement in statement:\n",
        "        yield(gensim.utils.simple_preprocess(str(statement), deacc=True)) \n",
        "\n",
        "data_words = list(words_sent(json_data))\n",
        "\n",
        "data_words[:1]"
      ],
      "execution_count": 145,
      "outputs": [
        {
          "output_type": "execute_result",
          "data": {
            "text/plain": [
              "[['exceptional',\n",
              "  'customer',\n",
              "  'service',\n",
              "  'by',\n",
              "  'your',\n",
              "  'service',\n",
              "  'department',\n",
              "  'my',\n",
              "  'advisor',\n",
              "  'ray',\n",
              "  'was',\n",
              "  'courteous',\n",
              "  'efficient',\n",
              "  'and',\n",
              "  'knowledgeable',\n",
              "  'the',\n",
              "  'lounge',\n",
              "  'was',\n",
              "  'comfortable',\n",
              "  'and',\n",
              "  'well',\n",
              "  'stocked',\n",
              "  'with',\n",
              "  'refreshments',\n",
              "  'exceptional',\n",
              "  'customer',\n",
              "  'service',\n",
              "  'by',\n",
              "  'your',\n",
              "  'service',\n",
              "  'department',\n",
              "  'my',\n",
              "  'advisor',\n",
              "  'ray',\n",
              "  'was',\n",
              "  'courteous',\n",
              "  'efficient',\n",
              "  'and',\n",
              "  'knowledgeable',\n",
              "  'the',\n",
              "  'lounge',\n",
              "  'was',\n",
              "  'comfortable',\n",
              "  'and',\n",
              "  'well',\n",
              "  'stocked',\n",
              "  'with',\n",
              "  'refreshments',\n",
              "  'exceptional',\n",
              "  'customer',\n",
              "  'service',\n",
              "  'by',\n",
              "  'your',\n",
              "  'service',\n",
              "  'department',\n",
              "  'my',\n",
              "  'advisor',\n",
              "  'ray',\n",
              "  'was',\n",
              "  'courteous',\n",
              "  'efficient',\n",
              "  'and',\n",
              "  'knowledgeable',\n",
              "  'the',\n",
              "  'lounge',\n",
              "  'was',\n",
              "  'comfortable',\n",
              "  'and',\n",
              "  'well',\n",
              "  'stocked',\n",
              "  'with',\n",
              "  'refreshments',\n",
              "  'very',\n",
              "  'positive',\n",
              "  'very',\n",
              "  'positive',\n",
              "  'exceptional',\n",
              "  'customer',\n",
              "  'service',\n",
              "  'by',\n",
              "  'your',\n",
              "  'service',\n",
              "  'department',\n",
              "  'my',\n",
              "  'advisor',\n",
              "  'ray',\n",
              "  'was',\n",
              "  'courteous',\n",
              "  'efficient',\n",
              "  'and',\n",
              "  'knowledgeable',\n",
              "  'the',\n",
              "  'lounge',\n",
              "  'was',\n",
              "  'comfortable',\n",
              "  'and',\n",
              "  'well',\n",
              "  'stocked',\n",
              "  'with',\n",
              "  'refreshments']]"
            ]
          },
          "metadata": {
            "tags": []
          },
          "execution_count": 145
        }
      ]
    },
    {
      "cell_type": "code",
      "metadata": {
        "id": "xn-qZcFZldzn",
        "outputId": "21ad9170-2e6a-482c-926c-70b007707ea4",
        "colab": {
          "base_uri": "https://localhost:8080/"
        }
      },
      "source": [
        "# trigram models\n",
        "model_bigram = gensim.models.Phrases(data_words, min_count=6, threshold=80) \n",
        "model_trigram = gensim.models.Phrases(model_bigram[data_words], threshold=80)  \n",
        "\n",
        "# sentence for clubbing as a trigram/bigram\n",
        "model_bigram_mod = gensim.models.phrases.Phraser(model_bigram)\n",
        "model_trigram_mod = gensim.models.phrases.Phraser(model_trigram)\n",
        "\n",
        "\n",
        "model_trigram_mod[model_bigram_mod[data_words[0]]]"
      ],
      "execution_count": 149,
      "outputs": [
        {
          "output_type": "stream",
          "text": [
            "/usr/local/lib/python3.6/dist-packages/gensim/models/phrases.py:598: UserWarning: For a faster implementation, use the gensim.models.phrases.Phraser class\n",
            "  warnings.warn(\"For a faster implementation, use the gensim.models.phrases.Phraser class\")\n"
          ],
          "name": "stderr"
        },
        {
          "output_type": "execute_result",
          "data": {
            "text/plain": [
              "['exceptional',\n",
              " 'customer',\n",
              " 'service',\n",
              " 'by',\n",
              " 'your',\n",
              " 'service',\n",
              " 'department',\n",
              " 'my',\n",
              " 'advisor',\n",
              " 'ray',\n",
              " 'was',\n",
              " 'courteous',\n",
              " 'efficient',\n",
              " 'and',\n",
              " 'knowledgeable',\n",
              " 'the',\n",
              " 'lounge',\n",
              " 'was',\n",
              " 'comfortable',\n",
              " 'and',\n",
              " 'well',\n",
              " 'stocked',\n",
              " 'with',\n",
              " 'refreshments',\n",
              " 'exceptional',\n",
              " 'customer',\n",
              " 'service',\n",
              " 'by',\n",
              " 'your',\n",
              " 'service',\n",
              " 'department',\n",
              " 'my',\n",
              " 'advisor',\n",
              " 'ray',\n",
              " 'was',\n",
              " 'courteous',\n",
              " 'efficient',\n",
              " 'and',\n",
              " 'knowledgeable',\n",
              " 'the',\n",
              " 'lounge',\n",
              " 'was',\n",
              " 'comfortable',\n",
              " 'and',\n",
              " 'well',\n",
              " 'stocked',\n",
              " 'with',\n",
              " 'refreshments',\n",
              " 'exceptional',\n",
              " 'customer',\n",
              " 'service',\n",
              " 'by',\n",
              " 'your',\n",
              " 'service',\n",
              " 'department',\n",
              " 'my',\n",
              " 'advisor',\n",
              " 'ray',\n",
              " 'was',\n",
              " 'courteous',\n",
              " 'efficient',\n",
              " 'and',\n",
              " 'knowledgeable',\n",
              " 'the',\n",
              " 'lounge',\n",
              " 'was',\n",
              " 'comfortable',\n",
              " 'and',\n",
              " 'well',\n",
              " 'stocked',\n",
              " 'with',\n",
              " 'refreshments',\n",
              " 'very',\n",
              " 'positive',\n",
              " 'very',\n",
              " 'positive',\n",
              " 'exceptional',\n",
              " 'customer',\n",
              " 'service',\n",
              " 'by',\n",
              " 'your',\n",
              " 'service',\n",
              " 'department',\n",
              " 'my',\n",
              " 'advisor',\n",
              " 'ray',\n",
              " 'was',\n",
              " 'courteous',\n",
              " 'efficient',\n",
              " 'and',\n",
              " 'knowledgeable',\n",
              " 'the',\n",
              " 'lounge',\n",
              " 'was',\n",
              " 'comfortable',\n",
              " 'and',\n",
              " 'well',\n",
              " 'stocked',\n",
              " 'with',\n",
              " 'refreshments']"
            ]
          },
          "metadata": {
            "tags": []
          },
          "execution_count": 149
        }
      ]
    },
    {
      "cell_type": "code",
      "metadata": {
        "id": "QinwPfDbmtRA"
      },
      "source": [
        "def stopwords_removing(texts):\n",
        "    return [[word for word in simple_preprocess(str(doc)) if word not in stop_words] for doc in texts]\n",
        "\n",
        "def model_make_bigrams(texts):\n",
        "    return [model_bigram_mod[doc] for doc in texts]\n",
        "\n",
        "def model_make_trigrams(texts):\n",
        "    return [model_trigram_mod[model_bigram_mod[doc]] for doc in texts]"
      ],
      "execution_count": 150,
      "outputs": []
    },
    {
      "cell_type": "code",
      "metadata": {
        "id": "K2_jaENsoEkX"
      },
      "source": [
        "def lemmatization(texts, allowed_postags=['NOUN', 'ADJ', 'VERB', 'ADV']):\n",
        "    \"\"\"https://spacy.io/api/annotation\"\"\"\n",
        "    output = []\n",
        "    for trail in texts:\n",
        "        docu = nlp(\" \".join(trail)) \n",
        "        output.append([token.lemma_ for token in docu if token.pos_ in allowed_postags])\n",
        "    return output"
      ],
      "execution_count": 163,
      "outputs": []
    },
    {
      "cell_type": "code",
      "metadata": {
        "id": "2XTV1slanAlz"
      },
      "source": [
        "\n",
        "data_wordsnostops = stopwords_removing(data_words)\n",
        "data_wordsbigrams = model_make_bigrams(data_wordsnostops)\n",
        "nlp = spacy.load('en', disable=['parser', 'ner'])\n"
      ],
      "execution_count": 164,
      "outputs": []
    },
    {
      "cell_type": "code",
      "metadata": {
        "id": "0FmD12Dzo7Ig"
      },
      "source": [
        "datalemmatizatiom = lemmatization(data_wordsbigrams, allowed_postags=['NOUN', 'ADJ', 'VERB', 'ADV'])\n"
      ],
      "execution_count": 167,
      "outputs": []
    },
    {
      "cell_type": "markdown",
      "metadata": {
        "id": "AfpMRCrRwN6Z"
      },
      "source": [
        "# **Question 2: Yelp Review Sentiment Analysis**"
      ]
    },
    {
      "cell_type": "markdown",
      "metadata": {
        "id": "1dCQEbDawWCw"
      },
      "source": [
        "(30 points). Sentiment analysis also known as opinion mining is a sub field within Natural Language Processing (NLP) that builds machine learning algorithms to classify a text according to the sentimental polarities of opinions it contains, e.g., positive, negative, neutral. The purpose of this question is to develop a machine learning classifier for sentiment analysis. Based on the dataset from assignment three, write a python program to implement a sentiment classifier and evaluate its performance. Notice: **80% data for training and 20% data for testing**.\n",
        "\n",
        "The data can be download from Dropbox: https://www.dropbox.com/s/59hsrk56sfwh9u2/Assignment%20four%20data%20Yelp%20%28question%201%20and%202%29.zip?dl=0 \n",
        "\n",
        "The data was saved in json format, here is an example of the data (for this task, you only need to use the star rating and the review text fields):\n",
        "\n",
        "{\n",
        "    // string, 22 character unique review id\n",
        "    \"review_id\": \"zdSx_SD6obEhz9VrW9uAWA\",\n",
        "\n",
        "    // string, 22 character unique user id, maps to the user in user.json\n",
        "    \"user_id\": \"Ha3iJu77CxlrFm-vQRs_8g\",\n",
        "\n",
        "    // string, 22 character business id, maps to business in business.json\n",
        "    \"business_id\": \"tnhfDv5Il8EaGSXZGiuQGg\",\n",
        "\n",
        "    // integer, star rating\n",
        "    \"stars\": 4,\n",
        "\n",
        "    // string, date formatted YYYY-MM-DD\n",
        "    \"date\": \"2016-03-09\",\n",
        "\n",
        "    // string, the review itself\n",
        "    \"text\": \"Great place to hang out after work: the prices are decent, and the ambience is fun. It's a bit loud, but very lively. The staff is friendly, and the food is good. They have a good selection of drinks.\",\n",
        "\n",
        "    // integer, number of useful votes received\n",
        "    \"useful\": 0,\n",
        "\n",
        "    // integer, number of funny votes received\n",
        "    \"funny\": 0,\n",
        "\n",
        "    // integer, number of cool votes received\n",
        "    \"cool\": 0\n",
        "}\n",
        "\n",
        "The sentiment of can be accessed based on the star rating, if no star information avaliable for a record, just remove that record. Detail star and sentiment level can be matched blew:\n",
        "\n",
        "Very positive = 5 stars\n",
        "\n",
        "Positive = 4 stars\n",
        "\n",
        "Neutral = 3 stars\n",
        "\n",
        "Negative = 2 stars\n",
        "\n",
        "Very negative = 1 star\n",
        "\n",
        "Here is code for yelp data preprocessing: https://github.com/Yelp/dataset-examples. \n",
        "\n",
        "Answer the following questions:\n",
        "\n",
        "(1) Features used for sentiment classification and explain why you select these features (tf-idf, sentiment lexicon, word2vec, etc). Considering achieve the best performance as you can. \n",
        "\n",
        "(2) Select two of the supervised learning algorithm from scikit-learn library: https://scikit-learn.org/stable/supervised_learning.html#supervised-learning, to build a sentiment classifier respectively. \n",
        "\n",
        "(3) Compare the performance over accuracy, precision, recall, and F1 score for the two algorithms you selected. Here is the reference of how to calculate these metrics: https://towardsdatascience.com/accuracy-precision-recall-or-f1-331fb37c5cb9. "
      ]
    },
    {
      "cell_type": "code",
      "metadata": {
        "colab": {
          "base_uri": "https://localhost:8080/"
        },
        "id": "vATjQNTY8buA",
        "outputId": "a277020f-f15e-46bb-8524-f781afb108fd"
      },
      "source": [
        "# Write your code here\n",
        "\n",
        "import pandas as pd\n",
        "import numpy as np\n",
        "import matplotlib.pyplot as plt\n",
        "%matplotlib inline\n",
        "import datascience\n",
        "import seaborn as sns\n",
        "from stop_words import  get_stop_words\n",
        "stop_words = get_stop_words('en')\n",
        "\n",
        "\n",
        "\n"
      ],
      "execution_count": 72,
      "outputs": [
        {
          "output_type": "stream",
          "text": [
            "/usr/local/lib/python3.6/dist-packages/datascience/tables.py:17: MatplotlibDeprecationWarning: The 'warn' parameter of use() is deprecated since Matplotlib 3.1 and will be removed in 3.3.  If any parameter follows 'warn', they should be pass as keyword, not positionally.\n",
            "  matplotlib.use('agg', warn=False)\n",
            "/usr/local/lib/python3.6/dist-packages/datascience/util.py:10: MatplotlibDeprecationWarning: The 'warn' parameter of use() is deprecated since Matplotlib 3.1 and will be removed in 3.3.  If any parameter follows 'warn', they should be pass as keyword, not positionally.\n",
            "  matplotlib.use('agg', warn=False)\n"
          ],
          "name": "stderr"
        }
      ]
    },
    {
      "cell_type": "code",
      "metadata": {
        "id": "q5w80zZ7btM3",
        "outputId": "fd89ca80-c23e-4b41-c085-28b96ca2ed4e",
        "colab": {
          "base_uri": "https://localhost:8080/",
          "height": 306
        }
      },
      "source": [
        "\n",
        "def classification_sentiment(stars):\n",
        "    if stars == 5:\n",
        "      return 'Very Very Positive'\n",
        "    elif stars == 4:\n",
        "      return 'Very Positive'\n",
        "    elif stars == 3:\n",
        "      return 'Neutral'\n",
        "    elif stars == 2:\n",
        "      return 'Very Negative'\n",
        "    elif stars == 1:\n",
        "      return 'Very Very Negative'\n",
        "\n",
        "level = json_df['Ratings'].map(classification_sentiment)\n",
        "json_df['Level'] = level\n",
        "json_df.head(5)"
      ],
      "execution_count": 77,
      "outputs": [
        {
          "output_type": "execute_result",
          "data": {
            "text/html": [
              "<div>\n",
              "<style scoped>\n",
              "    .dataframe tbody tr th:only-of-type {\n",
              "        vertical-align: middle;\n",
              "    }\n",
              "\n",
              "    .dataframe tbody tr th {\n",
              "        vertical-align: top;\n",
              "    }\n",
              "\n",
              "    .dataframe thead th {\n",
              "        text-align: right;\n",
              "    }\n",
              "</style>\n",
              "<table border=\"1\" class=\"dataframe\">\n",
              "  <thead>\n",
              "    <tr style=\"text-align: right;\">\n",
              "      <th></th>\n",
              "      <th>Response</th>\n",
              "      <th>Ratings</th>\n",
              "      <th>After noise removal</th>\n",
              "      <th>Remove numbers</th>\n",
              "      <th>Sentiment Level</th>\n",
              "      <th>Level</th>\n",
              "    </tr>\n",
              "  </thead>\n",
              "  <tbody>\n",
              "    <tr>\n",
              "      <th>0</th>\n",
              "      <td>Exceptional customer service by your service d...</td>\n",
              "      <td>5.0</td>\n",
              "      <td>Exceptional customer service by your service d...</td>\n",
              "      <td>Exceptional customer service by your service d...</td>\n",
              "      <td>Very Positive</td>\n",
              "      <td>Very Positive</td>\n",
              "    </tr>\n",
              "    <tr>\n",
              "      <th>1</th>\n",
              "      <td>I decided to check out downtown Pittsburgh on ...</td>\n",
              "      <td>3.0</td>\n",
              "      <td>I decided to check out downtown Pittsburgh on ...</td>\n",
              "      <td>I decided to check out downtown Pittsburgh on ...</td>\n",
              "      <td>Neutral</td>\n",
              "      <td>Neutral</td>\n",
              "    </tr>\n",
              "    <tr>\n",
              "      <th>2</th>\n",
              "      <td>Just got back home form here and couldn't wait...</td>\n",
              "      <td>5.0</td>\n",
              "      <td>Just got back home form here and couldn t wait...</td>\n",
              "      <td>Just got back home form here and couldn t wait...</td>\n",
              "      <td>Very Positive</td>\n",
              "      <td>Very Positive</td>\n",
              "    </tr>\n",
              "    <tr>\n",
              "      <th>3</th>\n",
              "      <td>Came here for lunch with a friend last Saturda...</td>\n",
              "      <td>5.0</td>\n",
              "      <td>Came here for lunch with a friend last Saturda...</td>\n",
              "      <td>Came here for lunch with a friend last Saturda...</td>\n",
              "      <td>Very Positive</td>\n",
              "      <td>Very Positive</td>\n",
              "    </tr>\n",
              "    <tr>\n",
              "      <th>4</th>\n",
              "      <td>Good food but terrible service.  have been her...</td>\n",
              "      <td>2.0</td>\n",
              "      <td>Good food but terrible service   have been her...</td>\n",
              "      <td>Good food but terrible service   have been her...</td>\n",
              "      <td>Negative</td>\n",
              "      <td>Negative</td>\n",
              "    </tr>\n",
              "  </tbody>\n",
              "</table>\n",
              "</div>"
            ],
            "text/plain": [
              "                                            Response  ...          Level\n",
              "0  Exceptional customer service by your service d...  ...  Very Positive\n",
              "1  I decided to check out downtown Pittsburgh on ...  ...        Neutral\n",
              "2  Just got back home form here and couldn't wait...  ...  Very Positive\n",
              "3  Came here for lunch with a friend last Saturda...  ...  Very Positive\n",
              "4  Good food but terrible service.  have been her...  ...       Negative\n",
              "\n",
              "[5 rows x 6 columns]"
            ]
          },
          "metadata": {
            "tags": []
          },
          "execution_count": 77
        }
      ]
    },
    {
      "cell_type": "code",
      "metadata": {
        "id": "I6KzU-E7b-pf",
        "outputId": "965a620f-18e4-432b-ef66-47cc7bd236ba",
        "colab": {
          "base_uri": "https://localhost:8080/"
        }
      },
      "source": [
        "count = json_df['Level'].value_counts()\n",
        "count"
      ],
      "execution_count": 78,
      "outputs": [
        {
          "output_type": "execute_result",
          "data": {
            "text/plain": [
              "Very Positive    1369\n",
              "Positive          680\n",
              "Very Negative     385\n",
              "Neutral           329\n",
              "Negative          237\n",
              "Name: Level, dtype: int64"
            ]
          },
          "metadata": {
            "tags": []
          },
          "execution_count": 78
        }
      ]
    },
    {
      "cell_type": "code",
      "metadata": {
        "id": "jMHdu6WrctUs"
      },
      "source": [
        "\n",
        "p = sns.countplot(data=json_df, x = 'Level', edgecolor=(0,0,0))"
      ],
      "execution_count": 81,
      "outputs": []
    },
    {
      "cell_type": "code",
      "metadata": {
        "id": "tFAoq-APc7Xn",
        "outputId": "0a63d92f-6370-4a18-c76d-ec055f9e6d4b",
        "colab": {
          "base_uri": "https://localhost:8080/"
        }
      },
      "source": [
        "# Special characters removal\n",
        "json_df['After noise removal'] = json_df['Response'].apply(lambda x: ''.join(re.sub(r\"[^a-zA-Z0-9]+\", ' ', charctr) for charctr in x ))\n",
        "\n",
        "# removal of punctuation\n",
        "json_df['Punctuation removal'] = json_df['After noise removal'].str.replace('[^\\w\\s]','')\n",
        "\n",
        "# Removal of numbers\n",
        "json_df['Remove numbers'] = json_df['Punctuation removal'].str.replace('\\d+', '')"
      ],
      "execution_count": 84,
      "outputs": [
        {
          "output_type": "stream",
          "text": [
            "<input>:5: DeprecationWarning: invalid escape sequence \\w\n",
            "<input>:5: DeprecationWarning: invalid escape sequence \\w\n",
            "<input>:5: DeprecationWarning: invalid escape sequence \\w\n",
            "<input>:5: DeprecationWarning: invalid escape sequence \\w\n",
            "<input>:5: DeprecationWarning: invalid escape sequence \\w\n",
            "<input>:5: DeprecationWarning: invalid escape sequence \\w\n",
            "<input>:5: DeprecationWarning: invalid escape sequence \\w\n",
            "<input>:5: DeprecationWarning: invalid escape sequence \\w\n",
            "<input>:5: DeprecationWarning: invalid escape sequence \\w\n",
            "<input>:5: DeprecationWarning: invalid escape sequence \\w\n",
            "<input>:8: DeprecationWarning: invalid escape sequence \\d\n",
            "<input>:5: DeprecationWarning: invalid escape sequence \\w\n",
            "<input>:8: DeprecationWarning: invalid escape sequence \\d\n",
            "<input>:5: DeprecationWarning: invalid escape sequence \\w\n",
            "<input>:8: DeprecationWarning: invalid escape sequence \\d\n",
            "<ipython-input-84-17bdf6b18ea1>:5: DeprecationWarning: invalid escape sequence \\w\n",
            "  json_df['Punctuation removal'] = json_df['After noise removal'].str.replace('[^\\w\\s]','')\n",
            "<ipython-input-84-17bdf6b18ea1>:8: DeprecationWarning: invalid escape sequence \\d\n",
            "  json_df['Remove numbers'] = json_df['Punctuation removal'].str.replace('\\d+', '')\n"
          ],
          "name": "stderr"
        }
      ]
    },
    {
      "cell_type": "code",
      "metadata": {
        "id": "wkZEowt-cyNb"
      },
      "source": [
        "from sklearn.feature_extraction.text import TfidfVectorizer\n",
        "from sklearn.preprocessing import LabelEncoder\n",
        "from sklearn.metrics import accuracy_score\n",
        "from sklearn.metrics import classification_report\n",
        "from sklearn import svm\n",
        "from sklearn import model_selection\n",
        "from sklearn import naive_bayes"
      ],
      "execution_count": 85,
      "outputs": []
    },
    {
      "cell_type": "code",
      "metadata": {
        "id": "CV9IP0GqdWey"
      },
      "source": [
        "tfidf_vect = TfidfVectorizer()\n",
        "encoder = LabelEncoder()\n",
        "k = tfidf_vect.fit_transform(json_df['Response'].values)"
      ],
      "execution_count": 87,
      "outputs": []
    },
    {
      "cell_type": "code",
      "metadata": {
        "id": "s8QZ-O_Jdbzt"
      },
      "source": [
        "xtrain, xvalid, ytrain, yvalid = model_selection.train_test_split(k, json_df['Ratings'],test_size=0.2)"
      ],
      "execution_count": 93,
      "outputs": []
    },
    {
      "cell_type": "code",
      "metadata": {
        "id": "vB0kpGDvdfQu"
      },
      "source": [
        "def modeltraining(model_intializer):\n",
        "  trainingmodel = model_intializer\n",
        "  trainingmodel.fit(xtrain, ytrain)\n",
        "  predicted = trainingmodel.predict(xvalid)\n",
        "  accuracy = accuracy_score(yvalid, predicted)\n",
        "  print(\"data accuracy for training: {0}\".format(accuracy))\n",
        "  classification_report(yvalid, predicted)"
      ],
      "execution_count": 105,
      "outputs": []
    },
    {
      "cell_type": "code",
      "metadata": {
        "id": "NDGgy5qMd7bl",
        "outputId": "729f6afb-ef99-4eb7-a636-0d3f2962062b",
        "colab": {
          "base_uri": "https://localhost:8080/"
        }
      },
      "source": [
        "modeltraining(naive_bayes.MultinomialNB())"
      ],
      "execution_count": 106,
      "outputs": [
        {
          "output_type": "stream",
          "text": [
            "data accuracy for training: 0.465\n"
          ],
          "name": "stdout"
        },
        {
          "output_type": "stream",
          "text": [
            "/usr/local/lib/python3.6/dist-packages/sklearn/metrics/_classification.py:1272: UndefinedMetricWarning: Precision and F-score are ill-defined and being set to 0.0 in labels with no predicted samples. Use `zero_division` parameter to control this behavior.\n",
            "  _warn_prf(average, modifier, msg_start, len(result))\n"
          ],
          "name": "stderr"
        }
      ]
    },
    {
      "cell_type": "code",
      "metadata": {
        "id": "A9BUPs_QeCdu",
        "outputId": "11bcceaa-b329-4f71-d078-b3c7b490084f",
        "colab": {
          "base_uri": "https://localhost:8080/"
        }
      },
      "source": [
        "modeltraining(svm.SVC())"
      ],
      "execution_count": 96,
      "outputs": [
        {
          "output_type": "stream",
          "text": [
            "data accuracy for training: 0.545\n"
          ],
          "name": "stdout"
        },
        {
          "output_type": "stream",
          "text": [
            "/usr/local/lib/python3.6/dist-packages/sklearn/metrics/_classification.py:1272: UndefinedMetricWarning: Precision and F-score are ill-defined and being set to 0.0 in labels with no predicted samples. Use `zero_division` parameter to control this behavior.\n",
            "  _warn_prf(average, modifier, msg_start, len(result))\n"
          ],
          "name": "stderr"
        }
      ]
    },
    {
      "cell_type": "markdown",
      "metadata": {
        "id": "E5mmYIfN8eYV"
      },
      "source": [
        "# **Question 3: House price prediction**"
      ]
    },
    {
      "cell_type": "markdown",
      "metadata": {
        "id": "hsi2y4z88ngX"
      },
      "source": [
        "(40 points). You are required to build a **regression** model to predict the house price with 79 explanatory variables describing (almost) every aspect of residential homes. The purpose of this question is to practice regression analysis, an supervised learning model. The training data, testing data, and data description files can be download from Dropbox: https://www.dropbox.com/s/52j9hpxppfo921o/assignment4-question3-data.zip?dl=0. Here is an axample for the implementation: https://towardsdatascience.com/linear-regression-in-python-predict-the-bay-areas-home-price-5c91c8378878. \n"
      ]
    },
    {
      "cell_type": "code",
      "metadata": {
        "id": "XfvMKJjIXS5G"
      },
      "source": [
        "# Write your code here\n",
        "import pandas as pd\n",
        "learning = pd.read_csv('/content/train.csv')\n",
        "examining = pd.read_csv('/content/test.csv')"
      ],
      "execution_count": 109,
      "outputs": []
    },
    {
      "cell_type": "code",
      "metadata": {
        "id": "NMq0u3aBgVxZ",
        "outputId": "2d10f30e-cb5a-4cc7-d9b7-f190db33e3c8",
        "colab": {
          "base_uri": "https://localhost:8080/",
          "height": 317
        }
      },
      "source": [
        "learning.describe()\n"
      ],
      "execution_count": 112,
      "outputs": [
        {
          "output_type": "execute_result",
          "data": {
            "text/html": [
              "<div>\n",
              "<style scoped>\n",
              "    .dataframe tbody tr th:only-of-type {\n",
              "        vertical-align: middle;\n",
              "    }\n",
              "\n",
              "    .dataframe tbody tr th {\n",
              "        vertical-align: top;\n",
              "    }\n",
              "\n",
              "    .dataframe thead th {\n",
              "        text-align: right;\n",
              "    }\n",
              "</style>\n",
              "<table border=\"1\" class=\"dataframe\">\n",
              "  <thead>\n",
              "    <tr style=\"text-align: right;\">\n",
              "      <th></th>\n",
              "      <th>Id</th>\n",
              "      <th>MSSubClass</th>\n",
              "      <th>LotFrontage</th>\n",
              "      <th>LotArea</th>\n",
              "      <th>OverallQual</th>\n",
              "      <th>OverallCond</th>\n",
              "      <th>YearBuilt</th>\n",
              "      <th>YearRemodAdd</th>\n",
              "      <th>MasVnrArea</th>\n",
              "      <th>BsmtFinSF1</th>\n",
              "      <th>BsmtFinSF2</th>\n",
              "      <th>BsmtUnfSF</th>\n",
              "      <th>TotalBsmtSF</th>\n",
              "      <th>1stFlrSF</th>\n",
              "      <th>2ndFlrSF</th>\n",
              "      <th>LowQualFinSF</th>\n",
              "      <th>GrLivArea</th>\n",
              "      <th>BsmtFullBath</th>\n",
              "      <th>BsmtHalfBath</th>\n",
              "      <th>FullBath</th>\n",
              "      <th>HalfBath</th>\n",
              "      <th>BedroomAbvGr</th>\n",
              "      <th>KitchenAbvGr</th>\n",
              "      <th>TotRmsAbvGrd</th>\n",
              "      <th>Fireplaces</th>\n",
              "      <th>GarageYrBlt</th>\n",
              "      <th>GarageCars</th>\n",
              "      <th>GarageArea</th>\n",
              "      <th>WoodDeckSF</th>\n",
              "      <th>OpenPorchSF</th>\n",
              "      <th>EnclosedPorch</th>\n",
              "      <th>3SsnPorch</th>\n",
              "      <th>ScreenPorch</th>\n",
              "      <th>PoolArea</th>\n",
              "      <th>MiscVal</th>\n",
              "      <th>MoSold</th>\n",
              "      <th>YrSold</th>\n",
              "    </tr>\n",
              "  </thead>\n",
              "  <tbody>\n",
              "    <tr>\n",
              "      <th>count</th>\n",
              "      <td>1459.000000</td>\n",
              "      <td>1459.000000</td>\n",
              "      <td>1232.000000</td>\n",
              "      <td>1459.000000</td>\n",
              "      <td>1459.000000</td>\n",
              "      <td>1459.000000</td>\n",
              "      <td>1459.000000</td>\n",
              "      <td>1459.000000</td>\n",
              "      <td>1444.000000</td>\n",
              "      <td>1458.000000</td>\n",
              "      <td>1458.000000</td>\n",
              "      <td>1458.000000</td>\n",
              "      <td>1458.000000</td>\n",
              "      <td>1459.000000</td>\n",
              "      <td>1459.000000</td>\n",
              "      <td>1459.000000</td>\n",
              "      <td>1459.000000</td>\n",
              "      <td>1457.000000</td>\n",
              "      <td>1457.000000</td>\n",
              "      <td>1459.000000</td>\n",
              "      <td>1459.000000</td>\n",
              "      <td>1459.000000</td>\n",
              "      <td>1459.000000</td>\n",
              "      <td>1459.000000</td>\n",
              "      <td>1459.00000</td>\n",
              "      <td>1381.000000</td>\n",
              "      <td>1458.000000</td>\n",
              "      <td>1458.000000</td>\n",
              "      <td>1459.000000</td>\n",
              "      <td>1459.000000</td>\n",
              "      <td>1459.000000</td>\n",
              "      <td>1459.000000</td>\n",
              "      <td>1459.000000</td>\n",
              "      <td>1459.000000</td>\n",
              "      <td>1459.000000</td>\n",
              "      <td>1459.000000</td>\n",
              "      <td>1459.000000</td>\n",
              "    </tr>\n",
              "    <tr>\n",
              "      <th>mean</th>\n",
              "      <td>2190.000000</td>\n",
              "      <td>57.378341</td>\n",
              "      <td>68.580357</td>\n",
              "      <td>9819.161069</td>\n",
              "      <td>6.078821</td>\n",
              "      <td>5.553804</td>\n",
              "      <td>1971.357779</td>\n",
              "      <td>1983.662783</td>\n",
              "      <td>100.709141</td>\n",
              "      <td>439.203704</td>\n",
              "      <td>52.619342</td>\n",
              "      <td>554.294925</td>\n",
              "      <td>1046.117970</td>\n",
              "      <td>1156.534613</td>\n",
              "      <td>325.967786</td>\n",
              "      <td>3.543523</td>\n",
              "      <td>1486.045922</td>\n",
              "      <td>0.434454</td>\n",
              "      <td>0.065202</td>\n",
              "      <td>1.570939</td>\n",
              "      <td>0.377656</td>\n",
              "      <td>2.854010</td>\n",
              "      <td>1.042495</td>\n",
              "      <td>6.385195</td>\n",
              "      <td>0.58122</td>\n",
              "      <td>1977.721217</td>\n",
              "      <td>1.766118</td>\n",
              "      <td>472.768861</td>\n",
              "      <td>93.174777</td>\n",
              "      <td>48.313914</td>\n",
              "      <td>24.243317</td>\n",
              "      <td>1.794380</td>\n",
              "      <td>17.064428</td>\n",
              "      <td>1.744345</td>\n",
              "      <td>58.167923</td>\n",
              "      <td>6.104181</td>\n",
              "      <td>2007.769705</td>\n",
              "    </tr>\n",
              "    <tr>\n",
              "      <th>std</th>\n",
              "      <td>421.321334</td>\n",
              "      <td>42.746880</td>\n",
              "      <td>22.376841</td>\n",
              "      <td>4955.517327</td>\n",
              "      <td>1.436812</td>\n",
              "      <td>1.113740</td>\n",
              "      <td>30.390071</td>\n",
              "      <td>21.130467</td>\n",
              "      <td>177.625900</td>\n",
              "      <td>455.268042</td>\n",
              "      <td>176.753926</td>\n",
              "      <td>437.260486</td>\n",
              "      <td>442.898624</td>\n",
              "      <td>398.165820</td>\n",
              "      <td>420.610226</td>\n",
              "      <td>44.043251</td>\n",
              "      <td>485.566099</td>\n",
              "      <td>0.530648</td>\n",
              "      <td>0.252468</td>\n",
              "      <td>0.555190</td>\n",
              "      <td>0.503017</td>\n",
              "      <td>0.829788</td>\n",
              "      <td>0.208472</td>\n",
              "      <td>1.508895</td>\n",
              "      <td>0.64742</td>\n",
              "      <td>26.431175</td>\n",
              "      <td>0.775945</td>\n",
              "      <td>217.048611</td>\n",
              "      <td>127.744882</td>\n",
              "      <td>68.883364</td>\n",
              "      <td>67.227765</td>\n",
              "      <td>20.207842</td>\n",
              "      <td>56.609763</td>\n",
              "      <td>30.491646</td>\n",
              "      <td>630.806978</td>\n",
              "      <td>2.722432</td>\n",
              "      <td>1.301740</td>\n",
              "    </tr>\n",
              "    <tr>\n",
              "      <th>min</th>\n",
              "      <td>1461.000000</td>\n",
              "      <td>20.000000</td>\n",
              "      <td>21.000000</td>\n",
              "      <td>1470.000000</td>\n",
              "      <td>1.000000</td>\n",
              "      <td>1.000000</td>\n",
              "      <td>1879.000000</td>\n",
              "      <td>1950.000000</td>\n",
              "      <td>0.000000</td>\n",
              "      <td>0.000000</td>\n",
              "      <td>0.000000</td>\n",
              "      <td>0.000000</td>\n",
              "      <td>0.000000</td>\n",
              "      <td>407.000000</td>\n",
              "      <td>0.000000</td>\n",
              "      <td>0.000000</td>\n",
              "      <td>407.000000</td>\n",
              "      <td>0.000000</td>\n",
              "      <td>0.000000</td>\n",
              "      <td>0.000000</td>\n",
              "      <td>0.000000</td>\n",
              "      <td>0.000000</td>\n",
              "      <td>0.000000</td>\n",
              "      <td>3.000000</td>\n",
              "      <td>0.00000</td>\n",
              "      <td>1895.000000</td>\n",
              "      <td>0.000000</td>\n",
              "      <td>0.000000</td>\n",
              "      <td>0.000000</td>\n",
              "      <td>0.000000</td>\n",
              "      <td>0.000000</td>\n",
              "      <td>0.000000</td>\n",
              "      <td>0.000000</td>\n",
              "      <td>0.000000</td>\n",
              "      <td>0.000000</td>\n",
              "      <td>1.000000</td>\n",
              "      <td>2006.000000</td>\n",
              "    </tr>\n",
              "    <tr>\n",
              "      <th>25%</th>\n",
              "      <td>1825.500000</td>\n",
              "      <td>20.000000</td>\n",
              "      <td>58.000000</td>\n",
              "      <td>7391.000000</td>\n",
              "      <td>5.000000</td>\n",
              "      <td>5.000000</td>\n",
              "      <td>1953.000000</td>\n",
              "      <td>1963.000000</td>\n",
              "      <td>0.000000</td>\n",
              "      <td>0.000000</td>\n",
              "      <td>0.000000</td>\n",
              "      <td>219.250000</td>\n",
              "      <td>784.000000</td>\n",
              "      <td>873.500000</td>\n",
              "      <td>0.000000</td>\n",
              "      <td>0.000000</td>\n",
              "      <td>1117.500000</td>\n",
              "      <td>0.000000</td>\n",
              "      <td>0.000000</td>\n",
              "      <td>1.000000</td>\n",
              "      <td>0.000000</td>\n",
              "      <td>2.000000</td>\n",
              "      <td>1.000000</td>\n",
              "      <td>5.000000</td>\n",
              "      <td>0.00000</td>\n",
              "      <td>1959.000000</td>\n",
              "      <td>1.000000</td>\n",
              "      <td>318.000000</td>\n",
              "      <td>0.000000</td>\n",
              "      <td>0.000000</td>\n",
              "      <td>0.000000</td>\n",
              "      <td>0.000000</td>\n",
              "      <td>0.000000</td>\n",
              "      <td>0.000000</td>\n",
              "      <td>0.000000</td>\n",
              "      <td>4.000000</td>\n",
              "      <td>2007.000000</td>\n",
              "    </tr>\n",
              "    <tr>\n",
              "      <th>50%</th>\n",
              "      <td>2190.000000</td>\n",
              "      <td>50.000000</td>\n",
              "      <td>67.000000</td>\n",
              "      <td>9399.000000</td>\n",
              "      <td>6.000000</td>\n",
              "      <td>5.000000</td>\n",
              "      <td>1973.000000</td>\n",
              "      <td>1992.000000</td>\n",
              "      <td>0.000000</td>\n",
              "      <td>350.500000</td>\n",
              "      <td>0.000000</td>\n",
              "      <td>460.000000</td>\n",
              "      <td>988.000000</td>\n",
              "      <td>1079.000000</td>\n",
              "      <td>0.000000</td>\n",
              "      <td>0.000000</td>\n",
              "      <td>1432.000000</td>\n",
              "      <td>0.000000</td>\n",
              "      <td>0.000000</td>\n",
              "      <td>2.000000</td>\n",
              "      <td>0.000000</td>\n",
              "      <td>3.000000</td>\n",
              "      <td>1.000000</td>\n",
              "      <td>6.000000</td>\n",
              "      <td>0.00000</td>\n",
              "      <td>1979.000000</td>\n",
              "      <td>2.000000</td>\n",
              "      <td>480.000000</td>\n",
              "      <td>0.000000</td>\n",
              "      <td>28.000000</td>\n",
              "      <td>0.000000</td>\n",
              "      <td>0.000000</td>\n",
              "      <td>0.000000</td>\n",
              "      <td>0.000000</td>\n",
              "      <td>0.000000</td>\n",
              "      <td>6.000000</td>\n",
              "      <td>2008.000000</td>\n",
              "    </tr>\n",
              "    <tr>\n",
              "      <th>75%</th>\n",
              "      <td>2554.500000</td>\n",
              "      <td>70.000000</td>\n",
              "      <td>80.000000</td>\n",
              "      <td>11517.500000</td>\n",
              "      <td>7.000000</td>\n",
              "      <td>6.000000</td>\n",
              "      <td>2001.000000</td>\n",
              "      <td>2004.000000</td>\n",
              "      <td>164.000000</td>\n",
              "      <td>753.500000</td>\n",
              "      <td>0.000000</td>\n",
              "      <td>797.750000</td>\n",
              "      <td>1305.000000</td>\n",
              "      <td>1382.500000</td>\n",
              "      <td>676.000000</td>\n",
              "      <td>0.000000</td>\n",
              "      <td>1721.000000</td>\n",
              "      <td>1.000000</td>\n",
              "      <td>0.000000</td>\n",
              "      <td>2.000000</td>\n",
              "      <td>1.000000</td>\n",
              "      <td>3.000000</td>\n",
              "      <td>1.000000</td>\n",
              "      <td>7.000000</td>\n",
              "      <td>1.00000</td>\n",
              "      <td>2002.000000</td>\n",
              "      <td>2.000000</td>\n",
              "      <td>576.000000</td>\n",
              "      <td>168.000000</td>\n",
              "      <td>72.000000</td>\n",
              "      <td>0.000000</td>\n",
              "      <td>0.000000</td>\n",
              "      <td>0.000000</td>\n",
              "      <td>0.000000</td>\n",
              "      <td>0.000000</td>\n",
              "      <td>8.000000</td>\n",
              "      <td>2009.000000</td>\n",
              "    </tr>\n",
              "    <tr>\n",
              "      <th>max</th>\n",
              "      <td>2919.000000</td>\n",
              "      <td>190.000000</td>\n",
              "      <td>200.000000</td>\n",
              "      <td>56600.000000</td>\n",
              "      <td>10.000000</td>\n",
              "      <td>9.000000</td>\n",
              "      <td>2010.000000</td>\n",
              "      <td>2010.000000</td>\n",
              "      <td>1290.000000</td>\n",
              "      <td>4010.000000</td>\n",
              "      <td>1526.000000</td>\n",
              "      <td>2140.000000</td>\n",
              "      <td>5095.000000</td>\n",
              "      <td>5095.000000</td>\n",
              "      <td>1862.000000</td>\n",
              "      <td>1064.000000</td>\n",
              "      <td>5095.000000</td>\n",
              "      <td>3.000000</td>\n",
              "      <td>2.000000</td>\n",
              "      <td>4.000000</td>\n",
              "      <td>2.000000</td>\n",
              "      <td>6.000000</td>\n",
              "      <td>2.000000</td>\n",
              "      <td>15.000000</td>\n",
              "      <td>4.00000</td>\n",
              "      <td>2207.000000</td>\n",
              "      <td>5.000000</td>\n",
              "      <td>1488.000000</td>\n",
              "      <td>1424.000000</td>\n",
              "      <td>742.000000</td>\n",
              "      <td>1012.000000</td>\n",
              "      <td>360.000000</td>\n",
              "      <td>576.000000</td>\n",
              "      <td>800.000000</td>\n",
              "      <td>17000.000000</td>\n",
              "      <td>12.000000</td>\n",
              "      <td>2010.000000</td>\n",
              "    </tr>\n",
              "  </tbody>\n",
              "</table>\n",
              "</div>"
            ],
            "text/plain": [
              "                Id   MSSubClass  ...       MoSold       YrSold\n",
              "count  1459.000000  1459.000000  ...  1459.000000  1459.000000\n",
              "mean   2190.000000    57.378341  ...     6.104181  2007.769705\n",
              "std     421.321334    42.746880  ...     2.722432     1.301740\n",
              "min    1461.000000    20.000000  ...     1.000000  2006.000000\n",
              "25%    1825.500000    20.000000  ...     4.000000  2007.000000\n",
              "50%    2190.000000    50.000000  ...     6.000000  2008.000000\n",
              "75%    2554.500000    70.000000  ...     8.000000  2009.000000\n",
              "max    2919.000000   190.000000  ...    12.000000  2010.000000\n",
              "\n",
              "[8 rows x 37 columns]"
            ]
          },
          "metadata": {
            "tags": []
          },
          "execution_count": 112
        }
      ]
    },
    {
      "cell_type": "code",
      "metadata": {
        "id": "bvBilbQtgboM",
        "outputId": "9f8de583-c8a5-4777-a00a-15fa88fa8c3f",
        "colab": {
          "base_uri": "https://localhost:8080/"
        }
      },
      "source": [
        "learning.isnull().sum()\n"
      ],
      "execution_count": 117,
      "outputs": [
        {
          "output_type": "execute_result",
          "data": {
            "text/plain": [
              "Id                 0\n",
              "MSSubClass         0\n",
              "MSZoning           0\n",
              "LotFrontage      259\n",
              "LotArea            0\n",
              "                ... \n",
              "MoSold             0\n",
              "YrSold             0\n",
              "SaleType           0\n",
              "SaleCondition      0\n",
              "SalePrice          0\n",
              "Length: 81, dtype: int64"
            ]
          },
          "metadata": {
            "tags": []
          },
          "execution_count": 117
        }
      ]
    },
    {
      "cell_type": "code",
      "metadata": {
        "id": "M0mfSgiyg3zy",
        "outputId": "36c5e617-5877-4b7d-e21c-52702b34d31d",
        "colab": {
          "base_uri": "https://localhost:8080/",
          "height": 317
        }
      },
      "source": [
        "examining.describe()"
      ],
      "execution_count": 115,
      "outputs": [
        {
          "output_type": "execute_result",
          "data": {
            "text/html": [
              "<div>\n",
              "<style scoped>\n",
              "    .dataframe tbody tr th:only-of-type {\n",
              "        vertical-align: middle;\n",
              "    }\n",
              "\n",
              "    .dataframe tbody tr th {\n",
              "        vertical-align: top;\n",
              "    }\n",
              "\n",
              "    .dataframe thead th {\n",
              "        text-align: right;\n",
              "    }\n",
              "</style>\n",
              "<table border=\"1\" class=\"dataframe\">\n",
              "  <thead>\n",
              "    <tr style=\"text-align: right;\">\n",
              "      <th></th>\n",
              "      <th>Id</th>\n",
              "      <th>MSSubClass</th>\n",
              "      <th>LotFrontage</th>\n",
              "      <th>LotArea</th>\n",
              "      <th>OverallQual</th>\n",
              "      <th>OverallCond</th>\n",
              "      <th>YearBuilt</th>\n",
              "      <th>YearRemodAdd</th>\n",
              "      <th>MasVnrArea</th>\n",
              "      <th>BsmtFinSF1</th>\n",
              "      <th>BsmtFinSF2</th>\n",
              "      <th>BsmtUnfSF</th>\n",
              "      <th>TotalBsmtSF</th>\n",
              "      <th>1stFlrSF</th>\n",
              "      <th>2ndFlrSF</th>\n",
              "      <th>LowQualFinSF</th>\n",
              "      <th>GrLivArea</th>\n",
              "      <th>BsmtFullBath</th>\n",
              "      <th>BsmtHalfBath</th>\n",
              "      <th>FullBath</th>\n",
              "      <th>HalfBath</th>\n",
              "      <th>BedroomAbvGr</th>\n",
              "      <th>KitchenAbvGr</th>\n",
              "      <th>TotRmsAbvGrd</th>\n",
              "      <th>Fireplaces</th>\n",
              "      <th>GarageYrBlt</th>\n",
              "      <th>GarageCars</th>\n",
              "      <th>GarageArea</th>\n",
              "      <th>WoodDeckSF</th>\n",
              "      <th>OpenPorchSF</th>\n",
              "      <th>EnclosedPorch</th>\n",
              "      <th>3SsnPorch</th>\n",
              "      <th>ScreenPorch</th>\n",
              "      <th>PoolArea</th>\n",
              "      <th>MiscVal</th>\n",
              "      <th>MoSold</th>\n",
              "      <th>YrSold</th>\n",
              "    </tr>\n",
              "  </thead>\n",
              "  <tbody>\n",
              "    <tr>\n",
              "      <th>count</th>\n",
              "      <td>1459.000000</td>\n",
              "      <td>1459.000000</td>\n",
              "      <td>1232.000000</td>\n",
              "      <td>1459.000000</td>\n",
              "      <td>1459.000000</td>\n",
              "      <td>1459.000000</td>\n",
              "      <td>1459.000000</td>\n",
              "      <td>1459.000000</td>\n",
              "      <td>1444.000000</td>\n",
              "      <td>1458.000000</td>\n",
              "      <td>1458.000000</td>\n",
              "      <td>1458.000000</td>\n",
              "      <td>1458.000000</td>\n",
              "      <td>1459.000000</td>\n",
              "      <td>1459.000000</td>\n",
              "      <td>1459.000000</td>\n",
              "      <td>1459.000000</td>\n",
              "      <td>1457.000000</td>\n",
              "      <td>1457.000000</td>\n",
              "      <td>1459.000000</td>\n",
              "      <td>1459.000000</td>\n",
              "      <td>1459.000000</td>\n",
              "      <td>1459.000000</td>\n",
              "      <td>1459.000000</td>\n",
              "      <td>1459.00000</td>\n",
              "      <td>1381.000000</td>\n",
              "      <td>1458.000000</td>\n",
              "      <td>1458.000000</td>\n",
              "      <td>1459.000000</td>\n",
              "      <td>1459.000000</td>\n",
              "      <td>1459.000000</td>\n",
              "      <td>1459.000000</td>\n",
              "      <td>1459.000000</td>\n",
              "      <td>1459.000000</td>\n",
              "      <td>1459.000000</td>\n",
              "      <td>1459.000000</td>\n",
              "      <td>1459.000000</td>\n",
              "    </tr>\n",
              "    <tr>\n",
              "      <th>mean</th>\n",
              "      <td>2190.000000</td>\n",
              "      <td>57.378341</td>\n",
              "      <td>68.580357</td>\n",
              "      <td>9819.161069</td>\n",
              "      <td>6.078821</td>\n",
              "      <td>5.553804</td>\n",
              "      <td>1971.357779</td>\n",
              "      <td>1983.662783</td>\n",
              "      <td>100.709141</td>\n",
              "      <td>439.203704</td>\n",
              "      <td>52.619342</td>\n",
              "      <td>554.294925</td>\n",
              "      <td>1046.117970</td>\n",
              "      <td>1156.534613</td>\n",
              "      <td>325.967786</td>\n",
              "      <td>3.543523</td>\n",
              "      <td>1486.045922</td>\n",
              "      <td>0.434454</td>\n",
              "      <td>0.065202</td>\n",
              "      <td>1.570939</td>\n",
              "      <td>0.377656</td>\n",
              "      <td>2.854010</td>\n",
              "      <td>1.042495</td>\n",
              "      <td>6.385195</td>\n",
              "      <td>0.58122</td>\n",
              "      <td>1977.721217</td>\n",
              "      <td>1.766118</td>\n",
              "      <td>472.768861</td>\n",
              "      <td>93.174777</td>\n",
              "      <td>48.313914</td>\n",
              "      <td>24.243317</td>\n",
              "      <td>1.794380</td>\n",
              "      <td>17.064428</td>\n",
              "      <td>1.744345</td>\n",
              "      <td>58.167923</td>\n",
              "      <td>6.104181</td>\n",
              "      <td>2007.769705</td>\n",
              "    </tr>\n",
              "    <tr>\n",
              "      <th>std</th>\n",
              "      <td>421.321334</td>\n",
              "      <td>42.746880</td>\n",
              "      <td>22.376841</td>\n",
              "      <td>4955.517327</td>\n",
              "      <td>1.436812</td>\n",
              "      <td>1.113740</td>\n",
              "      <td>30.390071</td>\n",
              "      <td>21.130467</td>\n",
              "      <td>177.625900</td>\n",
              "      <td>455.268042</td>\n",
              "      <td>176.753926</td>\n",
              "      <td>437.260486</td>\n",
              "      <td>442.898624</td>\n",
              "      <td>398.165820</td>\n",
              "      <td>420.610226</td>\n",
              "      <td>44.043251</td>\n",
              "      <td>485.566099</td>\n",
              "      <td>0.530648</td>\n",
              "      <td>0.252468</td>\n",
              "      <td>0.555190</td>\n",
              "      <td>0.503017</td>\n",
              "      <td>0.829788</td>\n",
              "      <td>0.208472</td>\n",
              "      <td>1.508895</td>\n",
              "      <td>0.64742</td>\n",
              "      <td>26.431175</td>\n",
              "      <td>0.775945</td>\n",
              "      <td>217.048611</td>\n",
              "      <td>127.744882</td>\n",
              "      <td>68.883364</td>\n",
              "      <td>67.227765</td>\n",
              "      <td>20.207842</td>\n",
              "      <td>56.609763</td>\n",
              "      <td>30.491646</td>\n",
              "      <td>630.806978</td>\n",
              "      <td>2.722432</td>\n",
              "      <td>1.301740</td>\n",
              "    </tr>\n",
              "    <tr>\n",
              "      <th>min</th>\n",
              "      <td>1461.000000</td>\n",
              "      <td>20.000000</td>\n",
              "      <td>21.000000</td>\n",
              "      <td>1470.000000</td>\n",
              "      <td>1.000000</td>\n",
              "      <td>1.000000</td>\n",
              "      <td>1879.000000</td>\n",
              "      <td>1950.000000</td>\n",
              "      <td>0.000000</td>\n",
              "      <td>0.000000</td>\n",
              "      <td>0.000000</td>\n",
              "      <td>0.000000</td>\n",
              "      <td>0.000000</td>\n",
              "      <td>407.000000</td>\n",
              "      <td>0.000000</td>\n",
              "      <td>0.000000</td>\n",
              "      <td>407.000000</td>\n",
              "      <td>0.000000</td>\n",
              "      <td>0.000000</td>\n",
              "      <td>0.000000</td>\n",
              "      <td>0.000000</td>\n",
              "      <td>0.000000</td>\n",
              "      <td>0.000000</td>\n",
              "      <td>3.000000</td>\n",
              "      <td>0.00000</td>\n",
              "      <td>1895.000000</td>\n",
              "      <td>0.000000</td>\n",
              "      <td>0.000000</td>\n",
              "      <td>0.000000</td>\n",
              "      <td>0.000000</td>\n",
              "      <td>0.000000</td>\n",
              "      <td>0.000000</td>\n",
              "      <td>0.000000</td>\n",
              "      <td>0.000000</td>\n",
              "      <td>0.000000</td>\n",
              "      <td>1.000000</td>\n",
              "      <td>2006.000000</td>\n",
              "    </tr>\n",
              "    <tr>\n",
              "      <th>25%</th>\n",
              "      <td>1825.500000</td>\n",
              "      <td>20.000000</td>\n",
              "      <td>58.000000</td>\n",
              "      <td>7391.000000</td>\n",
              "      <td>5.000000</td>\n",
              "      <td>5.000000</td>\n",
              "      <td>1953.000000</td>\n",
              "      <td>1963.000000</td>\n",
              "      <td>0.000000</td>\n",
              "      <td>0.000000</td>\n",
              "      <td>0.000000</td>\n",
              "      <td>219.250000</td>\n",
              "      <td>784.000000</td>\n",
              "      <td>873.500000</td>\n",
              "      <td>0.000000</td>\n",
              "      <td>0.000000</td>\n",
              "      <td>1117.500000</td>\n",
              "      <td>0.000000</td>\n",
              "      <td>0.000000</td>\n",
              "      <td>1.000000</td>\n",
              "      <td>0.000000</td>\n",
              "      <td>2.000000</td>\n",
              "      <td>1.000000</td>\n",
              "      <td>5.000000</td>\n",
              "      <td>0.00000</td>\n",
              "      <td>1959.000000</td>\n",
              "      <td>1.000000</td>\n",
              "      <td>318.000000</td>\n",
              "      <td>0.000000</td>\n",
              "      <td>0.000000</td>\n",
              "      <td>0.000000</td>\n",
              "      <td>0.000000</td>\n",
              "      <td>0.000000</td>\n",
              "      <td>0.000000</td>\n",
              "      <td>0.000000</td>\n",
              "      <td>4.000000</td>\n",
              "      <td>2007.000000</td>\n",
              "    </tr>\n",
              "    <tr>\n",
              "      <th>50%</th>\n",
              "      <td>2190.000000</td>\n",
              "      <td>50.000000</td>\n",
              "      <td>67.000000</td>\n",
              "      <td>9399.000000</td>\n",
              "      <td>6.000000</td>\n",
              "      <td>5.000000</td>\n",
              "      <td>1973.000000</td>\n",
              "      <td>1992.000000</td>\n",
              "      <td>0.000000</td>\n",
              "      <td>350.500000</td>\n",
              "      <td>0.000000</td>\n",
              "      <td>460.000000</td>\n",
              "      <td>988.000000</td>\n",
              "      <td>1079.000000</td>\n",
              "      <td>0.000000</td>\n",
              "      <td>0.000000</td>\n",
              "      <td>1432.000000</td>\n",
              "      <td>0.000000</td>\n",
              "      <td>0.000000</td>\n",
              "      <td>2.000000</td>\n",
              "      <td>0.000000</td>\n",
              "      <td>3.000000</td>\n",
              "      <td>1.000000</td>\n",
              "      <td>6.000000</td>\n",
              "      <td>0.00000</td>\n",
              "      <td>1979.000000</td>\n",
              "      <td>2.000000</td>\n",
              "      <td>480.000000</td>\n",
              "      <td>0.000000</td>\n",
              "      <td>28.000000</td>\n",
              "      <td>0.000000</td>\n",
              "      <td>0.000000</td>\n",
              "      <td>0.000000</td>\n",
              "      <td>0.000000</td>\n",
              "      <td>0.000000</td>\n",
              "      <td>6.000000</td>\n",
              "      <td>2008.000000</td>\n",
              "    </tr>\n",
              "    <tr>\n",
              "      <th>75%</th>\n",
              "      <td>2554.500000</td>\n",
              "      <td>70.000000</td>\n",
              "      <td>80.000000</td>\n",
              "      <td>11517.500000</td>\n",
              "      <td>7.000000</td>\n",
              "      <td>6.000000</td>\n",
              "      <td>2001.000000</td>\n",
              "      <td>2004.000000</td>\n",
              "      <td>164.000000</td>\n",
              "      <td>753.500000</td>\n",
              "      <td>0.000000</td>\n",
              "      <td>797.750000</td>\n",
              "      <td>1305.000000</td>\n",
              "      <td>1382.500000</td>\n",
              "      <td>676.000000</td>\n",
              "      <td>0.000000</td>\n",
              "      <td>1721.000000</td>\n",
              "      <td>1.000000</td>\n",
              "      <td>0.000000</td>\n",
              "      <td>2.000000</td>\n",
              "      <td>1.000000</td>\n",
              "      <td>3.000000</td>\n",
              "      <td>1.000000</td>\n",
              "      <td>7.000000</td>\n",
              "      <td>1.00000</td>\n",
              "      <td>2002.000000</td>\n",
              "      <td>2.000000</td>\n",
              "      <td>576.000000</td>\n",
              "      <td>168.000000</td>\n",
              "      <td>72.000000</td>\n",
              "      <td>0.000000</td>\n",
              "      <td>0.000000</td>\n",
              "      <td>0.000000</td>\n",
              "      <td>0.000000</td>\n",
              "      <td>0.000000</td>\n",
              "      <td>8.000000</td>\n",
              "      <td>2009.000000</td>\n",
              "    </tr>\n",
              "    <tr>\n",
              "      <th>max</th>\n",
              "      <td>2919.000000</td>\n",
              "      <td>190.000000</td>\n",
              "      <td>200.000000</td>\n",
              "      <td>56600.000000</td>\n",
              "      <td>10.000000</td>\n",
              "      <td>9.000000</td>\n",
              "      <td>2010.000000</td>\n",
              "      <td>2010.000000</td>\n",
              "      <td>1290.000000</td>\n",
              "      <td>4010.000000</td>\n",
              "      <td>1526.000000</td>\n",
              "      <td>2140.000000</td>\n",
              "      <td>5095.000000</td>\n",
              "      <td>5095.000000</td>\n",
              "      <td>1862.000000</td>\n",
              "      <td>1064.000000</td>\n",
              "      <td>5095.000000</td>\n",
              "      <td>3.000000</td>\n",
              "      <td>2.000000</td>\n",
              "      <td>4.000000</td>\n",
              "      <td>2.000000</td>\n",
              "      <td>6.000000</td>\n",
              "      <td>2.000000</td>\n",
              "      <td>15.000000</td>\n",
              "      <td>4.00000</td>\n",
              "      <td>2207.000000</td>\n",
              "      <td>5.000000</td>\n",
              "      <td>1488.000000</td>\n",
              "      <td>1424.000000</td>\n",
              "      <td>742.000000</td>\n",
              "      <td>1012.000000</td>\n",
              "      <td>360.000000</td>\n",
              "      <td>576.000000</td>\n",
              "      <td>800.000000</td>\n",
              "      <td>17000.000000</td>\n",
              "      <td>12.000000</td>\n",
              "      <td>2010.000000</td>\n",
              "    </tr>\n",
              "  </tbody>\n",
              "</table>\n",
              "</div>"
            ],
            "text/plain": [
              "                Id   MSSubClass  ...       MoSold       YrSold\n",
              "count  1459.000000  1459.000000  ...  1459.000000  1459.000000\n",
              "mean   2190.000000    57.378341  ...     6.104181  2007.769705\n",
              "std     421.321334    42.746880  ...     2.722432     1.301740\n",
              "min    1461.000000    20.000000  ...     1.000000  2006.000000\n",
              "25%    1825.500000    20.000000  ...     4.000000  2007.000000\n",
              "50%    2190.000000    50.000000  ...     6.000000  2008.000000\n",
              "75%    2554.500000    70.000000  ...     8.000000  2009.000000\n",
              "max    2919.000000   190.000000  ...    12.000000  2010.000000\n",
              "\n",
              "[8 rows x 37 columns]"
            ]
          },
          "metadata": {
            "tags": []
          },
          "execution_count": 115
        }
      ]
    },
    {
      "cell_type": "code",
      "metadata": {
        "id": "whonOr1agtqy",
        "outputId": "a77ba8de-9e42-4e3c-eccb-30f2c44b95bc",
        "colab": {
          "base_uri": "https://localhost:8080/"
        }
      },
      "source": [
        "examining.isnull().sum()"
      ],
      "execution_count": 116,
      "outputs": [
        {
          "output_type": "execute_result",
          "data": {
            "text/plain": [
              "Id                 0\n",
              "MSSubClass         0\n",
              "MSZoning           4\n",
              "LotFrontage      227\n",
              "LotArea            0\n",
              "                ... \n",
              "MiscVal            0\n",
              "MoSold             0\n",
              "YrSold             0\n",
              "SaleType           1\n",
              "SaleCondition      0\n",
              "Length: 80, dtype: int64"
            ]
          },
          "metadata": {
            "tags": []
          },
          "execution_count": 116
        }
      ]
    },
    {
      "cell_type": "code",
      "metadata": {
        "id": "a3tV8Jpbg9FW"
      },
      "source": [
        "import matplotlib.pyplot as plt\n",
        "learning.hist(bins=50, figsize=(20,15))\n",
        "plt.savefig(\"histogram_plots\")\n",
        "plt.show()"
      ],
      "execution_count": 122,
      "outputs": []
    },
    {
      "cell_type": "code",
      "metadata": {
        "id": "sjqm-2cvhKhV"
      },
      "source": [
        "examining.hist(bins=50, figsize=(20,15))\n",
        "plt.savefig(\"attribute_histogram_plots\")\n",
        "plt.show()"
      ],
      "execution_count": 123,
      "outputs": []
    },
    {
      "cell_type": "code",
      "metadata": {
        "id": "94rCy5SzhenV",
        "outputId": "0f207ddc-fc21-4d5b-9e7b-8ae9a616612b",
        "colab": {
          "base_uri": "https://localhost:8080/"
        }
      },
      "source": [
        "\n",
        "matrix = learning.corr()\n",
        "matrix[\"SalePrice\"].sort_values(ascending=False)"
      ],
      "execution_count": 125,
      "outputs": [
        {
          "output_type": "execute_result",
          "data": {
            "text/plain": [
              "SalePrice        1.000000\n",
              "OverallQual      0.790982\n",
              "GrLivArea        0.708624\n",
              "GarageCars       0.640409\n",
              "GarageArea       0.623431\n",
              "TotalBsmtSF      0.613581\n",
              "1stFlrSF         0.605852\n",
              "FullBath         0.560664\n",
              "TotRmsAbvGrd     0.533723\n",
              "YearBuilt        0.522897\n",
              "YearRemodAdd     0.507101\n",
              "GarageYrBlt      0.486362\n",
              "MasVnrArea       0.477493\n",
              "Fireplaces       0.466929\n",
              "BsmtFinSF1       0.386420\n",
              "LotFrontage      0.351799\n",
              "WoodDeckSF       0.324413\n",
              "2ndFlrSF         0.319334\n",
              "OpenPorchSF      0.315856\n",
              "HalfBath         0.284108\n",
              "LotArea          0.263843\n",
              "BsmtFullBath     0.227122\n",
              "BsmtUnfSF        0.214479\n",
              "BedroomAbvGr     0.168213\n",
              "ScreenPorch      0.111447\n",
              "PoolArea         0.092404\n",
              "MoSold           0.046432\n",
              "3SsnPorch        0.044584\n",
              "BsmtFinSF2      -0.011378\n",
              "BsmtHalfBath    -0.016844\n",
              "MiscVal         -0.021190\n",
              "Id              -0.021917\n",
              "LowQualFinSF    -0.025606\n",
              "YrSold          -0.028923\n",
              "OverallCond     -0.077856\n",
              "MSSubClass      -0.084284\n",
              "EnclosedPorch   -0.128578\n",
              "KitchenAbvGr    -0.135907\n",
              "Name: SalePrice, dtype: float64"
            ]
          },
          "metadata": {
            "tags": []
          },
          "execution_count": 125
        }
      ]
    },
    {
      "cell_type": "code",
      "metadata": {
        "id": "eUQ5iEuWhpKu",
        "outputId": "fa3e9a01-6d17-44d3-985e-dd8d797ba2d7",
        "colab": {
          "base_uri": "https://localhost:8080/"
        }
      },
      "source": [
        "learning.plot(kind=\"scatter\", x=\"OverallQual\", y=\"SalePrice\", alpha=0.5)"
      ],
      "execution_count": 126,
      "outputs": [
        {
          "output_type": "execute_result",
          "data": {
            "text/plain": [
              "<matplotlib.axes._subplots.AxesSubplot at 0x7efe1836f2e8>"
            ]
          },
          "metadata": {
            "tags": []
          },
          "execution_count": 126
        }
      ]
    },
    {
      "cell_type": "code",
      "metadata": {
        "id": "VBmtIrZYhwbd"
      },
      "source": [
        "\n",
        "learning.fillna(learning.mean(), inplace = True)\n",
        "examining.fillna(examining.mean(), inplace = True)"
      ],
      "execution_count": 128,
      "outputs": []
    },
    {
      "cell_type": "code",
      "metadata": {
        "id": "M6Uij9svh-nW",
        "outputId": "056779d0-c30b-4c13-96be-0c89a0f842bb",
        "colab": {
          "base_uri": "https://localhost:8080/"
        }
      },
      "source": [
        "learning.isnull().sum()\n"
      ],
      "execution_count": 129,
      "outputs": [
        {
          "output_type": "execute_result",
          "data": {
            "text/plain": [
              "Id               0\n",
              "MSSubClass       0\n",
              "MSZoning         0\n",
              "LotFrontage      0\n",
              "LotArea          0\n",
              "                ..\n",
              "MoSold           0\n",
              "YrSold           0\n",
              "SaleType         0\n",
              "SaleCondition    0\n",
              "SalePrice        0\n",
              "Length: 81, dtype: int64"
            ]
          },
          "metadata": {
            "tags": []
          },
          "execution_count": 129
        }
      ]
    },
    {
      "cell_type": "code",
      "metadata": {
        "id": "yDqN5ShniAO8",
        "outputId": "438c3423-e509-4a82-bae3-8ac14ff2232b",
        "colab": {
          "base_uri": "https://localhost:8080/"
        }
      },
      "source": [
        "examining.isnull().sum()\n"
      ],
      "execution_count": 130,
      "outputs": [
        {
          "output_type": "execute_result",
          "data": {
            "text/plain": [
              "Id               0\n",
              "MSSubClass       0\n",
              "MSZoning         4\n",
              "LotFrontage      0\n",
              "LotArea          0\n",
              "                ..\n",
              "MiscVal          0\n",
              "MoSold           0\n",
              "YrSold           0\n",
              "SaleType         1\n",
              "SaleCondition    0\n",
              "Length: 80, dtype: int64"
            ]
          },
          "metadata": {
            "tags": []
          },
          "execution_count": 130
        }
      ]
    },
    {
      "cell_type": "code",
      "metadata": {
        "id": "wo0IvezLiGzq"
      },
      "source": [
        "from sklearn.linear_model import LinearRegression\n",
        "from sklearn.preprocessing import LabelEncoder\n"
      ],
      "execution_count": 131,
      "outputs": []
    },
    {
      "cell_type": "code",
      "metadata": {
        "id": "YJAWWtT-iVm5"
      },
      "source": [
        "from sklearn.preprocessing import LabelEncoder\n",
        "columns = ('GarageCond', 'LandContour', 'RoofStyle', 'RoofMatl', 'Heating', 'MiscFeature', 'SaleType', 'GarageType', 'Electrical', 'SaleCondition', 'Foundation', 'Exterior1st', 'Exterior2nd', 'MasVnrType', 'FireplaceQu', 'LotShape', 'Neighborhood', 'Condition1', 'Condition2', 'Utilities', 'BldgType', 'HouseStyle','PoolQC', 'BsmtQual', 'BsmtCond', 'GarageQual','BsmtExposure', 'ExterQual', 'ExterCond','HeatingQC', 'KitchenQual', 'BsmtFinType1','BsmtFinType2', 'Functional', 'Fence', 'GarageFinish', 'LandSlope','LotShape', 'PavedDrive', 'Street', 'Alley', 'CentralAir', 'MSSubClass', 'OverallCond', 'YrSold', 'MoSold', 'MSZoning','LotConfig')\n",
        "for k in columns:\n",
        "    encoder = LabelEncoder()\n",
        "    encoder.fit(list(learning[k].values))\n",
        "    learning[k] = encoder.transform(list(learning[k].values))\n",
        "for l in columns:\n",
        "    encoder_test = LabelEncoder()\n",
        "    encoder_test.fit(list(examining[l].values))\n",
        "    examining[l] = encoder_test.transform(list(examining[l].values))"
      ],
      "execution_count": 133,
      "outputs": []
    },
    {
      "cell_type": "code",
      "metadata": {
        "id": "pate5y96jkN-"
      },
      "source": [
        "x_learning = learning[learning.columns[:80]]\n",
        "y_learning = learning['GarageType']\n",
        "x_examining = examining[examining.columns[:80]]"
      ],
      "execution_count": 134,
      "outputs": []
    },
    {
      "cell_type": "code",
      "metadata": {
        "id": "Vp5og7_Zj-vQ",
        "outputId": "8e722be6-4ede-4658-bd0a-4285cd791aac",
        "colab": {
          "base_uri": "https://localhost:8080/"
        }
      },
      "source": [
        "from sklearn.linear_model import LinearRegression\n",
        "regress = LinearRegression()\n",
        "regress.fit(x_learning, y_learning)"
      ],
      "execution_count": 135,
      "outputs": [
        {
          "output_type": "execute_result",
          "data": {
            "text/plain": [
              "LinearRegression(copy_X=True, fit_intercept=True, n_jobs=None, normalize=False)"
            ]
          },
          "metadata": {
            "tags": []
          },
          "execution_count": 135
        }
      ]
    },
    {
      "cell_type": "code",
      "metadata": {
        "id": "f1e7FcMdkKZO",
        "outputId": "dd39906d-5023-4b5d-da53-873f4726bd70",
        "colab": {
          "base_uri": "https://localhost:8080/"
        }
      },
      "source": [
        "regress.predict(x_examining)"
      ],
      "execution_count": 136,
      "outputs": [
        {
          "output_type": "execute_result",
          "data": {
            "text/plain": [
              "array([1., 1., 1., ..., 5., 6., 1.])"
            ]
          },
          "metadata": {
            "tags": []
          },
          "execution_count": 136
        }
      ]
    },
    {
      "cell_type": "code",
      "metadata": {
        "id": "LmozzSYzkRVU",
        "outputId": "d0fa2fca-032f-4b6a-e4a9-791779aa170f",
        "colab": {
          "base_uri": "https://localhost:8080/"
        }
      },
      "source": [
        "print('Linear Regression R squared\": %.4f' % regress.score(x_learning, y_learning))"
      ],
      "execution_count": 137,
      "outputs": [
        {
          "output_type": "stream",
          "text": [
            "Linear Regression R squared\": 1.0000\n"
          ],
          "name": "stdout"
        }
      ]
    }
  ]
}