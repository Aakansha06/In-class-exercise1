{
  "nbformat": 4,
  "nbformat_minor": 0,
  "metadata": {
    "colab": {
      "name": "INFO5731_Assignment_One.ipynb",
      "provenance": [],
      "collapsed_sections": []
    },
    "kernelspec": {
      "name": "python3",
      "display_name": "Python 3"
    }
  },
  "cells": [
    {
      "cell_type": "markdown",
      "metadata": {
        "id": "Ryk8D1Q4Wsrp",
        "colab_type": "text"
      },
      "source": [
        "# **INFO5731 Assignment One**"
      ]
    },
    {
      "cell_type": "markdown",
      "metadata": {
        "id": "90_NR8c5XGWc",
        "colab_type": "text"
      },
      "source": [
        "# Question 1\n",
        "\n",
        "(20 points). Write a Python program to generate 12 random numbers between 1 and 100. Sort the list of numbers in ascending order and print it out. Sort the list of numbers in descending order and print it out. Calculate the average for the group and print it out."
      ]
    },
    {
      "cell_type": "code",
      "metadata": {
        "id": "5QX6bJjGWXY9",
        "colab_type": "code",
        "colab": {
          "base_uri": "https://localhost:8080/",
          "height": 527
        },
        "outputId": "d0e7952a-dc01-4f1f-8d0d-3a2f4d5ebc9e"
      },
      "source": [
        "# Your code here\n",
        "\n",
        "import random\n",
        "thislist =[]\n",
        "for x in range (12):\n",
        "    thislist.append (random.randint (1, 100))\n",
        "\n",
        "thislist.sort();\n",
        "print (\"Printing in ascending order\")    \n",
        "\n",
        "for x in thislist:\n",
        "  print (x)\n",
        "\n",
        "print (\" \")\n",
        "print (\"Printing in descending order\")\n",
        "\n",
        "thislist.sort(reverse=True)\n",
        "for x in thislist:\n",
        "  print (x)\n",
        " \n",
        "  sum=0;\n",
        "for x in thislist:\n",
        "  sum=sum+x\n",
        "\n",
        "print (\" \")\n",
        "print(\"Printing average =\")  \n",
        "print(sum/2)"
      ],
      "execution_count": 3,
      "outputs": [
        {
          "output_type": "stream",
          "text": [
            "Printing in ascending order\n",
            "1\n",
            "1\n",
            "8\n",
            "28\n",
            "30\n",
            "31\n",
            "35\n",
            "42\n",
            "43\n",
            "46\n",
            "72\n",
            "84\n",
            " \n",
            "Printing in descending order\n",
            "84\n",
            "72\n",
            "46\n",
            "43\n",
            "42\n",
            "35\n",
            "31\n",
            "30\n",
            "28\n",
            "8\n",
            "1\n",
            "1\n",
            " \n",
            "Printing average =\n",
            "210.5\n"
          ],
          "name": "stdout"
        }
      ]
    },
    {
      "cell_type": "markdown",
      "metadata": {
        "id": "1F_PZdH9Sh49",
        "colab_type": "text"
      },
      "source": [
        "# Question 2\n",
        "(25 points). Write a program that will do the following string formatting tasks:\n",
        "\n",
        "(1) Ask the user to enter two sentences.\n",
        "\n",
        "(2) Make each sentence into a list. Each element in the list should correspond to a word in the sentence. For example, if the sentence is \"Alas! Am I alive? This is my first python program\", the program should print out ['Alas, '!', 'Am', 'I', 'alive, '?', 'This', 'is', 'my', 'first', 'python', 'program'].\n",
        "\n",
        "(3) Compare the two sentences. Print out a list of words that occur in both sentences.\n",
        "\n",
        "(4) Remove any punctuation from the sentence and print it back out. It should remove at least the following characters, but it can remove more: period(“.”), comma (“,”), semicolon (“;”), and colon (“:”)\n",
        "\n",
        "(5) Count the number of vowels in the sentences. Print out each vowel and the number of times it appears in the sentences, such as: a:2, e:1, i:0, etc"
      ]
    },
    {
      "cell_type": "code",
      "metadata": {
        "id": "Y0oOSlsOS0cq",
        "colab_type": "code",
        "colab": {
          "base_uri": "https://localhost:8080/",
          "height": 408
        },
        "outputId": "c6319351-25e4-4307-ac71-02f1a2433307"
      },
      "source": [
        "# Your code here\n",
        "import re\n",
        "\n",
        "regex = re.compile('[@_!#$%^&*()<>?/\\|}{~:]')\n",
        "def getSplitSentence(sentence):\n",
        "    wordList =[]\n",
        "    temp =\"\"\n",
        "    for char in sentence:\n",
        "        if(char != ' '):\n",
        "            temp = temp+char;\n",
        "        else:\n",
        "            if(regex.search(temp)==None):\n",
        "                wordList.append(temp)\n",
        "            else:\n",
        "                wordList.append(temp[:-1])\n",
        "                wordList.append(temp[-1:])\n",
        "            temp=\"\"\n",
        "    if(regex.search(temp)==None):\n",
        "        wordList.append(temp)\n",
        "    else:\n",
        "        wordList.append(temp[:-1])\n",
        "        wordList.append(temp[-1:])\n",
        "    return wordList\n",
        "\n",
        "sentenceOne = input(\"Enter first sentence: \")\n",
        "#print(sentenceOne)  \n",
        "sentenceOneList = getSplitSentence(sentenceOne)\n",
        "print(sentenceOneList)  \n",
        "print(\"\\n\")  \n",
        "sentenceTwo = input(\"Enter second sentence: \")\n",
        "#print(sentenceTwo)\n",
        "sentenceTwoList = getSplitSentence(sentenceTwo)\n",
        "print(sentenceTwoList)\n",
        "print(\"\\n\")  \n",
        "print(\"printing without special character\")\n",
        "for i in sentenceOneList:\n",
        "    if(regex.search(i)==None):\n",
        "        print (i,end=' ')\n",
        "print(\"\\n\")  \n",
        "for j in sentenceTwoList:\n",
        "    if(regex.search(j)==None):\n",
        "        print (j,end=' ')\n",
        "print(\"\\n\")\n",
        "print(\"printing words matching in both sentence\")\n",
        "for x in sentenceOneList:\n",
        "    for y in sentenceTwoList:\n",
        "        if(x==y):\n",
        "            print (x,end=' ')\n",
        "print(\"\\n\")            \n",
        "print(\"printing vowel words counting\")\n",
        "\n",
        "def countVowelwords(sentence):\n",
        "    dict = {}\n",
        "    totalVowelUsecount=0\n",
        "    for eachVowelWord in sentence:\n",
        "        eachWord = eachVowelWord[0]\n",
        "        if(re.search(\"[a,e,i,o,u]\", eachWord)):\n",
        "            if(eachWord in dict.keys()):# dict[eachWord] is None):\n",
        "                dict[eachWord]=dict[eachWord]+1\n",
        "            else:\n",
        "                dict[eachWord] = 1\n",
        "            totalVowelUsecount=totalVowelUsecount+1\n",
        "    print(\"Total count of vowel used : \")\n",
        "    print(totalVowelUsecount)\n",
        "    print(dict)\n",
        "\n",
        "countVowelwords(sentenceOneList)\n",
        "countVowelwords(sentenceTwoList)\n"
      ],
      "execution_count": 4,
      "outputs": [
        {
          "output_type": "stream",
          "text": [
            "Enter first sentence: I am a student of UNT\n",
            "['I', 'am', 'a', 'student', 'of', 'UNT']\n",
            "\n",
            "\n",
            "Enter second sentence: I am student of Information science department.\n",
            "['I', 'am', 'student', 'of', 'Information', 'science', 'department.']\n",
            "\n",
            "\n",
            "printing without special character\n",
            "I am a student of UNT \n",
            "\n",
            "I am student of Information science department. \n",
            "\n",
            "printing words matching in both sentence\n",
            "I am student of \n",
            "\n",
            "printing vowel words counting\n",
            "Total count of vowel used : \n",
            "3\n",
            "{'a': 2, 'o': 1}\n",
            "Total count of vowel used : \n",
            "2\n",
            "{'a': 1, 'o': 1}\n"
          ],
          "name": "stdout"
        }
      ]
    },
    {
      "cell_type": "markdown",
      "metadata": {
        "id": "CmFoI4jDS9nx",
        "colab_type": "text"
      },
      "source": [
        "# Question 3 \n",
        "\n",
        "(15 points). The formula that describes the volume V of a sphere with radius r is the following:\n",
        "\n",
        "$ V=\\frac{4}{3}\\ast\\ \\pi\\ast\\ r^3 $\n",
        "\n",
        "Write a program to calculate the value of V when r is in the range of 1–10. Output the result in the following format:\n",
        "\n",
        "\tr\tV\n",
        "\t1\t…\n",
        "\t2\t…\n",
        "\t3\t…\n"
      ]
    },
    {
      "cell_type": "code",
      "metadata": {
        "id": "pEyqeioAT95b",
        "colab_type": "code",
        "colab": {
          "base_uri": "https://localhost:8080/",
          "height": 187
        },
        "outputId": "2183b09f-91e7-4bcb-e5bc-511ec68112b8"
      },
      "source": [
        "# Your code here\n",
        "print(\"r     \"+\"V\")\n",
        "for r in range(1,10):\n",
        "    pi =3.14\n",
        "    V=4.0/3.0*pi* r**3\n",
        "    print(str(r)+\"     \"+str(V))\n"
      ],
      "execution_count": 5,
      "outputs": [
        {
          "output_type": "stream",
          "text": [
            "r     V\n",
            "1     4.1866666666666665\n",
            "2     33.49333333333333\n",
            "3     113.03999999999999\n",
            "4     267.94666666666666\n",
            "5     523.3333333333334\n",
            "6     904.3199999999999\n",
            "7     1436.0266666666666\n",
            "8     2143.5733333333333\n",
            "9     3052.08\n"
          ],
          "name": "stdout"
        }
      ]
    },
    {
      "cell_type": "code",
      "metadata": {
        "id": "pMCr3l8tnu0j",
        "colab_type": "code",
        "colab": {}
      },
      "source": [
        ""
      ],
      "execution_count": null,
      "outputs": []
    },
    {
      "cell_type": "markdown",
      "metadata": {
        "id": "z3tBE7E-Xn5X",
        "colab_type": "text"
      },
      "source": [
        "# Question 4\n",
        "\n",
        "(40 points). In the field of Data Science, data is often formatted as a comma-delimited (CSV) file, where each line in a file corresponds to a field's value. Refer to Chapter 9 (p. 106) for more information on comma-delimited files. To answer this question, you will need to download the file [Assignment1_denton_housing.csv](https://github.com/unt-iialab/INFO5731_FALL2020/blob/master/Assignments/Assignment1_denton_housing.csv) included with this assignment. The [file Assignment1_denton_housing.csv](https://github.com/unt-iialab/INFO5731_FALL2020/blob/master/Assignments/Assignment1_denton_housing.csv) contains statistics about housing in the city of Denton from 2008 to 2014. Write a program to implement the following questions.\n",
        "\n",
        "(1) (10 pts) Calculate the difference in the number of Occupied Housing Units from year to year and print it. The difference must be calculated for the consecutive years such as 2008-2009, 2009-2010 etc. Finally, print the values in the ascending order.\n",
        "\n",
        "(2) (10 pts) For all the years, calculate the percentage of housing units which are vacant an occupied. Print the results in the following format:\n",
        "\n",
        "Year Vacant Housing Units Occupied Housing Units\n",
        "\n",
        "    2008  30%   70%                          \n",
        "\t2009 ----- -----\n",
        "\t2010 ----- -----\n",
        "    2011 ----- -----\n",
        "\t2012 ----- -----\n",
        "    2013 ----- -----\n",
        "\t2014 ----- -----\n",
        "  \n",
        "  \n",
        "\n",
        "(3) (10 pts) Calculate and print the valued and years in which the highest number of housing units were vacant and occupied. Print the results in the following format:  \n",
        "\n",
        "                              Year\tValue\n",
        "\tVacant Housing Units\t  -----   -----\n",
        "\tOccupied Housing Units\t-----   -----\n",
        "\n",
        "(4) (10 pts) Calculate the harmonic mean of the total housing units and print it out. You can find the information about harmonic mean here: https://ncalculators.com/statistics/harmonic-mean-calculator.htm"
      ]
    },
    {
      "cell_type": "code",
      "metadata": {
        "id": "lqGYuHBhcsRH",
        "colab_type": "code",
        "colab": {
          "base_uri": "https://localhost:8080/",
          "height": 326
        },
        "outputId": "474b11ba-cdc0-4ab8-b561-8cfcc16b2707"
      },
      "source": [
        "# Your code here\n",
        "\n",
        "import csv\n",
        "\n",
        "\n",
        "housing_year =[]\n",
        "housing_data_dict ={}\n",
        "def prepareHousingList(name):\n",
        "    with open(name) as csv_file:\n",
        "        csv_reader = csv.reader(csv_file,delimiter=',')\n",
        "        next(csv_reader,None)\n",
        "        for year, title_field, value in csv_reader:\n",
        "            if year not in housing_year:\n",
        "                housing_year.append(year)\n",
        "            housing_data_dict[year+'_'+title_field] = value\n",
        "\n",
        "def occupiedHousingStatistics(housign_data_dict, housing_year):\n",
        "    housing_year.reverse()\n",
        "    print('years     occupationGrowth')\n",
        "    for i in range(0,len(housing_year)-2):\n",
        "        y1=int(housing_data_dict[housing_year[i]+'_'+\"Occupied Housing Units\"])\n",
        "        y2=int(housing_data_dict[housing_year[i+1]+'_'+\"Occupied Housing Units\"])\n",
        "        sub= y2-y1\n",
        "        print(str(housing_year[i])+'-'+str(housing_year[i+1])+'     '+str(sub))\n",
        "\n",
        "def housingStatistics(housing_data_dict, housing_year):\n",
        "    print('years     occupationPercent     VacantPercent')\n",
        "    for i in range(0, len(housing_year)-1):\n",
        "        y1 = int(housing_data_dict[housing_year[i] + '_' + \"Occupied Housing Units\"])\n",
        "        y2 = int(housing_data_dict[housing_year[i] + '_' + \"Vacant Housing Units\"])\n",
        "        total= int(housing_data_dict[housing_year[i] + '_' + \"Total Housing Units\"])\n",
        "\n",
        "        percentOfOccupation = y1/total*100\n",
        "        percentOfVacancies = y2 /total* 100\n",
        "        print(str(housing_year[i])+'     '+str(percentOfOccupation)+'     '+str(percentOfVacancies))\n",
        "\n",
        "\n",
        "def maxValues(housing_data_dict, housing_year):\n",
        "    print('                          Year     Value')\n",
        "    maxOccupied=0\n",
        "    maxVacant=0\n",
        "    maxOccupiedYear=''\n",
        "    maxVacantYear=''\n",
        "    for i in range(0, len(housing_year)):\n",
        "\n",
        "        y1 = int(housing_data_dict[housing_year[i] + '_' + \"Occupied Housing Units\"])\n",
        "        if (maxOccupied <y1):\n",
        "            maxOccupied=y1\n",
        "            maxOccupiedYear=housing_year[i]\n",
        "        y2 = int(housing_data_dict[housing_year[i] + '_' + \"Vacant Housing Units\"])\n",
        "        if(maxVacant<y2):\n",
        "            maxVacant=y2\n",
        "            maxVacantYear = housing_year[i]\n",
        "    print('Vacant Housing Units       '+str(maxVacantYear)+'     '+str(maxVacant))\n",
        "    print('Occupied Housing Units     '+str(maxOccupiedYear)+'   '+str(maxOccupied))\n",
        "\n",
        "\n",
        "\n",
        "if __name__ == '__main__':\n",
        "    prepareHousingList('Assignment1_denton_housing.csv')\n",
        "    print(str(housing_data_dict))\n",
        "    occupiedHousingStatistics(housing_data_dict,housing_year)\n",
        "    housingStatistics(housing_data_dict,housing_year)\n",
        "    maxValues(housing_data_dict, housing_year)\n",
        "\n"
      ],
      "execution_count": 7,
      "outputs": [
        {
          "output_type": "stream",
          "text": [
            "{'2014_Total Housing Units': '49109', '2014_Vacant Housing Units': '2814', '2014_Occupied Housing Units': '46295', '2013_Total Housing Units': '47888', '2013_Vacant Housing Units': '4215', '2013_Occupied Housing Units': '43673', '2012_Total Housing Units': '45121', '2012_Vacant Housing Units': '3013', '2012_Occupied Housing Units': '42108', '2011_Total Housing Units': '44917', '2011_Vacant Housing Units': '4213', '2011_Occupied Housing Units': '40704', '2010_Total Housing Units': '44642', '2010_Vacant Housing Units': '3635', '2010_Occupied Housing Units': '41007', '2009_Total Housing Units': '39499', '2009_Vacant Housing Units': '3583', '2009_Occupied Housing Units': '35916', '2008_Total Housing Units': '41194', '2008_Vacant Housing Units': '4483', '2008_Occupied Housing Units': '36711', '2014_Owner Occupied': '21427', '2014_Renter Occupied': '24868', '2013_Owner Occupied': '20845', '2013_Renter Occupied': '22828', '2012_Owner Occupied': '20068', '2012_Renter Occupied': '22040', '2011_Owner Occupied': '18478', '2011_Renter Occupied': '22226', '2010_Owner Occupied': '18867', '2010_Renter Occupied': '22140', '2009_Owner Occupied': '18057', '2009_Renter Occupied': '17859', '2008_Owner Occupied': '17340', '2008_Renter Occupied': '19371', '2014_Median Gross Rent': '905', '2013_Median Gross Rent': '887', '2012_Median Gross Rent': '842', '2011_Median Gross Rent': '821', '2010_Median Gross Rent': '780', '2009_Median Gross Rent': '769', '2008_Median Gross Rent': '768'}\n",
            "years     occupationGrowth\n",
            "2008-2009     -795\n",
            "2009-2010     5091\n",
            "2010-2011     -303\n",
            "2011-2012     1404\n",
            "2012-2013     1565\n",
            "years     occupationPercent     VacantPercent\n",
            "2008     89.11734718648347     10.88265281351653\n",
            "2009     90.92888427555128     9.07111572444872\n",
            "2010     91.85744366291833     8.142556337081672\n",
            "2011     90.6204777701093     9.379522229890688\n",
            "2012     93.32239976950866     6.677600230491346\n",
            "2013     91.19821249582358     8.801787504176412\n",
            "                          Year     Value\n",
            "Vacant Housing Units       2008     4483\n",
            "Occupied Housing Units     2014   46295\n"
          ],
          "name": "stdout"
        }
      ]
    }
  ]
}