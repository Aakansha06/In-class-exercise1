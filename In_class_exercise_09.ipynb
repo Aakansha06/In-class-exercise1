{
  "nbformat": 4,
  "nbformat_minor": 0,
  "metadata": {
    "kernelspec": {
      "display_name": "Python 3",
      "language": "python",
      "name": "python3"
    },
    "language_info": {
      "codemirror_mode": {
        "name": "ipython",
        "version": 3
      },
      "file_extension": ".py",
      "mimetype": "text/x-python",
      "name": "python",
      "nbconvert_exporter": "python",
      "pygments_lexer": "ipython3",
      "version": "3.6.6"
    },
    "colab": {
      "name": "In_class_exercise_09 (2).ipynb",
      "provenance": [],
      "collapsed_sections": [],
      "toc_visible": true
    }
  },
  "cells": [
    {
      "cell_type": "markdown",
      "metadata": {
        "id": "qKOJMdsxYFEs"
      },
      "source": [
        "# **The ninth in-class-exercise (20 points in total, 11/11/2020)**"
      ]
    },
    {
      "cell_type": "markdown",
      "metadata": {
        "id": "SsUVu8OSYFEt"
      },
      "source": [
        "The purpose of the exercise is to practice different machine learning algorithms for text classification as well as the performance evaluation. In addition, you are requried to conduct *10 fold cross validation (https://scikit-learn.org/stable/modules/cross_validation.html)* in the training. \n",
        "\n",
        "The dataset can be download from here: https://github.com/unt-iialab/INFO5731_FALL2020/blob/master/In_class_exercise/exercise09_datacollection.zip. The dataset contains two files train data and test data for sentiment analysis in IMDB review, it has two categories: 1 represents positive and 0 represents negative. You need to split the training data into training and validate data (80% for training and 20% for validation, https://towardsdatascience.com/train-test-split-and-cross-validation-in-python-80b61beca4b6) and perform 10 fold cross validation while training the classifier. The final trained model was final evaluated on the test data. \n",
        "\n",
        "Algorithms:\n",
        "\n",
        "(1) MultinominalNB\n",
        "\n",
        "(2) SVM \n",
        "\n",
        "(3) KNN \n",
        "\n",
        "(4) Decision tree\n",
        "\n",
        "(5) Random Forest\n",
        "\n",
        "(6) XGBoost\n",
        "\n",
        "Evaluation measurement:\n",
        "\n",
        "(1) Accuracy\n",
        "\n",
        "(2) Recall\n",
        "\n",
        "(3) Precison \n",
        "\n",
        "(4) F-1 score"
      ]
    },
    {
      "cell_type": "code",
      "metadata": {
        "id": "CEo-3NmvYFEt"
      },
      "source": [
        "# Write your code here\n",
        "\n",
        "#Load the libraries\n",
        "import numpy as np\n",
        "import pandas as pd\n",
        "import nltk\n",
        "from sklearn.feature_extraction.text import TfidfVectorizer\n",
        "from nltk.corpus import stopwords\n",
        "from nltk.stem import WordNetLemmatizer\n",
        "from nltk.tokenize import word_tokenize,sent_tokenize\n",
        "from sklearn.model_selection import train_test_split\n",
        "from sklearn.model_selection import cross_val_score\n",
        "from nltk.tokenize import WordPunctTokenizer\n",
        "from sklearn.metrics import classification_report,confusion_matrix,accuracy_score, precision_score, recall_score, f1_score\n",
        "\n",
        "import warnings\n",
        "warnings.filterwarnings('ignore')"
      ],
      "execution_count": 1,
      "outputs": []
    },
    {
      "cell_type": "markdown",
      "metadata": {
        "id": "onCSE_eKYFEt"
      },
      "source": [
        "# Train Data"
      ]
    },
    {
      "cell_type": "code",
      "metadata": {
        "id": "kkr-ij5QYFEt"
      },
      "source": [
        "# Read the train data\n",
        "data = []\n",
        "with open(\"/content/stsa-train.txt\") as f:\n",
        "    for line in f:\n",
        "        line = line.strip(\"\\n\").split(\" \", 1)\n",
        "        data.append(line)"
      ],
      "execution_count": 5,
      "outputs": []
    },
    {
      "cell_type": "code",
      "metadata": {
        "colab": {
          "base_uri": "https://localhost:8080/",
          "height": 376
        },
        "id": "otwTrtg1YFEu",
        "outputId": "b7781a87-ad1d-4f16-c02c-7437b6c266dc"
      },
      "source": [
        "imdb_data = pd.DataFrame(data, columns = ['sentiment', 'review'])  \n",
        "print(imdb_data.shape)\n",
        "imdb_data.head(10)"
      ],
      "execution_count": 6,
      "outputs": [
        {
          "output_type": "stream",
          "text": [
            "(6920, 2)\n"
          ],
          "name": "stdout"
        },
        {
          "output_type": "execute_result",
          "data": {
            "text/html": [
              "<div>\n",
              "<style scoped>\n",
              "    .dataframe tbody tr th:only-of-type {\n",
              "        vertical-align: middle;\n",
              "    }\n",
              "\n",
              "    .dataframe tbody tr th {\n",
              "        vertical-align: top;\n",
              "    }\n",
              "\n",
              "    .dataframe thead th {\n",
              "        text-align: right;\n",
              "    }\n",
              "</style>\n",
              "<table border=\"1\" class=\"dataframe\">\n",
              "  <thead>\n",
              "    <tr style=\"text-align: right;\">\n",
              "      <th></th>\n",
              "      <th>sentiment</th>\n",
              "      <th>review</th>\n",
              "    </tr>\n",
              "  </thead>\n",
              "  <tbody>\n",
              "    <tr>\n",
              "      <th>0</th>\n",
              "      <td>1</td>\n",
              "      <td>a stirring , funny and finally transporting re...</td>\n",
              "    </tr>\n",
              "    <tr>\n",
              "      <th>1</th>\n",
              "      <td>0</td>\n",
              "      <td>apparently reassembled from the cutting-room f...</td>\n",
              "    </tr>\n",
              "    <tr>\n",
              "      <th>2</th>\n",
              "      <td>0</td>\n",
              "      <td>they presume their audience wo n't sit still f...</td>\n",
              "    </tr>\n",
              "    <tr>\n",
              "      <th>3</th>\n",
              "      <td>1</td>\n",
              "      <td>this is a visually stunning rumination on love...</td>\n",
              "    </tr>\n",
              "    <tr>\n",
              "      <th>4</th>\n",
              "      <td>1</td>\n",
              "      <td>jonathan parker 's bartleby should have been t...</td>\n",
              "    </tr>\n",
              "    <tr>\n",
              "      <th>5</th>\n",
              "      <td>1</td>\n",
              "      <td>campanella gets the tone just right -- funny i...</td>\n",
              "    </tr>\n",
              "    <tr>\n",
              "      <th>6</th>\n",
              "      <td>0</td>\n",
              "      <td>a fan film that for the uninitiated plays bett...</td>\n",
              "    </tr>\n",
              "    <tr>\n",
              "      <th>7</th>\n",
              "      <td>1</td>\n",
              "      <td>béart and berling are both superb , while hupp...</td>\n",
              "    </tr>\n",
              "    <tr>\n",
              "      <th>8</th>\n",
              "      <td>0</td>\n",
              "      <td>a little less extreme than in the past , with ...</td>\n",
              "    </tr>\n",
              "    <tr>\n",
              "      <th>9</th>\n",
              "      <td>0</td>\n",
              "      <td>the film is strictly routine .</td>\n",
              "    </tr>\n",
              "  </tbody>\n",
              "</table>\n",
              "</div>"
            ],
            "text/plain": [
              "  sentiment                                             review\n",
              "0         1  a stirring , funny and finally transporting re...\n",
              "1         0  apparently reassembled from the cutting-room f...\n",
              "2         0  they presume their audience wo n't sit still f...\n",
              "3         1  this is a visually stunning rumination on love...\n",
              "4         1  jonathan parker 's bartleby should have been t...\n",
              "5         1  campanella gets the tone just right -- funny i...\n",
              "6         0  a fan film that for the uninitiated plays bett...\n",
              "7         1  béart and berling are both superb , while hupp...\n",
              "8         0  a little less extreme than in the past , with ...\n",
              "9         0                     the film is strictly routine ."
            ]
          },
          "metadata": {
            "tags": []
          },
          "execution_count": 6
        }
      ]
    },
    {
      "cell_type": "code",
      "metadata": {
        "colab": {
          "base_uri": "https://localhost:8080/"
        },
        "id": "6m0JgJMJYFEw",
        "outputId": "a54d86e6-cc6c-400a-f3cc-be21df8ce7ab"
      },
      "source": [
        "# Train Data Pre Processing\n",
        "#Remove Stopwords and lematize\n",
        "import nltk\n",
        "nltk.download('wordnet')\n",
        "nltk.download('stopwords')\n",
        "tokenizer = WordPunctTokenizer()\n",
        "import string\n",
        "import re\n",
        "re_tok = re.compile(f'([{string.punctuation}“”¨«»®´·º½¾¿¡§£₤‘’])')\n",
        "def tokenize_s(s): return re_tok.sub(r' \\1 ', s).split()\n",
        "\n",
        "lmtzr = WordNetLemmatizer()\n",
        "lmtzr.lemmatize('cars')\n",
        "imdb_data['review'] = imdb_data['review'].apply(lambda x: ' '.join([lmtzr.lemmatize(word.lower()) for word in tokenize_s(x) if word not in stopwords.words('english') and len(word) > 1]))\n",
        "\n"
      ],
      "execution_count": 10,
      "outputs": [
        {
          "output_type": "stream",
          "text": [
            "[nltk_data] Downloading package wordnet to /root/nltk_data...\n",
            "[nltk_data]   Package wordnet is already up-to-date!\n",
            "[nltk_data] Downloading package stopwords to /root/nltk_data...\n",
            "[nltk_data]   Unzipping corpora/stopwords.zip.\n"
          ],
          "name": "stdout"
        }
      ]
    },
    {
      "cell_type": "markdown",
      "metadata": {
        "id": "bdKwLdm9YFEx"
      },
      "source": [
        "# Test Data"
      ]
    },
    {
      "cell_type": "code",
      "metadata": {
        "id": "52bA6GXgYFEx"
      },
      "source": [
        "# Read the test data\n",
        "test_data = []\n",
        "with open(\"/content/stsa-test.txt\") as f:\n",
        "    for line in f:\n",
        "        line = line.strip(\"\\n\").split(\" \", 1)\n",
        "        test_data.append(line)"
      ],
      "execution_count": 11,
      "outputs": []
    },
    {
      "cell_type": "code",
      "metadata": {
        "colab": {
          "base_uri": "https://localhost:8080/"
        },
        "id": "CvuRCW_LYFEx",
        "outputId": "422c914a-ed48-4cb4-cc8d-dc1387092033"
      },
      "source": [
        "# Test Data Pre Processing\n",
        "import nltk\n",
        "nltk.download('wordnet')\n",
        "nltk.download('stopwords')\n",
        "\n",
        "imdb_testdata = pd.DataFrame(test_data, columns = ['sentiment', 'review'])  \n",
        "print(imdb_testdata.shape)\n",
        "imdb_testdata.head(10)\n",
        "\n",
        "# Pre Processing\n",
        "#Remove Stopwords and lematize\n",
        "tokenizer = WordPunctTokenizer()\n",
        "import string\n",
        "import re\n",
        "re_tok = re.compile(f'([{string.punctuation}“”¨«»®´·º½¾¿¡§£₤‘’])')\n",
        "def tokenize_s(s): return re_tok.sub(r' \\1 ', s).split()\n",
        "\n",
        "lmtzr = WordNetLemmatizer()\n",
        "lmtzr.lemmatize('cars')\n",
        "imdb_testdata['review'] = imdb_testdata['review'].apply(lambda x: ' '.join([lmtzr.lemmatize(word.lower()) for word in tokenize_s(x) if word not in stopwords.words('english') and len(word) > 1]))\n"
      ],
      "execution_count": 12,
      "outputs": [
        {
          "output_type": "stream",
          "text": [
            "[nltk_data] Downloading package wordnet to /root/nltk_data...\n",
            "[nltk_data]   Package wordnet is already up-to-date!\n",
            "[nltk_data] Downloading package stopwords to /root/nltk_data...\n",
            "[nltk_data]   Package stopwords is already up-to-date!\n",
            "(1821, 2)\n"
          ],
          "name": "stdout"
        }
      ]
    },
    {
      "cell_type": "code",
      "metadata": {
        "id": "nIBIVTX-YFEx"
      },
      "source": [
        "X_test, y_test = imdb_testdata.review, imdb_testdata.sentiment"
      ],
      "execution_count": 14,
      "outputs": []
    },
    {
      "cell_type": "markdown",
      "metadata": {
        "id": "6X7BjlfGYFEx"
      },
      "source": [
        "# Train Test Split"
      ]
    },
    {
      "cell_type": "code",
      "metadata": {
        "colab": {
          "base_uri": "https://localhost:8080/"
        },
        "id": "H2XpnT4iYFEx",
        "outputId": "eba31af9-ee17-4fc5-bf62-75e01f22ab57"
      },
      "source": [
        "valid_size = 0.20\n",
        "X = imdb_data['review']\n",
        "y = imdb_data['sentiment']\n",
        "X_train, X_valid, y_train, y_valid = train_test_split(X, y, test_size=valid_size)\n",
        "print(X_train.shape, y_train.shape)\n",
        "print(X_valid.shape, y_valid.shape)"
      ],
      "execution_count": 15,
      "outputs": [
        {
          "output_type": "stream",
          "text": [
            "(5536,) (5536,)\n",
            "(1384,) (1384,)\n"
          ],
          "name": "stdout"
        }
      ]
    },
    {
      "cell_type": "markdown",
      "metadata": {
        "id": "xSuamXswYFEy"
      },
      "source": [
        "# TFIDF Vectorizer"
      ]
    },
    {
      "cell_type": "code",
      "metadata": {
        "id": "xSIl4I1qYFEz"
      },
      "source": [
        "vectorizer = TfidfVectorizer()\n",
        "tfidf_train = vectorizer.fit_transform(X_train)\n",
        "tfidf_valid = vectorizer.transform(X_valid)\n",
        "tfidf_test = vectorizer.transform(X_test)\n",
        "\n",
        "# Complete data vectors for 10 fold CV\n",
        "X_tfidf_train = vectorizer.fit_transform(X)"
      ],
      "execution_count": 16,
      "outputs": []
    },
    {
      "cell_type": "markdown",
      "metadata": {
        "id": "NC7Xc3TnYFEz"
      },
      "source": [
        "# Machine Learning Models"
      ]
    },
    {
      "cell_type": "markdown",
      "metadata": {
        "id": "fcjcIzPiYFEz"
      },
      "source": [
        "## Naive Bayes"
      ]
    },
    {
      "cell_type": "code",
      "metadata": {
        "id": "j-M56tEDYFE0"
      },
      "source": [
        "from sklearn.naive_bayes import MultinomialNB\n",
        "gnb = MultinomialNB()\n",
        "gnb_fit = gnb.fit(tfidf_train, y_train)"
      ],
      "execution_count": 17,
      "outputs": []
    },
    {
      "cell_type": "markdown",
      "metadata": {
        "id": "msTQDdhCYFE0"
      },
      "source": [
        "### 10 Fold CV"
      ]
    },
    {
      "cell_type": "code",
      "metadata": {
        "colab": {
          "base_uri": "https://localhost:8080/"
        },
        "id": "bQEnFSJmYFE0",
        "outputId": "22e4d37d-1aed-4714-db03-0158180b0006"
      },
      "source": [
        "# 10 fold cv\n",
        "scores = cross_val_score(gnb_fit, X_tfidf_train, y, cv=10, scoring='accuracy')\n",
        "scores"
      ],
      "execution_count": 18,
      "outputs": [
        {
          "output_type": "execute_result",
          "data": {
            "text/plain": [
              "array([0.77890173, 0.80491329, 0.78757225, 0.78468208, 0.75578035,\n",
              "       0.79624277, 0.76734104, 0.80491329, 0.79479769, 0.76156069])"
            ]
          },
          "metadata": {
            "tags": []
          },
          "execution_count": 18
        }
      ]
    },
    {
      "cell_type": "code",
      "metadata": {
        "colab": {
          "base_uri": "https://localhost:8080/"
        },
        "id": "jpQCVM4AYFE1",
        "outputId": "9012aebb-883b-4207-ee75-4d117c8905d9"
      },
      "source": [
        "gnb_pred_val = gnb.predict(tfidf_valid)\n",
        "gnb_pred_test = gnb.predict(tfidf_test)\n",
        "print('Confusion Matrix, Precison, Recall, Accuracy, F1 Score and how many correct records are predicted for Validation Data:')\n",
        "print(f\"Confustion Matrix: \\n{confusion_matrix(y_valid, gnb_pred_val)}\")\n",
        "print(f\"Precision: {precision_score(y_valid, gnb_pred_val, average='macro')}\")\n",
        "print(f\"Recall: {recall_score(y_valid, gnb_pred_val, average='macro')}\")\n",
        "print(f\"Accuracy: {accuracy_score(y_valid, gnb_pred_val)}\")\n",
        "print(f\"F1: {f1_score(y_valid, gnb_pred_val, average='macro')}\")\n",
        "print(f\"How Many correct records correctly predicted {accuracy_score(y_valid, gnb_pred_val, normalize = False)}\\n\")\n",
        "\n",
        "print('Confusion Matrix, Precison, Recall, Accuracy, F1 Score and how many correct records are predicted for Test Data:')\n",
        "print(f\"Confustion Matrix: \\n{confusion_matrix(y_test, gnb_pred_test)}\")\n",
        "print(f\"Precision: {precision_score(y_test, gnb_pred_test, average='macro')}\")\n",
        "print(f\"Recall: {recall_score(y_test, gnb_pred_test, average='macro')}\")\n",
        "print(f\"Accuracy: {accuracy_score(y_test, gnb_pred_test)}\")\n",
        "print(f\"F1: {f1_score(y_test, gnb_pred_test, average='macro')}\")\n",
        "print(f\"How Many correct records correctly predicted {accuracy_score(y_test, gnb_pred_test, normalize = False)}\")"
      ],
      "execution_count": 19,
      "outputs": [
        {
          "output_type": "stream",
          "text": [
            "Confusion Matrix, Precison, Recall, Accuracy, F1 Score and how many correct records are predicted for Validation Data:\n",
            "Confustion Matrix: \n",
            "[[465 198]\n",
            " [106 615]]\n",
            "Precision: 0.7854091675767896\n",
            "Recall: 0.777169717775086\n",
            "Accuracy: 0.7803468208092486\n",
            "F1: 0.7777359854111769\n",
            "How Many correct records correctly predicted 1080\n",
            "\n",
            "Confusion Matrix, Precison, Recall, Accuracy, F1 Score and how many correct records are predicted for Test Data:\n",
            "Confustion Matrix: \n",
            "[[645 267]\n",
            " [109 800]]\n",
            "Precision: 0.8026016820008999\n",
            "Recall: 0.7936624254530716\n",
            "Accuracy: 0.7935200439319056\n",
            "F1: 0.7920131615399196\n",
            "How Many correct records correctly predicted 1445\n"
          ],
          "name": "stdout"
        }
      ]
    },
    {
      "cell_type": "markdown",
      "metadata": {
        "id": "Tip_XcowYFE1"
      },
      "source": [
        "# SVM"
      ]
    },
    {
      "cell_type": "code",
      "metadata": {
        "id": "sSqy1cNgYFE1"
      },
      "source": [
        "from sklearn import svm\n",
        "clf = svm.SVC(gamma='auto')\n",
        "svm_fit = clf.fit(tfidf_train, y_train)  "
      ],
      "execution_count": 20,
      "outputs": []
    },
    {
      "cell_type": "code",
      "metadata": {
        "colab": {
          "base_uri": "https://localhost:8080/"
        },
        "id": "M8FXrKZXYFE1",
        "outputId": "a133cc3b-6c7c-4539-8396-e4b6f4074407"
      },
      "source": [
        "# 10 fold cv\n",
        "scores = cross_val_score(svm_fit, X_tfidf_train, y, cv=10, scoring='accuracy')\n",
        "scores"
      ],
      "execution_count": 21,
      "outputs": [
        {
          "output_type": "execute_result",
          "data": {
            "text/plain": [
              "array([0.5216763, 0.5216763, 0.5216763, 0.5216763, 0.5216763, 0.5216763,\n",
              "       0.5216763, 0.5216763, 0.5216763, 0.5216763])"
            ]
          },
          "metadata": {
            "tags": []
          },
          "execution_count": 21
        }
      ]
    },
    {
      "cell_type": "code",
      "metadata": {
        "colab": {
          "base_uri": "https://localhost:8080/"
        },
        "id": "MJDviGp1YFE3",
        "outputId": "e62b5598-ae2f-4a53-f116-0150c8017737"
      },
      "source": [
        "svm_pred_val = svm_fit.predict(tfidf_valid)\n",
        "svm_pred_test = svm_fit.predict(tfidf_test)\n",
        "print('Confusion Matrix, Precison, Recall, Accuracy, F1 Score and how many correct records are predicted for Validation Data:')\n",
        "print(f\"Confustion Matrix: \\n{confusion_matrix(y_valid, svm_pred_val)}\")\n",
        "print(f\"Precision: {precision_score(y_valid, svm_pred_val, average='macro')}\")\n",
        "print(f\"Recall: {recall_score(y_valid, svm_pred_val, average='macro')}\")\n",
        "print(f\"Accuracy: {accuracy_score(y_valid, svm_pred_val)}\")\n",
        "print(f\"F1: {f1_score(y_valid, svm_pred_val, average='macro')}\")\n",
        "print(f\"How Many correct records correctly predicted {accuracy_score(y_valid, svm_pred_val, normalize = False)}\\n\")\n",
        "\n",
        "print('Confusion Matrix, Precison, Recall, Accuracy, F1 Score and how many correct records are predicted for Test Data:')\n",
        "print(f\"Confustion Matrix: \\n{confusion_matrix(y_test, svm_pred_test)}\")\n",
        "print(f\"Precision: {precision_score(y_test, svm_pred_test, average='macro')}\")\n",
        "print(f\"Recall: {recall_score(y_test, svm_pred_test, average='macro')}\")\n",
        "print(f\"Accuracy: {accuracy_score(y_test, svm_pred_test)}\")\n",
        "print(f\"F1: {f1_score(y_test, svm_pred_test, average='macro')}\")\n",
        "print(f\"How Many correct records correctly predicted {accuracy_score(y_test, svm_pred_test, normalize = False)}\")"
      ],
      "execution_count": 23,
      "outputs": [
        {
          "output_type": "stream",
          "text": [
            "Confusion Matrix, Precison, Recall, Accuracy, F1 Score and how many correct records are predicted for Validation Data:\n",
            "Confustion Matrix: \n",
            "[[  0 663]\n",
            " [  0 721]]\n",
            "Precision: 0.2604768786127168\n",
            "Recall: 0.5\n",
            "Accuracy: 0.5209537572254336\n",
            "F1: 0.3425178147268409\n",
            "How Many correct records correctly predicted 721\n",
            "\n",
            "Confusion Matrix, Precison, Recall, Accuracy, F1 Score and how many correct records are predicted for Test Data:\n",
            "Confustion Matrix: \n",
            "[[  0 912]\n",
            " [  0 909]]\n",
            "Precision: 0.24958813838550248\n",
            "Recall: 0.5\n",
            "Accuracy: 0.49917627677100496\n",
            "F1: 0.33296703296703295\n",
            "How Many correct records correctly predicted 909\n"
          ],
          "name": "stdout"
        }
      ]
    },
    {
      "cell_type": "markdown",
      "metadata": {
        "id": "3vNg6id0YFE3"
      },
      "source": [
        "# KNN"
      ]
    },
    {
      "cell_type": "code",
      "metadata": {
        "id": "VsBjtxczYFE3"
      },
      "source": [
        "from sklearn.neighbors import KNeighborsClassifier\n",
        "neigh = KNeighborsClassifier(n_neighbors=5)\n",
        "knn_fit = neigh.fit(tfidf_train, y_train)"
      ],
      "execution_count": 24,
      "outputs": []
    },
    {
      "cell_type": "code",
      "metadata": {
        "colab": {
          "base_uri": "https://localhost:8080/"
        },
        "id": "rrXCr_FjYFE3",
        "outputId": "d54e702f-bba7-41d4-b0cd-3fb17163d717"
      },
      "source": [
        "# 10 fold cv\n",
        "scores = cross_val_score(knn_fit, X_tfidf_train, y, cv=10, scoring='accuracy')\n",
        "scores"
      ],
      "execution_count": 25,
      "outputs": [
        {
          "output_type": "execute_result",
          "data": {
            "text/plain": [
              "array([0.68063584, 0.5       , 0.49277457, 0.48410405, 0.48265896,\n",
              "       0.50867052, 0.49277457, 0.49710983, 0.49277457, 0.48265896])"
            ]
          },
          "metadata": {
            "tags": []
          },
          "execution_count": 25
        }
      ]
    },
    {
      "cell_type": "code",
      "metadata": {
        "colab": {
          "base_uri": "https://localhost:8080/"
        },
        "id": "UGmsGb_CYFE3",
        "outputId": "e954ddfd-23de-4ae0-f188-1c74d9a8cbfe"
      },
      "source": [
        "knn_pred_val = knn_fit.predict(tfidf_valid)\n",
        "knn_pred_test = knn_fit.predict(tfidf_test)\n",
        "print('Confusion Matrix, Precison, Recall, Accuracy, F1 Score and how many correct records are predicted for Validation Data:')\n",
        "print(f\"Confustion Matrix: \\n{confusion_matrix(y_valid, knn_pred_val)}\")\n",
        "print(f\"Precision: {precision_score(y_valid, knn_pred_val, average='macro')}\")\n",
        "print(f\"Recall: {recall_score(y_valid, knn_pred_val, average='macro')}\")\n",
        "print(f\"Accuracy: {accuracy_score(y_valid, knn_pred_val)}\")\n",
        "print(f\"F1: {f1_score(y_valid, knn_pred_val, average='macro')}\")\n",
        "print(f\"How Many correct records correctly predicted {accuracy_score(y_valid, knn_pred_val, normalize = False)}\\n\")\n",
        "\n",
        "print('Confusion Matrix, Precison, Recall, Accuracy, F1 Score and how many correct records are predicted for Test Data:')\n",
        "print(f\"Confustion Matrix: \\n{confusion_matrix(y_test, knn_pred_test)}\")\n",
        "print(f\"Precision: {precision_score(y_test, knn_pred_test, average='macro')}\")\n",
        "print(f\"Recall: {recall_score(y_test, knn_pred_test, average='macro')}\")\n",
        "print(f\"Accuracy: {accuracy_score(y_test, knn_pred_test)}\")\n",
        "print(f\"F1: {f1_score(y_test, knn_pred_test, average='macro')}\")\n",
        "print(f\"How Many correct records correctly predicted {accuracy_score(y_test, knn_pred_test, normalize = False)}\")"
      ],
      "execution_count": 26,
      "outputs": [
        {
          "output_type": "stream",
          "text": [
            "Confusion Matrix, Precison, Recall, Accuracy, F1 Score and how many correct records are predicted for Validation Data:\n",
            "Confustion Matrix: \n",
            "[[658   5]\n",
            " [710  11]]\n",
            "Precision: 0.5842470760233918\n",
            "Recall: 0.5038575549712043\n",
            "Accuracy: 0.4833815028901734\n",
            "F1: 0.33890370892950317\n",
            "How Many correct records correctly predicted 669\n",
            "\n",
            "Confusion Matrix, Precison, Recall, Accuracy, F1 Score and how many correct records are predicted for Test Data:\n",
            "Confustion Matrix: \n",
            "[[910   2]\n",
            " [894  15]]\n",
            "Precision: 0.693393765488457\n",
            "Recall: 0.5071543338544381\n",
            "Accuracy: 0.5079626578802856\n",
            "F1: 0.35125025049542424\n",
            "How Many correct records correctly predicted 925\n"
          ],
          "name": "stdout"
        }
      ]
    },
    {
      "cell_type": "markdown",
      "metadata": {
        "id": "SZKP0YfQYFE4"
      },
      "source": [
        "# Decision Tree"
      ]
    },
    {
      "cell_type": "code",
      "metadata": {
        "id": "Usgve9eFYFE4"
      },
      "source": [
        "from sklearn.tree import DecisionTreeClassifier\n",
        "dtree_clf = DecisionTreeClassifier()\n",
        "dtree_fit = dtree_clf.fit(tfidf_train, y_train)"
      ],
      "execution_count": 27,
      "outputs": []
    },
    {
      "cell_type": "code",
      "metadata": {
        "colab": {
          "base_uri": "https://localhost:8080/"
        },
        "id": "kIL1RK-yYFE4",
        "outputId": "af0a78df-175a-43c7-9d8f-ef222c66b842"
      },
      "source": [
        "# 10 fold cv\n",
        "scores = cross_val_score(dtree_fit, X_tfidf_train, y, cv=10, scoring='accuracy')\n",
        "scores"
      ],
      "execution_count": 28,
      "outputs": [
        {
          "output_type": "execute_result",
          "data": {
            "text/plain": [
              "array([0.62427746, 0.64739884, 0.66618497, 0.64884393, 0.63150289,\n",
              "       0.66618497, 0.60549133, 0.66763006, 0.65606936, 0.66040462])"
            ]
          },
          "metadata": {
            "tags": []
          },
          "execution_count": 28
        }
      ]
    },
    {
      "cell_type": "code",
      "metadata": {
        "colab": {
          "base_uri": "https://localhost:8080/"
        },
        "id": "60_UrQSwYFE4",
        "outputId": "0c8b92c8-c35a-42fb-b839-f60da666e781"
      },
      "source": [
        "dtree_pred_val = dtree_fit.predict(tfidf_valid)\n",
        "dtree_pred_test = dtree_fit.predict(tfidf_test)\n",
        "print('Confusion Matrix, Precison, Recall, Accuracy, F1 Score and how many correct records are predicted for Validation Data:')\n",
        "print(f\"Confustion Matrix: \\n{confusion_matrix(y_valid, dtree_pred_val)}\")\n",
        "print(f\"Precision: {precision_score(y_valid, dtree_pred_val, average='macro')}\")\n",
        "print(f\"Recall: {recall_score(y_valid, dtree_pred_val, average='macro')}\")\n",
        "print(f\"Accuracy: {accuracy_score(y_valid, dtree_pred_val)}\")\n",
        "print(f\"F1: {f1_score(y_valid, dtree_pred_val, average='macro')}\")\n",
        "print(f\"How Many correct records correctly predicted {accuracy_score(y_valid, dtree_pred_val, normalize = False)}\\n\")\n",
        "\n",
        "print('Confusion Matrix, Precison, Recall, Accuracy, F1 Score and how many correct records are predicted for Test Data:')\n",
        "print(f\"Confustion Matrix: \\n{confusion_matrix(y_test, dtree_pred_test)}\")\n",
        "print(f\"Precision: {precision_score(y_test, dtree_pred_test, average='macro')}\")\n",
        "print(f\"Recall: {recall_score(y_test, dtree_pred_test, average='macro')}\")\n",
        "print(f\"Accuracy: {accuracy_score(y_test, dtree_pred_test)}\")\n",
        "print(f\"F1: {f1_score(y_test, dtree_pred_test, average='macro')}\")\n",
        "print(f\"How Many correct records correctly predicted {accuracy_score(y_test, dtree_pred_test, normalize = False)}\")"
      ],
      "execution_count": 29,
      "outputs": [
        {
          "output_type": "stream",
          "text": [
            "Confusion Matrix, Precison, Recall, Accuracy, F1 Score and how many correct records are predicted for Validation Data:\n",
            "Confustion Matrix: \n",
            "[[434 229]\n",
            " [261 460]]\n",
            "Precision: 0.6460473420972945\n",
            "Recall: 0.6463015377921146\n",
            "Accuracy: 0.6459537572254336\n",
            "F1: 0.6458287636177524\n",
            "How Many correct records correctly predicted 894\n",
            "\n",
            "Confusion Matrix, Precison, Recall, Accuracy, F1 Score and how many correct records are predicted for Test Data:\n",
            "Confustion Matrix: \n",
            "[[603 309]\n",
            " [330 579]]\n",
            "Precision: 0.6491646389154427\n",
            "Recall: 0.6490739534479764\n",
            "Accuracy: 0.6490939044481054\n",
            "F1: 0.6490329410806628\n",
            "How Many correct records correctly predicted 1182\n"
          ],
          "name": "stdout"
        }
      ]
    },
    {
      "cell_type": "markdown",
      "metadata": {
        "id": "2ZDxVWSbYFE4"
      },
      "source": [
        "# Random Forest"
      ]
    },
    {
      "cell_type": "code",
      "metadata": {
        "id": "dqCc0rTUYFE4"
      },
      "source": [
        "from sklearn.ensemble import RandomForestClassifier\n",
        "rf_clf = RandomForestClassifier(max_depth=2, random_state=0)\n",
        "rf_fit = rf_clf.fit(tfidf_train, y_train)"
      ],
      "execution_count": 30,
      "outputs": []
    },
    {
      "cell_type": "code",
      "metadata": {
        "colab": {
          "base_uri": "https://localhost:8080/"
        },
        "id": "Q5Or7coQYFE4",
        "outputId": "f8abb57f-eb48-4856-fefa-c84ae958b16c"
      },
      "source": [
        "# 10 fold cv\n",
        "scores = cross_val_score(rf_fit, X_tfidf_train, y, cv=10, scoring='accuracy')\n",
        "scores"
      ],
      "execution_count": 31,
      "outputs": [
        {
          "output_type": "execute_result",
          "data": {
            "text/plain": [
              "array([0.52601156, 0.5216763 , 0.52312139, 0.52312139, 0.52745665,\n",
              "       0.5216763 , 0.52312139, 0.52312139, 0.5216763 , 0.52312139])"
            ]
          },
          "metadata": {
            "tags": []
          },
          "execution_count": 31
        }
      ]
    },
    {
      "cell_type": "code",
      "metadata": {
        "colab": {
          "base_uri": "https://localhost:8080/"
        },
        "id": "D3rkJmn3YFE5",
        "outputId": "f8040812-ea01-4fe3-8f75-5abbe1bc2875"
      },
      "source": [
        "rf_pred_val = rf_fit.predict(tfidf_valid)\n",
        "rf_pred_test = rf_fit.predict(tfidf_test)\n",
        "print('Confusion Matrix, Precison, Recall, Accuracy, F1 Score and how many correct records are predicted for Validation Data:')\n",
        "print(f\"Confustion Matrix: \\n{confusion_matrix(y_valid, rf_pred_val)}\")\n",
        "print(f\"Precision: {precision_score(y_valid, rf_pred_val, average='macro')}\")\n",
        "print(f\"Recall: {recall_score(y_valid, rf_pred_val, average='macro')}\")\n",
        "print(f\"Accuracy: {accuracy_score(y_valid, rf_pred_val)}\")\n",
        "print(f\"F1: {f1_score(y_valid, rf_pred_val, average='macro')}\")\n",
        "print(f\"How Many correct records correctly predicted {accuracy_score(y_valid, rf_pred_val, normalize = False)}\\n\")\n",
        "\n",
        "print('Confusion Matrix, Precison, Recall, Accuracy, F1 Score and how many correct records are predicted for Test Data:')\n",
        "print(f\"Confustion Matrix: \\n{confusion_matrix(y_test, rf_pred_test)}\")\n",
        "print(f\"Precision: {precision_score(y_test, rf_pred_test, average='macro')}\")\n",
        "print(f\"Recall: {recall_score(y_test, rf_pred_test, average='macro')}\")\n",
        "print(f\"Accuracy: {accuracy_score(y_test, rf_pred_test)}\")\n",
        "print(f\"F1: {f1_score(y_test, rf_pred_test, average='macro')}\")\n",
        "print(f\"How Many correct records correctly predicted {accuracy_score(y_test, rf_pred_test, normalize = False)}\")"
      ],
      "execution_count": 32,
      "outputs": [
        {
          "output_type": "stream",
          "text": [
            "Confusion Matrix, Precison, Recall, Accuracy, F1 Score and how many correct records are predicted for Validation Data:\n",
            "Confustion Matrix: \n",
            "[[  1 662]\n",
            " [  0 721]]\n",
            "Precision: 0.7606652205350687\n",
            "Recall: 0.5007541478129713\n",
            "Accuracy: 0.5216763005780347\n",
            "F1: 0.3441866324614046\n",
            "How Many correct records correctly predicted 722\n",
            "\n",
            "Confusion Matrix, Precison, Recall, Accuracy, F1 Score and how many correct records are predicted for Test Data:\n",
            "Confustion Matrix: \n",
            "[[  3 909]\n",
            " [  0 909]]\n",
            "Precision: 0.75\n",
            "Recall: 0.5016447368421053\n",
            "Accuracy: 0.500823723228995\n",
            "F1: 0.3366120218579235\n",
            "How Many correct records correctly predicted 912\n"
          ],
          "name": "stdout"
        }
      ]
    },
    {
      "cell_type": "markdown",
      "metadata": {
        "id": "RKg-0zQ5YFE5"
      },
      "source": [
        "# XG Boost"
      ]
    },
    {
      "cell_type": "code",
      "metadata": {
        "id": "j8hL5_7oYFE5"
      },
      "source": [
        "from sklearn.ensemble import GradientBoostingClassifier\n",
        "xg_clf = GradientBoostingClassifier(random_state=0)\n",
        "xg_fit = xg_clf.fit(tfidf_train, y_train)"
      ],
      "execution_count": 33,
      "outputs": []
    },
    {
      "cell_type": "code",
      "metadata": {
        "colab": {
          "base_uri": "https://localhost:8080/"
        },
        "id": "xblz1rOQYFE5",
        "outputId": "2dbb1a86-2878-478f-a0a1-3d37d15dbbfb"
      },
      "source": [
        "# 10 fold cv\n",
        "scores = cross_val_score(xg_fit, X_tfidf_train, y, cv=10, scoring='accuracy')\n",
        "scores"
      ],
      "execution_count": 34,
      "outputs": [
        {
          "output_type": "execute_result",
          "data": {
            "text/plain": [
              "array([0.64595376, 0.66907514, 0.6632948 , 0.66907514, 0.64884393,\n",
              "       0.66763006, 0.62861272, 0.63872832, 0.63150289, 0.65606936])"
            ]
          },
          "metadata": {
            "tags": []
          },
          "execution_count": 34
        }
      ]
    },
    {
      "cell_type": "code",
      "metadata": {
        "colab": {
          "base_uri": "https://localhost:8080/"
        },
        "id": "58IQ8158YFE5",
        "outputId": "32d7ca7b-dc52-4225-f8b9-1586d39f1bfb"
      },
      "source": [
        "xg_pred_val = xg_fit.predict(tfidf_valid)\n",
        "xg_pred_test = xg_fit.predict(tfidf_test)\n",
        "print('Confusion Matrix, Precison, Recall, Accuracy, F1 Score and how many correct records are predicted for Validation Data:')\n",
        "print(f\"Confustion Matrix: \\n{confusion_matrix(y_valid, xg_pred_val)}\")\n",
        "print(f\"Precision: {precision_score(y_valid, xg_pred_val, average='macro')}\")\n",
        "print(f\"Recall: {recall_score(y_valid, xg_pred_val, average='macro')}\")\n",
        "print(f\"Accuracy: {accuracy_score(y_valid, xg_pred_val)}\")\n",
        "print(f\"F1: {f1_score(y_valid, xg_pred_val, average='macro')}\")\n",
        "print(f\"How Many correct records correctly predicted {accuracy_score(y_valid, xg_pred_val, normalize = False)}\\n\")\n",
        "\n",
        "print('Confusion Matrix, Precison, Recall, Accuracy, F1 Score and how many correct records are predicted for Test Data:')\n",
        "print(f\"Confustion Matrix: \\n{confusion_matrix(y_test, xg_pred_test)}\")\n",
        "print(f\"Precision: {precision_score(y_test, xg_pred_test, average='macro')}\")\n",
        "print(f\"Recall: {recall_score(y_test, xg_pred_test, average='macro')}\")\n",
        "print(f\"Accuracy: {accuracy_score(y_test, xg_pred_test)}\")\n",
        "print(f\"F1: {f1_score(y_test, xg_pred_test, average='macro')}\")\n",
        "print(f\"How Many correct records correctly predicted {accuracy_score(y_test, xg_pred_test, normalize = False)}\")"
      ],
      "execution_count": 35,
      "outputs": [
        {
          "output_type": "stream",
          "text": [
            "Confusion Matrix, Precison, Recall, Accuracy, F1 Score and how many correct records are predicted for Validation Data:\n",
            "Confustion Matrix: \n",
            "[[311 352]\n",
            " [125 596]]\n",
            "Precision: 0.6709973677079704\n",
            "Recall: 0.647854810333394\n",
            "Accuracy: 0.6553468208092486\n",
            "F1: 0.6400845913082921\n",
            "How Many correct records correctly predicted 907\n",
            "\n",
            "Confusion Matrix, Precison, Recall, Accuracy, F1 Score and how many correct records are predicted for Test Data:\n",
            "Confustion Matrix: \n",
            "[[436 476]\n",
            " [164 745]]\n",
            "Precision: 0.6684111384111384\n",
            "Recall: 0.648826066817208\n",
            "Accuracy: 0.6485447556287754\n",
            "F1: 0.6381250465757509\n",
            "How Many correct records correctly predicted 1181\n"
          ],
          "name": "stdout"
        }
      ]
    },
    {
      "cell_type": "code",
      "metadata": {
        "id": "dgrQG3ICYFE6"
      },
      "source": [
        ""
      ],
      "execution_count": null,
      "outputs": []
    },
    {
      "cell_type": "code",
      "metadata": {
        "id": "e9LBsjVfYFE6"
      },
      "source": [
        ""
      ],
      "execution_count": null,
      "outputs": []
    }
  ]
}