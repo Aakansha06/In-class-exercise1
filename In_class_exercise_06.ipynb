{
  "nbformat": 4,
  "nbformat_minor": 0,
  "metadata": {
    "colab": {
      "name": "In_class_exercise_06.ipynb",
      "provenance": [],
      "collapsed_sections": []
    },
    "kernelspec": {
      "display_name": "Python 3",
      "language": "python",
      "name": "python3"
    },
    "language_info": {
      "codemirror_mode": {
        "name": "ipython",
        "version": 3
      },
      "file_extension": ".py",
      "mimetype": "text/x-python",
      "name": "python",
      "nbconvert_exporter": "python",
      "pygments_lexer": "ipython3",
      "version": "3.7.4"
    }
  },
  "cells": [
    {
      "cell_type": "markdown",
      "metadata": {
        "id": "view-in-github"
      },
      "source": [
        "<a href=\"https://colab.research.google.com/github/unt-iialab/INFO5731_Spring2020/blob/master/In_class_exercise/In_class_exercise_05.ipynb\" target=\"_parent\"><img src=\"https://colab.research.google.com/assets/colab-badge.svg\" alt=\"Open In Colab\"/></a>"
      ]
    },
    {
      "cell_type": "markdown",
      "metadata": {
        "id": "z7TahL04sVvR"
      },
      "source": [
        "# **The sixth in-class-exercise (20 points in total, 10/14/2020)**"
      ]
    },
    {
      "cell_type": "markdown",
      "metadata": {
        "id": "ejyZITr8sjnh"
      },
      "source": [
        "## **1. Rule-based information extraction (10 points)**\n",
        "\n",
        "Use any keywords related to data science, natural language processing, machine learning to search from google scholar, get the **titles** of 100 articles (either by web scraping or manually) about this topic, define a set of patterns to extract the research questions/problems, methods/algorithms/models, datasets, applications, or any other important information about this topic. "
      ]
    },
    {
      "cell_type": "code",
      "metadata": {
        "id": "XvR_O9D8sOUY",
        "outputId": "cd2f0a16-5665-48f7-b599-82abd81fc4d9",
        "colab": {
          "base_uri": "https://localhost:8080/",
          "height": 1000
        }
      },
      "source": [
        "# Write your code here\n",
        "import pandas as pd\n",
        "import csv\n",
        "with open(\"/content/Inclass6.txt\", \"r\", newline = \"\", encoding = 'utf-8') as file:\n",
        "  articletitles = file.read()\n",
        "articletitles"
      ],
      "execution_count": 3,
      "outputs": [
        {
          "output_type": "execute_result",
          "data": {
            "application/vnd.google.colaboratory.intrinsic+json": {
              "type": "string"
            },
            "text/plain": [
              "'Abstract\\r\\nBackground\\r\\nClinical narratives represent the main form of communication within health care, providing a personalized account of patient history and assessments, and offering rich information for clinical decision making. Natural language processing (NLP) has repeatedly demonstrated its feasibility to unlock evidence buried in clinical narratives. Machine learning can facilitate rapid development of NLP tools by leveraging large amounts of text data.\\r\\n\\r\\nObjective\\r\\nThe main aim of this study was to provide systematic evidence on the properties of text data used to train machine learning approaches to clinical NLP. We also investigated the types of NLP tasks that have been supported by machine learning and how they can be applied in clinical practice.\\r\\n\\r\\nMethods\\r\\nOur methodology was based on the guidelines for performing systematic reviews. In August 2018, we used PubMed, a multifaceted interface, to perform a literature search against MEDLINE. We identified 110 relevant studies and extracted information about text data used to support machine learning, NLP tasks supported, and their clinical applications. The data properties considered included their size, provenance, collection methods, annotation, and any relevant statistics.\\r\\n\\r\\nResults\\r\\nThe majority of datasets used to train machine learning models included only hundreds or thousands of documents. Only 10 studies used tens of thousands of documents, with a handful of studies utilizing more. Relatively small datasets were utilized for training even when much larger datasets were available. The main reason for such poor data utilization is the annotation bottleneck faced by supervised machine learning algorithms. Active learning was explored to iteratively sample a subset of data for manual annotation as a strategy for minimizing the annotation effort while maximizing the predictive performance of the model. Supervised learning was successfully used where clinical codes integrated with free-text notes into electronic health records were utilized as class labels. Similarly, distant supervision was used to utilize an existing knowledge base to automatically annotate raw text. Where manual annotation was unavoidable, crowdsourcing was explored, but it remains unsuitable because of the sensitive nature of data considered. Besides the small volume, training data were typically sourced from a small number of institutions, thus offering no hard evidence about the transferability of machine learning models. The majority of studies focused on text classification. Most commonly, the classification results were used to support phenotyping, prognosis, care improvement, resource management, and surveillance.\\r\\n\\r\\nConclusions\\r\\nWe identified the data annotation bottleneck as one of the key obstacles to machine learning approaches in clinical NLP. Active learning and distant supervision were explored as a way of saving the annotation efforts. Future research in this field would benefit from alternatives such as data augmentation and transfer learning, or unsupervised learning, which do not require data annotation.\\r\\n\\r\\nIntroduction\\r\\nClinical narratives represent the main form of communication within health care. In comparison with generically coded elements of electronic health records (EHRs), the narrative notes provide a more detailed and personalized account of patient history and assessments, offering a better context for clinical decision making [1]. Natural language processing (NLP) is a subfield of artificial intelligence that studies the ways in which the analysis and synthesis of information expressed in a natural language can be automated. It has repeatedly demonstrated its feasibility to unlock evidence buried in clinical narratives, making it available for large-scale analysis down the stream [2]. Traditionally, rule-based approaches were commonly used to unlock evidence of specific types [3]. Their development requires some form of direct interaction with clinical experts to convert their knowledge, often tacit, into a set of explicit pattern-matching rules.\\r\\n\\r\\nMachine learning has long been hailed as a silver bullet solution for the knowledge elicitation bottleneck, the main argument being that the task of annotating the data manually is easier than that of eliciting the knowledge [4]. Nonetheless, the amount of data required to train a machine learning model may require as much time to annotate as the knowledge elicitation itself [5]. Much like the law of energy conservation, it seems that the knowledge required to inform the creation of an accurate computational model is simply transferred from one form to another. Instead of explicit knowledge in the form of rules, machine learning is based on implicit knowledge in the form of annotations and their distribution, with the time involved in their acquisition remaining virtually constant.\\r\\n\\r\\nAnother problem associated with the machine learning approach is the availability of clinical narratives given the sensitive nature of health data and privacy concerns [6]. These problems (ie, unavailability of manually annotated data) may result in the lack of representativeness of the training data and consequently substandard performance of the corresponding machine learning models. For these reasons, the main aim of this review was to provide systematic evidence on the properties of data used to train machine learning approaches to clinical NLP. In addition, we investigate the types of NLP tasks that have been supported by machine learning and how they can be applied in clinical practice.\\r\\n\\r\\nThe remainder of the paper is organized as follows. We start by explaining the methodology of this systematic review in detail. We then discuss the main findings of the review. Finally, we conclude the review by outlining future research directions in this field.\\r\\n\\r\\nGo to:\\r\\nMethods\\r\\nOverview\\r\\nOn the basis of the guidelines for performing systematic reviews described by Kitchenham [7], our methodology is structured around the following steps. First, research questions (RQs) were used to define the scope, depth, and the overall aim of the review. Next, a search strategy was designed to identify all studies that are relevant to the RQs in an efficient and reproducible manner. In addition, inclusion and exclusion criteria were defined to refine the scope. A critical appraisal of the included studies was conducted to ensure that the findings of the review are valid. During data extraction, the relevant information was identified from the included studies and semistructured to facilitate the synthesis of evidence and support the findings of the review.\\r\\n\\r\\nResearch Questions\\r\\nThe overarching topic of this review is concerned with the properties of text data used to enable machine learning approaches to clinical NLP. The main aim of the review was to answer the RQs given in Table 1. RQ1 aims at describing the properties of data that are relevant for interpreting the performance of machine learning. These properties include size, provenance, heterogeneity, annotations, and others. Here, heterogeneity refers to content, structure, and clinical domains. RQ2 classifies the problems addressed by machine learning in the context of NLP into different types of computational tasks. Finally, RQ3 focuses on the ways in which NLP based on machine learning can be applied to tackle practical problems encountered in clinical practice.\\r\\nSearch Strategy\\r\\nWe used PubMed as a search engine to retrieve relevant documents from the MEDLINE database of 28 million citations from life sciences and biomedical literature, which are indexed by Medical Subject Headings (MeSH). MeSH is a hierarchically organized controlled vocabulary used for manually indexing articles in MEDLINE in a uniform and consistent manner to facilitate their retrieval. We derived a list of search terms to describe the topic of this review: machine learning, deep learning, text, natural language, clinical, health, health care, and patient. Here, machine learning and deep learning are used to retrieve articles that employ this methodology. Note that MeSH includes the term machine learning, thus making it unnecessary to include specific machine learning techniques such as support vector machines or conditional random fields into the search query. The following 2 search terms, text and natural language, refer to the relevant type of input into the learning methods. The final 4 terms were used to refer to clinical applications. Owing to the broad nature and common use of the last 6 terms, their mentions were restricted to titles and abstracts only. In an attempt to prevent retrieval of nonoriginal studies and NLP applications developed to support systematic reviews, we negated the terms literature, bibliometric, and systematic review. Finally, to focus on the emerging application of machine learning, we restricted the search to the period from January 1, 2015. The search was performed on August 8, 2018. The search terms were combined into a PubMed query as follows:\\r\\n\\r\\n((“machine learning”[All Fields] OR “deep learning”[All Fields]) AND (text[Title/Abstract] OR “natural language” [Title/Abstract]) AND (clinical[Title/Abstract] OR health [Title/Abstract] OR healthcare[Title/Abstract] OR patient [Title/Abstract]) NOT (literature[Title/Abstract] OR bibliometric [Title/Abstract] OR “systematic review”[Title/Abstract]) AND (“2015/01/01”[PDat] : “2018/08/08”[PDat])\\r\\n\\r\\nWe identified 389 candidate articles according to the described search strategy. The results were further screened against the selection criteria.\\r\\n\\r\\nSelection Criteria\\r\\nThe scope of this systematic review was formally defined by the inclusion and exclusion criteria given in Textboxes 1 and 2, respectively. Having screened the retrieved articles against the inclusion and exclusion criteria, a total of 149 articles were retained for further processing.\\r\\n\\r\\nInclusion criteria.\\r\\nThe study has to use natural language processing.\\r\\n\\r\\nMachine learning has to be used to support such processing.\\r\\n\\r\\nInput text has to be routinely collected within health care boundaries.\\r\\n\\r\\nInput text has to be written or dictated.\\r\\n\\r\\nThe article has to be peer reviewed.\\r\\n\\r\\nThe full text has to be freely available online for academic use.\\r\\n\\r\\nExclusion criteria.\\r\\nArticles written in a language other than English.\\r\\n\\r\\nNatural language processing of a language other than English.\\r\\n\\r\\nNatural language processing of spoken language.\\r\\n\\r\\nGiven the interdisciplinary nature of articles considered for this review, we encountered a wide diversity of venues in which they were published. Not surprisingly, some studies put an emphasis on the clinical aspects but neglected to describe the computational aspects of the study in sufficient detail to support its reproducibility. To be included in this review, articles needed to provide sufficient information to support answering RQs defined in Table 1. In other words, they needed to describe the datasets used; define the NLP problem clearly; describe the features used to support NLP; state the machine learning methods used and, where appropriate, their parameters; and provide a formal evaluation of the results. A total of 39 studies were found not to match these criteria. This further reduced the number of selected articles to 110 [8-117]. Figure 1 summarizes the outcomes of the 4 major stages in the systematic literature review.\\r\\n\\r\\nAn external file that holds a picture, illustration, etc.\\r\\nObject name is medinform_v8i3e17984_fig1.jpg\\r\\nFigure 1\\r\\nFlow diagram of the literature review process.\\r\\n\\r\\nData Extraction\\r\\nWe explored the selected studies to extract data that contribute to answering the RQs given in Table 1. Data were extracted from the full text of articles under the following headings: data, task, clinical domain, and clinical application. The data properties considered included their size, provenance, collection methods, annotation, and any relevant statistics. The task was defined as a subfield of NLP (eg, text classification, information extraction (IE), named entity recognition (NER), and word sense disambiguation [WSD]). This was supplemented with task-specific information; for example, for NER, we also specified the type of named entities considered. Clinically relevant information was extracted to identify the potential for practical applications. The extracted data were then used to facilitate a narrative synthesis of the main findings.\\r\\n\\r\\nGo to:\\r\\nResults\\r\\nThe first step in developing a machine learning model is to collect data relevant to the problem at hand. Ultimately, the model’s performance will depend on the properties of such a dataset. We summarized these properties, including data size, key data sources, training annotations, and types of clinical documents considered.\\r\\n\\r\\nSize\\r\\nAmong other factors, the performance of machine learning models and the significance of test results depend on the size of the dataset used for training and testing, respectively. In this section, we examine the size of datasets used in the studies included in this review. Owing to large variations in data sizes, we used a logarithmic scale to fit this information into the chart shown in Figure 2, which stratifies the datasets according to their order of magnitude. Some studies used as few as 40 documents [48] and as few as 15 patients [28]. The vast majority of datasets have the cardinality in the range of hundreds or thousands. Only 10 studies used tens of thousands of documents, with a handful of studies utilizing more than that despite the fact that machine learning approaches are data hungry in the sense that their performance is strongly correlated with the amount of training data available.'"
            ]
          },
          "metadata": {
            "tags": []
          },
          "execution_count": 3
        }
      ]
    },
    {
      "cell_type": "code",
      "metadata": {
        "id": "F3S5tWolabAj"
      },
      "source": [
        "import pandas as pd\n",
        "import nltk\n",
        "import string\n",
        "import csv\n",
        "import re\n",
        "import spacy\n",
        "import numpy as np\n",
        "import math\n",
        "from tqdm import tqdm\n",
        "from spacy.tokens import Span\n",
        "from spacy import displacy\n",
        "from spacy.matcher import Matcher\n",
        "\n",
        "pd.set_option('display.max_colwidth', 200)\n",
        "n = spacy.load(\"en_core_web_sm\")"
      ],
      "execution_count": 5,
      "outputs": []
    },
    {
      "cell_type": "code",
      "metadata": {
        "id": "r6cdXjdtapuX",
        "outputId": "baacec87-0cc2-4132-d372-621ffd312f7c",
        "colab": {
          "base_uri": "https://localhost:8080/",
          "height": 333
        }
      },
      "source": [
        "t = n('Machine learning has long been hailed')\n",
        "for tokens in t:\n",
        "  print(tokens.text, \"-->\", tokens.dep_,\"-->\",tokens.pos_)\n",
        "b = [{},{'lower':'overarching','OP':'?'},{'lower':'topic','OP':'?'},{},{'lower':'via'},{'POS':'PROPN','OP':'+'},{},{'POS':'Noun','OP':'*'}]\n",
        "matcher = Matcher(n.vocab)\n",
        "matcher.add(\"matching_1\",None,b)\n",
        "matches = matcher(t)\n",
        "bridge1 = t[matches[0]:matches[1]]\n",
        "bridge2 = t[matches[0]:matches[1]]\n",
        "if len(bridge1) >= len(bridge2):\n",
        "  print(bridge1.text)\n",
        "print(bridge2.text)"
      ],
      "execution_count": 54,
      "outputs": [
        {
          "output_type": "stream",
          "text": [
            "Machine --> compound --> NOUN\n",
            "learning --> nsubjpass --> NOUN\n",
            "has --> aux --> AUX\n",
            "long --> advmod --> ADV\n",
            "been --> auxpass --> AUX\n",
            "hailed --> ROOT --> VERB\n"
          ],
          "name": "stdout"
        },
        {
          "output_type": "error",
          "ename": "IndexError",
          "evalue": "ignored",
          "traceback": [
            "\u001b[0;31m---------------------------------------------------------------------------\u001b[0m",
            "\u001b[0;31mIndexError\u001b[0m                                Traceback (most recent call last)",
            "\u001b[0;32m<ipython-input-54-82610d1c56dc>\u001b[0m in \u001b[0;36m<module>\u001b[0;34m()\u001b[0m\n\u001b[1;32m      6\u001b[0m \u001b[0mmatcher\u001b[0m\u001b[0;34m.\u001b[0m\u001b[0madd\u001b[0m\u001b[0;34m(\u001b[0m\u001b[0;34m\"matching_1\"\u001b[0m\u001b[0;34m,\u001b[0m\u001b[0;32mNone\u001b[0m\u001b[0;34m,\u001b[0m\u001b[0mb\u001b[0m\u001b[0;34m)\u001b[0m\u001b[0;34m\u001b[0m\u001b[0;34m\u001b[0m\u001b[0m\n\u001b[1;32m      7\u001b[0m \u001b[0mmatches\u001b[0m \u001b[0;34m=\u001b[0m \u001b[0mmatcher\u001b[0m\u001b[0;34m(\u001b[0m\u001b[0mt\u001b[0m\u001b[0;34m)\u001b[0m\u001b[0;34m\u001b[0m\u001b[0;34m\u001b[0m\u001b[0m\n\u001b[0;32m----> 8\u001b[0;31m \u001b[0mbridge1\u001b[0m \u001b[0;34m=\u001b[0m \u001b[0mt\u001b[0m\u001b[0;34m[\u001b[0m\u001b[0mmatches\u001b[0m\u001b[0;34m[\u001b[0m\u001b[0;36m0\u001b[0m\u001b[0;34m]\u001b[0m\u001b[0;34m:\u001b[0m\u001b[0mmatches\u001b[0m\u001b[0;34m[\u001b[0m\u001b[0;36m1\u001b[0m\u001b[0;34m]\u001b[0m\u001b[0;34m]\u001b[0m\u001b[0;34m\u001b[0m\u001b[0;34m\u001b[0m\u001b[0m\n\u001b[0m\u001b[1;32m      9\u001b[0m \u001b[0mbridge2\u001b[0m \u001b[0;34m=\u001b[0m \u001b[0mt\u001b[0m\u001b[0;34m[\u001b[0m\u001b[0mmatches\u001b[0m\u001b[0;34m[\u001b[0m\u001b[0;36m0\u001b[0m\u001b[0;34m]\u001b[0m\u001b[0;34m:\u001b[0m\u001b[0mmatches\u001b[0m\u001b[0;34m[\u001b[0m\u001b[0;36m1\u001b[0m\u001b[0;34m]\u001b[0m\u001b[0;34m]\u001b[0m\u001b[0;34m\u001b[0m\u001b[0;34m\u001b[0m\u001b[0m\n\u001b[1;32m     10\u001b[0m \u001b[0;32mif\u001b[0m \u001b[0mlen\u001b[0m\u001b[0;34m(\u001b[0m\u001b[0mbridge1\u001b[0m\u001b[0;34m)\u001b[0m \u001b[0;34m>=\u001b[0m \u001b[0mlen\u001b[0m\u001b[0;34m(\u001b[0m\u001b[0mbridge2\u001b[0m\u001b[0;34m)\u001b[0m\u001b[0;34m:\u001b[0m\u001b[0;34m\u001b[0m\u001b[0;34m\u001b[0m\u001b[0m\n",
            "\u001b[0;31mIndexError\u001b[0m: list index out of range"
          ]
        }
      ]
    },
    {
      "cell_type": "code",
      "metadata": {
        "id": "2vSQYD10gq-u",
        "outputId": "15e232ff-1b0a-461b-fc0c-78ee597f437b",
        "colab": {
          "base_uri": "https://localhost:8080/",
          "height": 119
        }
      },
      "source": [
        "t = n(titles)\n",
        "def find_pattern(pattern):\n",
        "  matcher = Matcher(n.vocab)\n",
        "  matcher.add(\"matching_1\", None, pattern)\n",
        "  matches = matcher(t)\n",
        "  if (len(matches)>0):\n",
        "    bridge = t[matches[0][1]:matches[0][2]]\n",
        "    print(bridge.text)\n",
        "\n",
        "q1 = [{'POS':'NOUN'},\n",
        "      {'LOWER':'data'},\n",
        "      {'LOWER':'the','OP':\"?\"},\n",
        "      {'POS':'NOUN'}]\n",
        "\n",
        "q2 = [{'POS':'NOUN'},\n",
        "      {'LOWER':'text'},\n",
        "      {'POS':'ADJ','OP':\"*\"},\n",
        "      {'POS':'NOUN'}]\n",
        "\n",
        "q3 = [{'POS':'NOUN'},\n",
        "      {'LOWER':'use'},\n",
        "      {'POS':'ADJ','OP':\"*\"},\n",
        "      {'POS':'NOUN'}]\n",
        "\n",
        "q4 = [{'POS':'NOUN','OP':\"+\"},\n",
        "      {'POS':'VERB','OP':\"*\"},\n",
        "      {'LOWER':'for'},\n",
        "      {'POS':'ADJ','OP':\"*\"},\n",
        "      {'POS':'NOUN'},\n",
        "      {'POS':'NOUN','OP':\"?\"}]\n",
        "\n",
        "q5 = [{},\n",
        "      {},\n",
        "      {},\n",
        "      {'lower':'for'},\n",
        "      {'POS':'PROPN','OP':'+'}]\n",
        "\n",
        "print(\"and:\")\n",
        "find_pattern(q1)\n",
        "print(\"using:\")\n",
        "find_pattern(q2)\n",
        "print(\"with:\")\n",
        "find_pattern(q3)\n",
        "print(\"for:\")\n",
        "find_pattern(q4)\n",
        "print('for:')\n",
        "find_pattern(q5)"
      ],
      "execution_count": 16,
      "outputs": [
        {
          "output_type": "stream",
          "text": [
            "and:\n",
            "using:\n",
            "with:\n",
            "for:\n",
            "information for clinical decision\n",
            "for:\n"
          ],
          "name": "stdout"
        }
      ]
    },
    {
      "cell_type": "markdown",
      "metadata": {
        "id": "Dq_7VGmrsum4"
      },
      "source": [
        "## **2. Domain-specific information extraction (10 points)**\n",
        "\n",
        "For the legal case used in the data cleaning exercise: [01-05-1 Adams v Tanner.txt](https://github.com/unt-iialab/INFO5731_FALL2020/blob/master/In_class_exercise/01-05-1%20%20Adams%20v%20Tanner.txt), use [legalNLP](https://lexpredict-lexnlp.readthedocs.io/en/latest/modules/extract/extract.html#nlp-based-extraction-methods) to extract the following inforation from the text (if the information is not exist, just print None):\n",
        "\n",
        "(1) acts, e.g., “section 1 of the Advancing Hope Act, 1986”\n",
        "\n",
        "(2) amounts, e.g., “ten pounds” or “5.8 megawatts”\n",
        "\n",
        "(3) citations, e.g., “10 U.S. 100” or “1998 S. Ct. 1”\n",
        "\n",
        "(4) companies, e.g., “Lexpredict LLC”\n",
        "\n",
        "(5) conditions, e.g., “subject to …” or “unless and until …”\n",
        "\n",
        "(6) constraints, e.g., “no more than”\n",
        "\n",
        "(7) copyright, e.g., “(C) Copyright 2000 Acme”\n",
        "\n",
        "(8) courts, e.g., “Supreme Court of New York”\n",
        "\n",
        "(9) CUSIP, e.g., “392690QT3”\n",
        "\n",
        "(10) dates, e.g., “June 1, 2017” or “2018-01-01”\n",
        "\n",
        "(11) definitions, e.g., “Term shall mean …”\n",
        "\n",
        "(12) distances, e.g., “fifteen miles”\n",
        "\n",
        "(13) durations, e.g., “ten years” or “thirty days”\n",
        "\n",
        "(14) geographic and geopolitical entities, e.g., “New York” or “Norway”\n",
        "\n",
        "(15) money and currency usages, e.g., “$5” or “10 Euro”\n",
        "\n",
        "(16) percents and rates, e.g., “10%” or “50 bps”\n",
        "\n",
        "(17) PII, e.g., “212-212-2121” or “999-999-9999”\n",
        "\n",
        "(18) ratios, e.g.,” 3:1” or “four to three”\n",
        "\n",
        "(19) regulations, e.g., “32 CFR 170”\n",
        "\n",
        "(20) trademarks, e.g., “MyApp (TM)”\n",
        "\n",
        "(21) URLs, e.g., “http://acme.com/”\n",
        "\n",
        "(22) addresses, e.g., “1999 Mount Read Blvd, Rochester, NY, USA, 14615”\n",
        "\n",
        "(23) persons, e.g., “John Doe"
      ]
    },
    {
      "cell_type": "code",
      "metadata": {
        "id": "qc7NtJrLx5tS",
        "outputId": "6bfb3509-5a94-4088-9c77-9be51e5781be",
        "colab": {
          "base_uri": "https://localhost:8080/",
          "height": 1000
        }
      },
      "source": [
        "# write your code here\n",
        "!pip install lexnlp"
      ],
      "execution_count": 17,
      "outputs": [
        {
          "output_type": "stream",
          "text": [
            "Collecting lexnlp\n",
            "\u001b[?25l  Downloading https://files.pythonhosted.org/packages/a1/d3/2c3f8595eb1aa418d820130e9d4d2b56c82fd2f88f1cb9720983d2f0b4f2/lexnlp-1.7.0-py3-none-any.whl (9.7MB)\n",
            "\u001b[K     |████████████████████████████████| 9.7MB 3.7MB/s \n",
            "\u001b[?25hCollecting datefinder-lexpredict==0.6.2\n",
            "  Downloading https://files.pythonhosted.org/packages/27/47/9a38724045b30e2e4d1c5e3e08fd3b0770dedb2e9ca92c1347b9e2182470/datefinder_lexpredict-0.6.2-py2.py3-none-any.whl\n",
            "Collecting numpy==1.19.1\n",
            "\u001b[?25l  Downloading https://files.pythonhosted.org/packages/b1/9a/7d474ba0860a41f771c9523d8c4ea56b084840b5ca4092d96bdee8a3b684/numpy-1.19.1-cp36-cp36m-manylinux2010_x86_64.whl (14.5MB)\n",
            "\u001b[K     |████████████████████████████████| 14.5MB 307kB/s \n",
            "\u001b[?25hCollecting dateparser==0.7.2\n",
            "\u001b[?25l  Downloading https://files.pythonhosted.org/packages/82/9d/51126ac615bbc4418478d725a5fa1a0f112059f6f111e4b48cfbe17ef9d0/dateparser-0.7.2-py2.py3-none-any.whl (352kB)\n",
            "\u001b[K     |████████████████████████████████| 358kB 38.6MB/s \n",
            "\u001b[?25hCollecting scikit-learn==0.23.1\n",
            "\u001b[?25l  Downloading https://files.pythonhosted.org/packages/d9/3a/eb8d7bbe28f4787d140bb9df685b7d5bf6115c0e2a969def4027144e98b6/scikit_learn-0.23.1-cp36-cp36m-manylinux1_x86_64.whl (6.8MB)\n",
            "\u001b[K     |████████████████████████████████| 6.9MB 36.4MB/s \n",
            "\u001b[?25hCollecting requests==2.24.0\n",
            "\u001b[?25l  Downloading https://files.pythonhosted.org/packages/45/1e/0c169c6a5381e241ba7404532c16a21d86ab872c9bed8bdcd4c423954103/requests-2.24.0-py2.py3-none-any.whl (61kB)\n",
            "\u001b[K     |████████████████████████████████| 71kB 1.5MB/s \n",
            "\u001b[?25hCollecting Unidecode==1.1.1\n",
            "\u001b[?25l  Downloading https://files.pythonhosted.org/packages/d0/42/d9edfed04228bacea2d824904cae367ee9efd05e6cce7ceaaedd0b0ad964/Unidecode-1.1.1-py2.py3-none-any.whl (238kB)\n",
            "\u001b[K     |████████████████████████████████| 245kB 47.7MB/s \n",
            "\u001b[?25hCollecting us==2.0.2\n",
            "  Downloading https://files.pythonhosted.org/packages/88/04/04323aefa1871de30286d3decae7706481c73bd428cf0c08e158bfa259a6/us-2.0.2.tar.gz\n",
            "Collecting reporters-db==2.0.3\n",
            "\u001b[?25l  Downloading https://files.pythonhosted.org/packages/6b/e9/498bada93e69e3162a027d9285e852c464d66aae23ec3c845700ee117414/reporters_db-2.0.3-py2.py3-none-any.whl (72kB)\n",
            "\u001b[K     |████████████████████████████████| 81kB 8.0MB/s \n",
            "\u001b[?25hCollecting gensim==3.8.3\n",
            "\u001b[?25l  Downloading https://files.pythonhosted.org/packages/2b/e0/fa6326251692056dc880a64eb22117e03269906ba55a6864864d24ec8b4e/gensim-3.8.3-cp36-cp36m-manylinux1_x86_64.whl (24.2MB)\n",
            "\u001b[K     |████████████████████████████████| 24.2MB 2.0MB/s \n",
            "\u001b[?25hCollecting pycountry==20.7.3\n",
            "\u001b[?25l  Downloading https://files.pythonhosted.org/packages/76/73/6f1a412f14f68c273feea29a6ea9b9f1e268177d32e0e69ad6790d306312/pycountry-20.7.3.tar.gz (10.1MB)\n",
            "\u001b[K     |████████████████████████████████| 10.1MB 35.9MB/s \n",
            "\u001b[?25hCollecting scipy==1.5.1\n",
            "\u001b[?25l  Downloading https://files.pythonhosted.org/packages/ab/f9/6eeed6d5cd8dd435bbf105d10d778c2d76de1a5838fdbc315a59fb7fad64/scipy-1.5.1-cp36-cp36m-manylinux1_x86_64.whl (25.9MB)\n",
            "\u001b[K     |████████████████████████████████| 25.9MB 71.2MB/s \n",
            "\u001b[?25hCollecting pandas==0.24.2\n",
            "\u001b[?25l  Downloading https://files.pythonhosted.org/packages/19/74/e50234bc82c553fecdbd566d8650801e3fe2d6d8c8d940638e3d8a7c5522/pandas-0.24.2-cp36-cp36m-manylinux1_x86_64.whl (10.1MB)\n",
            "\u001b[K     |████████████████████████████████| 10.1MB 43.6MB/s \n",
            "\u001b[?25hCollecting nltk==3.5\n",
            "\u001b[?25l  Downloading https://files.pythonhosted.org/packages/92/75/ce35194d8e3022203cca0d2f896dbb88689f9b3fce8e9f9cff942913519d/nltk-3.5.zip (1.4MB)\n",
            "\u001b[K     |████████████████████████████████| 1.4MB 44.6MB/s \n",
            "\u001b[?25hCollecting num2words==0.5.10\n",
            "\u001b[?25l  Downloading https://files.pythonhosted.org/packages/eb/a2/ea800689730732e27711c41beed4b2a129b34974435bdc450377ec407738/num2words-0.5.10-py3-none-any.whl (101kB)\n",
            "\u001b[K     |████████████████████████████████| 102kB 10.4MB/s \n",
            "\u001b[?25hCollecting regex==2020.7.14\n",
            "\u001b[?25l  Downloading https://files.pythonhosted.org/packages/66/f2/b3af9ce9df4b7e121dfeece41fc95e37b14f0153821f35d08edb0b0813ff/regex-2020.7.14-cp36-cp36m-manylinux2010_x86_64.whl (660kB)\n",
            "\u001b[K     |████████████████████████████████| 665kB 38.4MB/s \n",
            "\u001b[?25hRequirement already satisfied: pytz in /usr/local/lib/python3.6/dist-packages (from datefinder-lexpredict==0.6.2->lexnlp) (2018.9)\n",
            "Requirement already satisfied: python-dateutil>=2.4.2 in /usr/local/lib/python3.6/dist-packages (from datefinder-lexpredict==0.6.2->lexnlp) (2.8.1)\n",
            "Requirement already satisfied: tzlocal in /usr/local/lib/python3.6/dist-packages (from dateparser==0.7.2->lexnlp) (1.5.1)\n",
            "Collecting threadpoolctl>=2.0.0\n",
            "  Downloading https://files.pythonhosted.org/packages/f7/12/ec3f2e203afa394a149911729357aa48affc59c20e2c1c8297a60f33f133/threadpoolctl-2.1.0-py3-none-any.whl\n",
            "Requirement already satisfied: joblib>=0.11 in /usr/local/lib/python3.6/dist-packages (from scikit-learn==0.23.1->lexnlp) (0.16.0)\n",
            "Requirement already satisfied: urllib3!=1.25.0,!=1.25.1,<1.26,>=1.21.1 in /usr/local/lib/python3.6/dist-packages (from requests==2.24.0->lexnlp) (1.24.3)\n",
            "Requirement already satisfied: certifi>=2017.4.17 in /usr/local/lib/python3.6/dist-packages (from requests==2.24.0->lexnlp) (2020.6.20)\n",
            "Requirement already satisfied: idna<3,>=2.5 in /usr/local/lib/python3.6/dist-packages (from requests==2.24.0->lexnlp) (2.10)\n",
            "Requirement already satisfied: chardet<4,>=3.0.2 in /usr/local/lib/python3.6/dist-packages (from requests==2.24.0->lexnlp) (3.0.4)\n",
            "Collecting jellyfish==0.6.1\n",
            "\u001b[?25l  Downloading https://files.pythonhosted.org/packages/61/3f/60ac86fb43dfbf976768e80674b5538e535f6eca5aa7806cf2fdfd63550f/jellyfish-0.6.1.tar.gz (132kB)\n",
            "\u001b[K     |████████████████████████████████| 133kB 46.4MB/s \n",
            "\u001b[?25hRequirement already satisfied: six in /usr/local/lib/python3.6/dist-packages (from reporters-db==2.0.3->lexnlp) (1.15.0)\n",
            "Requirement already satisfied: smart-open>=1.8.1 in /usr/local/lib/python3.6/dist-packages (from gensim==3.8.3->lexnlp) (2.2.0)\n",
            "Requirement already satisfied: click in /usr/local/lib/python3.6/dist-packages (from nltk==3.5->lexnlp) (7.1.2)\n",
            "Requirement already satisfied: tqdm in /usr/local/lib/python3.6/dist-packages (from nltk==3.5->lexnlp) (4.41.1)\n",
            "Requirement already satisfied: docopt>=0.6.2 in /usr/local/lib/python3.6/dist-packages (from num2words==0.5.10->lexnlp) (0.6.2)\n",
            "Building wheels for collected packages: us, pycountry, nltk, jellyfish\n",
            "  Building wheel for us (setup.py) ... \u001b[?25l\u001b[?25hdone\n",
            "  Created wheel for us: filename=us-2.0.2-cp36-none-any.whl size=11928 sha256=4f5013d5a8a6c850d35144dddfece3bfd90bba3695417af83bb1ac877be5b226\n",
            "  Stored in directory: /root/.cache/pip/wheels/e2/16/45/6453383ffa495670f0f6b80a3e697a9771d98cfbaf8b451e73\n",
            "  Building wheel for pycountry (setup.py) ... \u001b[?25l\u001b[?25hdone\n",
            "  Created wheel for pycountry: filename=pycountry-20.7.3-py2.py3-none-any.whl size=10746865 sha256=f73d7c05e5beffe31d56c6cb1e559f77fb918d63a68467006619015305779d31\n",
            "  Stored in directory: /root/.cache/pip/wheels/33/4e/a6/be297e6b83567e537bed9df4a93f8590ec01c1acfbcd405348\n",
            "  Building wheel for nltk (setup.py) ... \u001b[?25l\u001b[?25hdone\n",
            "  Created wheel for nltk: filename=nltk-3.5-cp36-none-any.whl size=1434675 sha256=1797ee7d724aa202f1c9e2c5069d82e899893a291ef3b24d4eee1f18af51a0f8\n",
            "  Stored in directory: /root/.cache/pip/wheels/ae/8c/3f/b1fe0ba04555b08b57ab52ab7f86023639a526d8bc8d384306\n",
            "  Building wheel for jellyfish (setup.py) ... \u001b[?25l\u001b[?25hdone\n",
            "  Created wheel for jellyfish: filename=jellyfish-0.6.1-cp36-cp36m-linux_x86_64.whl size=74742 sha256=8f1a30bc9a66d0729a2e03fffd99fe35ef5f2f183e107d9577dcd700f6e8860b\n",
            "  Stored in directory: /root/.cache/pip/wheels/9c/6f/33/92bb9a4b4562a60ba6a80cedbab8907e48bc7a8b1f369ea0ae\n",
            "Successfully built us pycountry nltk jellyfish\n",
            "\u001b[31mERROR: xarray 0.15.1 has requirement pandas>=0.25, but you'll have pandas 0.24.2 which is incompatible.\u001b[0m\n",
            "\u001b[31mERROR: tensorflow 2.3.0 has requirement numpy<1.19.0,>=1.16.0, but you'll have numpy 1.19.1 which is incompatible.\u001b[0m\n",
            "\u001b[31mERROR: tensorflow 2.3.0 has requirement scipy==1.4.1, but you'll have scipy 1.5.1 which is incompatible.\u001b[0m\n",
            "\u001b[31mERROR: plotnine 0.6.0 has requirement pandas>=0.25.0, but you'll have pandas 0.24.2 which is incompatible.\u001b[0m\n",
            "\u001b[31mERROR: mizani 0.6.0 has requirement pandas>=0.25.0, but you'll have pandas 0.24.2 which is incompatible.\u001b[0m\n",
            "\u001b[31mERROR: google-colab 1.0.0 has requirement pandas~=1.1.0; python_version >= \"3.0\", but you'll have pandas 0.24.2 which is incompatible.\u001b[0m\n",
            "\u001b[31mERROR: google-colab 1.0.0 has requirement requests~=2.23.0, but you'll have requests 2.24.0 which is incompatible.\u001b[0m\n",
            "\u001b[31mERROR: fbprophet 0.7.1 has requirement pandas>=1.0.4, but you'll have pandas 0.24.2 which is incompatible.\u001b[0m\n",
            "\u001b[31mERROR: datascience 0.10.6 has requirement folium==0.2.1, but you'll have folium 0.8.3 which is incompatible.\u001b[0m\n",
            "\u001b[31mERROR: albumentations 0.1.12 has requirement imgaug<0.2.7,>=0.2.5, but you'll have imgaug 0.2.9 which is incompatible.\u001b[0m\n",
            "\u001b[31mERROR: datefinder-lexpredict 0.6.2 has requirement regex==2017.9.23, but you'll have regex 2020.7.14 which is incompatible.\u001b[0m\n",
            "Installing collected packages: regex, datefinder-lexpredict, numpy, dateparser, scipy, threadpoolctl, scikit-learn, requests, Unidecode, jellyfish, us, reporters-db, gensim, pycountry, pandas, nltk, num2words, lexnlp\n",
            "  Found existing installation: regex 2019.12.20\n",
            "    Uninstalling regex-2019.12.20:\n",
            "      Successfully uninstalled regex-2019.12.20\n",
            "  Found existing installation: numpy 1.18.5\n",
            "    Uninstalling numpy-1.18.5:\n",
            "      Successfully uninstalled numpy-1.18.5\n",
            "  Found existing installation: scipy 1.4.1\n",
            "    Uninstalling scipy-1.4.1:\n",
            "      Successfully uninstalled scipy-1.4.1\n",
            "  Found existing installation: scikit-learn 0.22.2.post1\n",
            "    Uninstalling scikit-learn-0.22.2.post1:\n",
            "      Successfully uninstalled scikit-learn-0.22.2.post1\n",
            "  Found existing installation: requests 2.23.0\n",
            "    Uninstalling requests-2.23.0:\n",
            "      Successfully uninstalled requests-2.23.0\n",
            "  Found existing installation: gensim 3.6.0\n",
            "    Uninstalling gensim-3.6.0:\n",
            "      Successfully uninstalled gensim-3.6.0\n",
            "  Found existing installation: pandas 1.1.2\n",
            "    Uninstalling pandas-1.1.2:\n",
            "      Successfully uninstalled pandas-1.1.2\n",
            "  Found existing installation: nltk 3.2.5\n",
            "    Uninstalling nltk-3.2.5:\n",
            "      Successfully uninstalled nltk-3.2.5\n",
            "Successfully installed Unidecode-1.1.1 datefinder-lexpredict-0.6.2 dateparser-0.7.2 gensim-3.8.3 jellyfish-0.6.1 lexnlp-1.7.0 nltk-3.5 num2words-0.5.10 numpy-1.19.1 pandas-0.24.2 pycountry-20.7.3 regex-2020.7.14 reporters-db-2.0.3 requests-2.24.0 scikit-learn-0.23.1 scipy-1.5.1 threadpoolctl-2.1.0 us-2.0.2\n"
          ],
          "name": "stdout"
        },
        {
          "output_type": "display_data",
          "data": {
            "application/vnd.colab-display-data+json": {
              "pip_warning": {
                "packages": [
                  "nltk",
                  "numpy",
                  "pandas",
                  "regex",
                  "requests",
                  "scipy",
                  "sklearn"
                ]
              }
            }
          },
          "metadata": {
            "tags": []
          }
        }
      ]
    },
    {
      "cell_type": "code",
      "metadata": {
        "id": "RZTDjXs8hi_u",
        "outputId": "6ce321c4-3614-44ee-9370-3fa47aa3385a",
        "colab": {
          "base_uri": "https://localhost:8080/",
          "height": 153
        }
      },
      "source": [
        "\n",
        "import nltk\n",
        "nltk.download('punkt')\n",
        "nltk.download('averaged_perceptron_tagger')\n",
        "nltk.download('wordnet')"
      ],
      "execution_count": 18,
      "outputs": [
        {
          "output_type": "stream",
          "text": [
            "[nltk_data] Downloading package punkt to /root/nltk_data...\n",
            "[nltk_data]   Unzipping tokenizers/punkt.zip.\n",
            "[nltk_data] Downloading package averaged_perceptron_tagger to\n",
            "[nltk_data]     /root/nltk_data...\n",
            "[nltk_data]   Unzipping taggers/averaged_perceptron_tagger.zip.\n",
            "[nltk_data] Downloading package wordnet to /root/nltk_data...\n",
            "[nltk_data]   Unzipping corpora/wordnet.zip.\n"
          ],
          "name": "stdout"
        },
        {
          "output_type": "execute_result",
          "data": {
            "text/plain": [
              "True"
            ]
          },
          "metadata": {
            "tags": []
          },
          "execution_count": 18
        }
      ]
    },
    {
      "cell_type": "code",
      "metadata": {
        "id": "W72D_hKQicUB",
        "outputId": "0219d4b0-595f-4077-df22-af74f7b1f620",
        "colab": {
          "base_uri": "https://localhost:8080/",
          "height": 1000
        }
      },
      "source": [
        "\n",
        "p = open('/content/inclassnlp.txt').read()\n",
        "print (p)"
      ],
      "execution_count": 19,
      "outputs": [
        {
          "output_type": "stream",
          "text": [
            "\n",
            "5 Ala. 740\n",
            "Supreme Court of Alabama.\n",
            "ADAMS\n",
            "v.\n",
            "TANNER AND HORTON.\n",
            "June Term, 1843.\n",
            "Synopsis\n",
            "WRIT of Error to the Circuit Court of Sumter.\n",
            " \n",
            "\n",
            "\n",
            "West Headnotes (2)\n",
            "\n",
            "\n",
            "[1]\n",
            "Chattel Mortgages\n",
            "Crops\n",
            "A growing crop has such an existence as to be the subject-matter of a mortgage or other contract which passes an interest to vest in possession, either immediately or at a future time.\n",
            "4 Cases that cite this headnote\n",
            "\n",
            "[2]\n",
            "Creditors’ Remedies\n",
            "Lien and Priority\n",
            "Under St.1821, prohibiting a levy on a crop until it has been gathered, no lien attaches in favor of a fi. fa. on a growing crop, nor does such lien attach until after the crop has been gathered.\n",
            "5 Cases that cite this headnote\n",
            "\n",
            "**1 This was a trial of the right of property under the statute. In November, 1840, an execution issued from the circuit court of Sumter, at the suit of the plaintiff in error, requiring the sheriff of that county, to make of the goods, &c., of Allen Harrison and others, the sum of thirty-seven hundred and seventy-seven 80-100 dollars, besides costs. This execution was levied on thirty bales of cotton, as the property of Allen Harrison, which was claimed, and a bond given to try the right. An issue was made up to try the question of the liability of the cotton to the plaintiff’s execution, and submitted to a jury. On the trial, a bill of exceptions was sealed at the instance of the plaintiff. The plaintiff proved that he recovered his judgment in October, 1839; that an execution *741 was issued thereon on the 7th Nov. thereafter, and that alias and pluries fieri facias’, issued regularly up to the time levy was made; that the cotton levied on was growed on the plantation of Harrison, and cultivated by the hands in his service. It was proved by the claimants, by the production of a written contract, that Harrison, on the twenty-second of May, 1840, in consideration that the claimants were involved, as indorsers for Burton & Harrison of Sumter county, and were then exposed to an execution, amounting to upwards of fourteen thousand dollars, bargained and sold to the claimants all his growing crop of cotton &c., consisting of one hundred and twenty acres, &c. Allen Harrison promised and obliged himself to give up his crop to the use of the claimants at any time to save them from suffering as his indorsers; if the crop matured and was gathered he undertook to deliver the cotton in Gainesville. The claimants came from Tennessee, (where they resided) about the first of September, 1840, bringing with them three or four white laborers, and took possession of the crop and slaves, and with the latter, and white laborers, gathered the cotton, prepared it for market, and when levied on, it was in a ware-house in Gainesville. The plaintiff then proved by Harrison, that the claimants took possession of the crop, while he was absent, and disposed of it without his consent. It was admitted, that the contract was made in good faith.\n",
            "The court charged the jury, that the plaintiff had no lien by virtue of his judgment, and execution on the growing crop; that Harrison had a right to convey it, without being in any manner restrained by them; that the writing adduced, was a sale of the crop, but if it was not, and the lien of the fieri facias would have attached upon it, when gathered, yet if the claimants obtained possession on the first of September, and controlled the gathering of the crop, then no lien attached, and it was not subject to the levy.\n",
            "Attorneys and Law Firms\n",
            "R. H. SMITH, for the plaintiff, in error, made the following points.--1. The crop of Harrison, must, in May, 1840, have been in an immature state, and it is insisted, was not the subject of a sale. 2. By the common law, a growing crop could be levied on and sold, [1 Salk. Rep. 361; 1 Bos. & P. Rep. 307; 6 East’s Rep. 604, note 1; 2 Johns. Rep. 418, 422; 7 Mass. Rep. 34,] and our statue, [[[Aik. Dig. § 41, p. 167,] which forbids the levy of an *742 execution on a growing crop, is to receive a strict construction. It merely inhibits the levy, but the lien attaches, and a levy and sale may be made after the crop matures, and is gathered. 3. The contract does not purport to convey the growing crop, but is a mere executory agreement, requiring some act to be done by Harrison, in order to invest the claimants with the right of property. [Chit. on Con. 112, 207; 3 Johns. Rep. 338, 424; 5 Wend. Rep. 26; 13 Johns. Rep. 235; 8 Dowl. Rep, 693;] and until this act was done, the crop, no matter by who gathered, because liable to be seized for Harrison’s debts. A court of chancery would not compel a specific performance of the contract at the claimant’s instance. 4. The charge of the court is also objectionable in deciding disputed facts.\n",
            "W. M. MURPHY, with whom was W. G. JONES, for the defendant--cited the act of 1821, [Aik. Dig. 167,] which declares it to be lawful to levy an execution on a planted crop, until it is gathered, and contended that no lien attached in favor of the plaintiff. This being the case, the defendant in execution was not restrained from making the contract which he did with the claimants.\n",
            "**2 The lien of an execution is destroyed by an injunction, because it takes away the right to levy it. In short, whenever the right to levy an execution is but temporarily suspended, or withdrawn, the lien is during that time lost. [[[[Whipple v. Foot, 2 Johns. Rep. 216; 3 Wash. C. C. Rep. 66; 4 How. Rep. 130.]\n",
            "It is admitted that the contract between the defendant in execution, and the claimants, was in good faith, if so, the severance and removal of the cotton gave the latter a good title against all creditors of the former.\n",
            "Opinion\n",
            "\n",
            "COLLIER, C. J.\n",
            "\n",
            "There can be no doubt that a growing crop has such an existence as to be the subject matter of a sale, mortgage, or other contract which possess an interest to vest in possession, either immediately or at some future time. This proposition has frequently been assumed as unquestionable; the point of inquiry generally being, whether under a statute of frauds, such as the 29 Chas. 2, it is a mere chattel, and transferrable by parol without writing. [Chitty on Con. 241-2, 332; Whipple v. Foot, 2 Johns. Rep. 422; Stewart v. Doughty, 9 Johns. Rep. 112; *743 Austin v. Sawyer, 9 Cow. Rep. 39. See also Ravesies v. Lee & Alston, at last term.] The contract set out in the bill of exceptions, we are inclined to think evidences rather a mortgage than an absolute sale. It recites that the claimants are involved as indorsers of a mercantile firm, of which the defendant was a partner; that an execution for upwards of fourteen thousand dollars against their estate, is in the sheriff’s hands, and that a conveyance is made of the crop of cotton, corn and oats, which the grantor agrees to give up at any time to the use of the claimants, so as to prevent injury to them as indorsers. The defendant in execution might at any time have divested the interest which the contract vested in the claimants, by discharging their liability as his indorsers, or a judgment creditor might have satisfied the lien, and when the crop was gathered, have levied on, and sold it under a fieri facias.\n",
            "We will then consider the writing under which the claimants assert a right, as a mortgage with a power to take possession any time during the year, unless they should be relieved from their engagements as indorsers. It is not pretended that their liability has been satisfied, and it is admitted that the parties have acted with good faith, so that it is a dry question of law, whether the right of the plaintiff, or the claimants shall prevail. Assuming for the present that the execution of the plaintiffs did not operate a lien upon the planted crop previous to the contract of May, 1840, we will inquire whether the defendant in execution had such an interest as could be levied on and sold.\n",
            "The claimants had previous to the levy of the execution taken possession of the crop, prepared the cotton for market, and removed it to a ware-house. This possession, it is insisted, was a trespass, because it was acquired in the absence of the defendant in execution, and without his consent then given. Conceding the truth of the facts stated in the bill of exceptions, and we think it will not follow, that the possession of the claimants is a nullity, and that the case must be considered as if they had never interfered with the crop. The contract contains an express undertaking to give up the crop at any time the claimants might require it for their indemnity, and if they took possession of it in the absence of the grantor, (though without his consent,) if he subsequently acquiesced in it, the inference would be, if necessary, that their acts were approved by him. Taking this to be clear *744 law, and it will be seen, that the defendant in execution at the time of the levy had nothing more than a mere equitable right to redeem the cotton by paying the debts indorsed by the claimants. He had no possession coupled with this equity, but only a naked equity, which it has been held cannot be reached by an ordinary execution. [Perkins and Elliott v. Mayfield, 5 Porter’s Rep. 182.]\n",
            "**3 This brings us back to the question, whether the execution of the plaintiff was a lien on the growing crop, so as to defeat the mortgage to the claimants. It has been frequently mooted whether, at common law, corn, &c., before it is gathered, can be seized under a fieri facias. Mr. Dane, in remarking upon this point, says, “The American editor of Bacon’s Abridgment, says, ‘Wheat growing in the ground is a chattel, and subject to be taken in execution; and the sheriff may suffer it to grow till harvest, and then cut and sell it; or may perhaps sell it growing, and the purchaser will then be entitled to enter, for the purpose of cutting and carrying it away.” [He cites Whipple v. Foot, ut supra, also Poole’s case, Salk. 368; 1 Bos. & P. 397; 6 East, 604, n.] But Whipple v. Foot seems to be the only case that supports his position, that unripe wheat or corn may be taken in execution; and the same editor states that nothing can be taken in execution which cannot be sold. This position, says the learned commentator, is no doubt law. But it is unnecessary to consider how this matter stands at common law. The first section of the act of 1821, “To prevent sheriffs and other officers from levying executions in certain cases, enacts, that “It shall not be lawful for any sheriff or other officer, to levy a writ of fieri facias or other execution on the planted crop of a debtor, or person against whom an execution may issue, until the crop is gathered.” [Aik. Dig. 167.] Now here is an express inhibition to levy an execution on a crop while it remains on, or in the ground, and until it is severed from the soil to which it owes its growth. In respect to property thus situated, will the lien of an execution attach eo instanti upon its being placed in the hands of an officer? If so, the act cited, will only have the effect of keeping the right to levy it in abeyance until the crop is gathered. The lien of an execution does, not only operate so as to prevent the debtor from disposing of the property on which it attaches, but gives to the creditor the right to have it sold to satisfy his *745 judgment. The lien and the right to levy are intimately connected, and if the latter be taken away, or suspended, the effect, at common law, is the destruction of the former. This principle is fully established by Mansony and Hurtell v. The President, &c. of the Bank of the United States, and its assignees, and the citations contained in the opinion of the court in that case, as also in my opinion in Wood v. Gary, et al., both decided at the last term. That it was competent for the legislature to have made it unlawful to levy an execution on particular property, until its condition was changed, and still to give it a continuing lien, cannot be doubted; but there is nothing in the act in question to indicate that such is its intention. If the object was merely to suspend the sale, until the crop was gathered, it would have been very easy to have said so in explicit terms, but declaring as the statute does, in totidem verbis, that the execution shall not be levied, the legislature must be supposed to have meant what they have expressed. The act was induced by the doubts which existed as to what was the common law, and was intended to remove those doubts by declaring what should be the law in future. It does not create a lien or authorize a levy in a case in which the law, as it then existed, was silent. The idea that the lien attached upon the planted crop as soon as the execution was delivered to the sheriff, though the right to levy it was postponed until a severance took place, is attempted to be deduced from the last words of the section cited, viz: “until the crop is gathered.” These words cannot, upon any just principles of construction be regarded so potent as to give to an execution a retrospective effect. They do not refer to the lien, if they did they would postpone it until the crop was gathered; but it is the levy they relate to and postpone until that event takes place.\n",
            "**4 The right to levy an execution on a planted crop, then, being expressly taken away by the statute, the lien which is connected with and consequent upon that right, never attaches until severance. This being the case, the right of the defendant in execution to make the contract which he did, is unquestionable, and the title of the claimants, coupled as it was with the possession, was paramount to any lien which the execution could exert.\n",
            "The circuit judge may have mistaken the law in supposing that the contract was a sale, but if he did, an error in that respect was very immaterial, for whether a sale or mortgage, as we have *746 seen, under the facts of the case, the defendant in execution has no interest that could be seised and sold under execution. There is no assumption of any material fact in the charge; but the possession of the claimant, the time when acquired, the gathering of the crop, &c., are all referred to the determination of the jury; who are instructed, if they find them according to the evidence adduced, that no lien ever attached in favor of the plaintiff. The bona fides of the contract was conceded, so that no charge was necessary on that point, and it could not with propriety enter into the inquiry of the jury.\n",
            "It results from what has been said, that the judgment of the circuit court is affirmed.\n",
            "\n",
            "DISSENTING OPINION.\n",
            "\n",
            "ORMOND, J.\n",
            "**4 The statute which presents the question before the court is, that “it shall not be lawful for any sheriff or other officer to levy a writ of fieei facias or other execution, on the planted crop of a debtor, or person against whom an execution may issue, until the crop is gathered.” [Clay’s Dig. 210, § 46.]\n",
            "I shall not enter upon the enquiry, whether, at common law, an execution could be levied upon a growing crop, though I apprehend, it would not be difficult to maintain the affirmative of the proposition. It is sufficient for my purpose, that the statute supposes such to have been the law, as it doubtless was the practice.\n",
            "This act must be considered in connection with the other acts upon the same subject. The policy of the State, as indicated by these statutes, is undeniably that all the property of a debtor, real and personal, to which he has a legal title, shall be subject to sale by execution, and it appears to me that it would be difficult to assign a reason for the exemption of this species of property from the claims of judgment creditors, and for giving to the defendant in execution the right to dispose of it. It appears to me, with all deference, that the argument that because the sheriff was prohibited from levying on a ““planted crop,” that therefore the execution had lost its lien, and the debtor had the right to sell it, is a non sequitur. The mischief which the statute designed to remedy was, the sacrifice which would be necessarily made by the sale of an immature crop: the statute enables the debtor to retain it until it matures, and by severing it from the soil to put it *747 in a condition to bring its value--the lien in the mean time continuing in the plaintiff in execution.\n",
            "**5 If further confirmation of the correctness of this view were necessary, it will be found, I think, in the language employed by the legislature. The sheriff is forbidden to levy on a “planted crop” until the crop is gathered. Now, if the view taken by the majority of the court, is correct, the right secured to the plaintiff in execution, of levying on the crop after it is gathered, may be frustrated, as it was in this case, by a sale by the defendant in execution, whilst the crop is in an immature state. The construction which has been put upon the statute, involves the singular anomaly, that the legislature, for the protection of the debtor, has forbidden the plaintiff in execution to sell the property of his debtor, because it is not in a condition to bring its value, and yet permits the debtor, voluntarily, by a sale, to submit to the same sacrifice, for his own benefit. It is, in effect, a gift to the defendant in execution, of the growing crop, provided he does not gather it himself, but disposes of it in its then condition. This, I feel a thorough conviction, was not the intention of the legislature; but that it was to secure him from loss, by prohibiting a levy and sale of the crop, until it was gathered, when the temporary suspension of the right to sell, ceased.\n",
            "All Citations\n",
            "5 Ala. 740, 1843 WL 284\n",
            "End of Document\n",
            "© 2019 Thomson Reuters. No claim to original U.S. Government Works.\n",
            "Citing References (9)\n",
            "Treatment\n",
            "Title\n",
            "Date\n",
            "Type\n",
            "Depth\n",
            "Headnote(s)\n",
            "Cited by\n",
            "1.  Booker v. Jones’s Adm’x\n",
            "55 Ala. 266, 271 , Ala.\n",
            "Trover for Conversion of Cotton, with Counts in Case. APPEAL from the Circuit Court of Hale. Tried before the Hon. M. J. SAFFOLD.\n",
            "Dec Term 1876\n",
            "Case\n",
            "—\n",
            "Cited by\n",
            "2.  Lehman, Durr & Co. v. Marshall\n",
            "47 Ala. 362, 376 , Ala.\n",
            "[TROVER FOR CONVERSION OF COTTON.] APPEAL from the City Court of Montgomery. Tried before Hon. JOHN D. CUNNINGHAM.\n",
            "Jan Term 1872\n",
            "Case\n",
            "—\n",
            "Cited by\n",
            "3.  Bibb v. Janney\n",
            "45 Ala. 329, 334 , Ala.\n",
            "[GARNISHMENT; WAGES; WAIVER OF EXEMPTION.] APPEAL from City Court of Montgomery. Tried before Hon. JOHN D. CUNNINGHAM.\n",
            "Jan Term 1871\n",
            "Case\n",
            "—\n",
            "Cited by\n",
            "4.  McKenzie v. Lampley\n",
            "31 Ala. 526, 527 , Ala.\n",
            "[TRIAL OF RIGHT OF PROPERTY IN COTTON.] APPEAL from the Circuit Court of Barbour. Tried before the Hon. S. D. HALE.\n",
            "Jan Term 1858\n",
            "Case\n",
            "—\n",
            "Cited by\n",
            "5.  Evans v. Lamar\n",
            "21 Ala. 333, 335+ , Ala.\n",
            "ERROR to the Circuit Court of Autauga. Tried before the Hon. A. B. MOORE.\n",
            "Jun Term 1852\n",
            "Case\n",
            "—\n",
            "Cited by\n",
            " 6.  Dewey v. Bowman\n",
            "8 Cal. 145, 147 , Cal.\n",
            "The judgment of the Court below, against Jacob S. Cohen, should be reversed, for the following reasons: Because the finding of the Court was, so far as Cohen was concerned,...\n",
            "Jul Term 1857\n",
            "Case\n",
            "—\n",
            "Mentioned by\n",
            "7.  Rees v. Coats\n",
            "65 Ala. 256, 258 , Ala.\n",
            "Trover for Conversion of Three Bales of Cotton. APPEAL from the Circuit Court of Etowah. Tried before the Hon. WM. L. WHITLOCK.\n",
            "Nov Term 1880\n",
            "Case\n",
            "—\n",
            "Mentioned by\n",
            "8.  Edwards v. Thompson\n",
            "4 S.W. 913, 914 , Tenn.\n",
            "Appeal from circuit court, Weakley county.\n",
            "May 1887\n",
            "Case\n",
            "—\n",
            "—\n",
            "9.  Growing crops as subject to levy and seizure under attachment or execution\n",
            "103 A.L.R. 464\n",
            "Generally, at common law, growing crops raised by annual planting, while still attached to the soil, are regarded as personal chattels, subject to levy and seizure under attachment...\n",
            "1936\n",
            "ALR\n",
            "—\n",
            "—\n",
            "Table of Authorities (3)\n",
            "Treatment\n",
            "Referenced Title\n",
            "Type\n",
            "Depth\n",
            "Quoted\n",
            "Page Number\n",
            "Mentioned\n",
            "1.  Austin v. Sawyer\n",
            "9 Cow. 39, N.Y.Sup., 1828\n",
            "Parol evidence is not admissible to contradict, or substantially vary, a written contract. And where A. quit-claimed land to W., on which a crop of wheat was growing, reserving the...\n",
            "Case\n",
            "2\n",
            "Cited\n",
            " 2.  Perkins v. Mayfield\n",
            "5 Port. 182, Ala., 1837\n",
            "On writ of error to the Circuit Court of Tuskaloosa.\n",
            "Case\n",
            "2+\n",
            "Mentioned\n",
            "3.  Stewart v. Doughty\n",
            "9 Johns. 108, N.Y.Sup., 1812\n",
            "A. let to B. a farm for six years, and A. agreed “to render, yield and pay to A. the one half of all the wheat, rye, corn and other grain, raised on the farm in each year, in the...\n",
            "Case\n",
            "2\n",
            "Filings\n",
            "There are no Filings for this citation.\n",
            "Negative Treatment\n",
            "There are no Negative Treatment results for this citation.\n",
            "History\n",
            "There are no History results for this citation.\n"
          ],
          "name": "stdout"
        }
      ]
    },
    {
      "cell_type": "code",
      "metadata": {
        "id": "zFwvukW7iyI-",
        "outputId": "c2ba139c-96ef-4f14-cb44-24b1b0d214df",
        "colab": {
          "base_uri": "https://localhost:8080/",
          "height": 34
        }
      },
      "source": [
        "import lexnlp.extract.en.acts\n",
        "print(lexnlp.extract.en.acts.get_act_list(p))"
      ],
      "execution_count": 20,
      "outputs": [
        {
          "output_type": "stream",
          "text": [
            "[]\n"
          ],
          "name": "stdout"
        }
      ]
    },
    {
      "cell_type": "code",
      "metadata": {
        "id": "zR3PlzmIi1JJ",
        "outputId": "8f023331-2ec5-4dee-bb92-7dbf3b62ee5c",
        "colab": {
          "base_uri": "https://localhost:8080/",
          "height": 1000
        }
      },
      "source": [
        "import lexnlp.extract.en.amounts\n",
        "list(lexnlp.extract.en.amounts.get_amounts(p))"
      ],
      "execution_count": 21,
      "outputs": [
        {
          "output_type": "execute_result",
          "data": {
            "text/plain": [
              "[5.0,\n",
              " 740.0,\n",
              " 1843.0,\n",
              " 2.0,\n",
              " 1.0,\n",
              " 4.0,\n",
              " 2.0,\n",
              " 1821.0,\n",
              " 5.0,\n",
              " 1.0,\n",
              " 1840.0,\n",
              " 3777,\n",
              " 80.0,\n",
              " 100.0,\n",
              " 30,\n",
              " 1839.0,\n",
              " 741.0,\n",
              " 22,\n",
              " 1840.0,\n",
              " 14000,\n",
              " 120,\n",
              " 1,\n",
              " 1840.0,\n",
              " 3,\n",
              " 4,\n",
              " 1,\n",
              " 1.0,\n",
              " 1840.0,\n",
              " 2.0,\n",
              " 1.0,\n",
              " 361.0,\n",
              " 1.0,\n",
              " 307.0,\n",
              " 6.0,\n",
              " 604.0,\n",
              " 1.0,\n",
              " 2.0,\n",
              " 418.0,\n",
              " 422.0,\n",
              " 7.0,\n",
              " 34.0,\n",
              " 41.0,\n",
              " 167.0,\n",
              " 742.0,\n",
              " 3.0,\n",
              " 112.0,\n",
              " 207.0,\n",
              " 3.0,\n",
              " 338.0,\n",
              " 424.0,\n",
              " 5.0,\n",
              " 26.0,\n",
              " 13.0,\n",
              " 235.0,\n",
              " 8.0,\n",
              " 693.0,\n",
              " 4.0,\n",
              " 1821.0,\n",
              " 167.0,\n",
              " 2.0,\n",
              " 2.0,\n",
              " 216.0,\n",
              " 3.0,\n",
              " 66.0,\n",
              " 4.0,\n",
              " 130.0,\n",
              " 29.0,\n",
              " 2.0,\n",
              " 241.0,\n",
              " 2.0,\n",
              " 332.0,\n",
              " 2.0,\n",
              " 422.0,\n",
              " 9.0,\n",
              " 112.0,\n",
              " 743.0,\n",
              " 9.0,\n",
              " 39.0,\n",
              " 14000,\n",
              " 1840.0,\n",
              " 744.0,\n",
              " 5.0,\n",
              " 182.0,\n",
              " 3.0,\n",
              " 368.0,\n",
              " 1.0,\n",
              " 397.0,\n",
              " 6.0,\n",
              " 604.0,\n",
              " 1,\n",
              " 1821.0,\n",
              " 167.0,\n",
              " 745.0,\n",
              " 4.0,\n",
              " 746.0,\n",
              " 4.0,\n",
              " 210.0,\n",
              " 46.0,\n",
              " 747.0,\n",
              " 5.0,\n",
              " 5.0,\n",
              " 740.0,\n",
              " 1843.0,\n",
              " 284.0,\n",
              " 2019.0,\n",
              " 9.0,\n",
              " 1.0,\n",
              " 55.0,\n",
              " 266.0,\n",
              " 271.0,\n",
              " 1876.0,\n",
              " 2.0,\n",
              " 47.0,\n",
              " 362.0,\n",
              " 376.0,\n",
              " 1872.0,\n",
              " 3.0,\n",
              " 45.0,\n",
              " 329.0,\n",
              " 334.0,\n",
              " 1871.0,\n",
              " 4.0,\n",
              " 31.0,\n",
              " 526.0,\n",
              " 527.0,\n",
              " 1858.0,\n",
              " 5.0,\n",
              " 21.0,\n",
              " 333.0,\n",
              " 335.0,\n",
              " 1852.0,\n",
              " 6.0,\n",
              " 8.0,\n",
              " 145.0,\n",
              " 147.0,\n",
              " 1857.0,\n",
              " 7.0,\n",
              " 65.0,\n",
              " 256.0,\n",
              " 258.0,\n",
              " 3,\n",
              " 1880.0,\n",
              " 8.0,\n",
              " 4.0,\n",
              " 913.0,\n",
              " 914.0,\n",
              " 1887.0,\n",
              " 9.0,\n",
              " 103.0,\n",
              " 464.0,\n",
              " 1936.0,\n",
              " 3.0,\n",
              " 1.0,\n",
              " 9.0,\n",
              " 39.0,\n",
              " 1828.0,\n",
              " 2.0,\n",
              " 2.0,\n",
              " 5.0,\n",
              " 182.0,\n",
              " 1837.0,\n",
              " 2.0,\n",
              " 3.0,\n",
              " 9.0,\n",
              " 108.0,\n",
              " 1812.0,\n",
              " 6,\n",
              " 1,\n",
              " 2.0]"
            ]
          },
          "metadata": {
            "tags": []
          },
          "execution_count": 21
        }
      ]
    },
    {
      "cell_type": "code",
      "metadata": {
        "id": "uOPZLPj4i96T",
        "outputId": "58097809-48f5-4d46-dccf-bdd98e17e76b",
        "colab": {
          "base_uri": "https://localhost:8080/",
          "height": 54
        }
      },
      "source": [
        "import lexnlp.extract.en.citations\n",
        "list(lexnlp.extract.en.citations.get_citations(p))"
      ],
      "execution_count": 22,
      "outputs": [
        {
          "output_type": "stream",
          "text": [
            "[(5, 'Ala.', 'Alabama Reports', 740, None, None, None), (5, 'Ala.', 'Alabama Reports', 740, '1843', None, None), (55, 'Ala.', 'Alabama Reports', 266, '271', None, None), (47, 'Ala.', 'Alabama Reports', 362, '376', None, None), (45, 'Ala.', 'Alabama Reports', 329, '334', None, None), (31, 'Ala.', 'Alabama Reports', 526, '527', None, None), (21, 'Ala.', 'Alabama Reports', 333, '335', None, None), (8, 'Cal.', 'California Reports', 145, '147', None, None), (65, 'Ala.', 'Alabama Reports', 256, '258', None, None), (4, 'S.W.', 'South Western Reporter', 913, '914', None, None), (103, 'A.L.R.', 'American Law Reports', 464, None, None, None), (9, 'Cow.', \"Cowen's Reports\", 39, None, None, None), (5, 'Port.', 'Alabama Reports, Porter', 182, None, None, None), (9, 'Johns.', \"Johnson's Reports\", 108, None, None, None)]\n"
          ],
          "name": "stdout"
        }
      ]
    },
    {
      "cell_type": "code",
      "metadata": {
        "id": "0H9DKucVjDJl",
        "outputId": "1843bbce-69cc-45ec-891e-68bc85b18eab",
        "colab": {
          "base_uri": "https://localhost:8080/",
          "height": 34
        }
      },
      "source": [
        "import lexnlp.extract.en.entities.nltk_re\n",
        "list(lexnlp.extract.en.entities.nltk_re.get_companies(p))"
      ],
      "execution_count": 23,
      "outputs": [
        {
          "output_type": "stream",
          "text": [
            "[Lehman, Durr Co, (17983, 18001)]\n"
          ],
          "name": "stdout"
        }
      ]
    },
    {
      "cell_type": "code",
      "metadata": {
        "id": "QM94ojM3jFqg",
        "outputId": "6289b06d-e41d-4c92-ec22-d4b73b24198c",
        "colab": {
          "base_uri": "https://localhost:8080/",
          "height": 54
        }
      },
      "source": [
        "import lexnlp.extract.en.conditions\n",
        "list(lexnlp.extract.en.conditions.get_conditions(p))"
      ],
      "execution_count": 24,
      "outputs": [
        {
          "output_type": "stream",
          "text": [
            "[('until', '[2]\\nCreditors’ Remedies\\nLien and Priority\\nUnder St.1821, prohibiting a levy on a crop', ''), ('until', 'on a growing crop, nor does such lien attach', ''), ('if', 'It was proved by the claimants, by the production of a written contract, that Harrison, on the twenty-second of May, 1840, in consideration that the claimants were involved, as indorsers for Burton & Harrison of Sumter county, and were then exposed to an execution, amounting to upwards of fourteen thousand dollars, bargained and sold to the claimants all his growing crop of cotton &c., consisting of one hundred and twenty acres, &c. Allen Harrison promised and obliged himself to give up his crop to the use of the claimants at any time to save them from suffering as his indorsers;', ''), ('when', 'The claimants came from Tennessee, (where they resided) about the first of September, 1840, bringing with them three or four white laborers, and took possession of the crop and slaves, and with the latter, and white laborers, gathered the cotton, prepared it for market, and', ''), ('if', 'The court charged the jury, that the plaintiff had no lien by virtue of his judgment, and execution on the growing crop; that Harrison had a right to convey it, without being in any manner restrained by them; that the writing adduced, was a sale of the crop, but', ''), ('when', 'it was not, and the lien of the fieri facias would have attached upon it,', ''), ('if', 'gathered, yet', ''), ('not subject to', 'the claimants obtained possession on the first of September, and controlled the gathering of the crop, then no lien attached, and it was', ''), ('until', 'Rep, 693;] and', ''), ('until', '167,] which declares it to be lawful to levy an execution on a planted crop,', ''), ('if', 'It is admitted that the contract between the defendant in execution, and the claimants, was in good faith,', ''), ('when', 'The defendant in execution might at any time have divested the interest which the contract vested in the claimants, by discharging their liability as his indorsers, or a judgment creditor might have satisfied the lien, and', ''), ('unless', 'We will then consider the writing under which the claimants assert a right, as a mortgage with a power to take possession any time during the year,', ''), ('if', 'Conceding the truth of the facts stated in the bill of exceptions, and we think it will not follow, that the possession of the claimants is a nullity, and that the case must be considered as', ''), ('if', 'The contract contains an express undertaking to give up the crop at any time the claimants might require it for their indemnity, and', ''), ('if', 'they took possession of it in the absence of the grantor, (though without his consent,)', ''), ('if', 'he subsequently acquiesced in it, the inference would be,', ''), ('subject to', 'Mr. Dane, in remarking upon this point, says, “The American editor of Bacon’s Abridgment, says, ‘Wheat growing in the ground is a chattel, and', ''), ('until', 'The first section of the act of 1821, “To prevent sheriffs and other officers from levying executions in certain cases, enacts, that “It shall not be lawful for any sheriff or other officer, to levy a writ of fieri facias or other execution on the planted crop of a debtor, or person against whom an execution may issue,', ''), ('until', 'Now here is an express inhibition to levy an execution on a crop while it remains on, or in the ground, and', ''), ('until', 'If so, the act cited, will only have the effect of keeping the right to levy it in abeyance', ''), ('if', 'The lien and the right to levy are intimately connected, and', ''), ('until', 'That it was competent for the legislature to have made it unlawful to levy an execution on particular property,', ''), ('until', 'If the object was merely to suspend the sale,', ''), ('as soon as', 'The idea that the lien attached upon the planted crop', ''), ('until', 'the execution was delivered to the sheriff, though the right to levy it was postponed', ''), ('if', 'They do not refer to the lien,', ''), ('until', 'they did they would postpone it', ''), ('until', 'the crop was gathered; but it is the levy they relate to and postpone', ''), ('until', '**4 The right to levy an execution on a planted crop, then, being expressly taken away by the statute, the lien which is connected with and consequent upon that right, never attaches', ''), ('if', 'The circuit judge may have mistaken the law in supposing that the contract was a sale, but', ''), ('when', 'There is no assumption of any material fact in the charge; but the possession of the claimant, the time', ''), ('if', 'acquired, the gathering of the crop, &c., are all referred to the determination of the jury; who are instructed,', ''), ('until', '**4 The statute which presents the question before the court is, that “it shall not be lawful for any sheriff or other officer to levy a writ of fieei facias or other execution, on the planted crop of a debtor, or person against whom an execution may issue,', ''), ('subject to', 'The policy of the State, as indicated by these statutes, is undeniably that all the property of a debtor, real and personal, to which he has a legal title, shall be', ''), ('until', 'The mischief which the statute designed to remedy was, the sacrifice which would be necessarily made by the sale of an immature crop: the statute enables the debtor to retain it', ''), ('if', '**5', ''), ('until', 'The sheriff is forbidden to levy on a “planted crop”', ''), ('if', 'Now,', ''), ('until', 'This, I feel a thorough conviction, was not the intention of the legislature; but that it was to secure him from loss, by prohibiting a levy and sale of the crop,', ''), ('when', 'it was gathered,', ''), ('subject to', 'Growing crops as', ''), ('subject to', '464\\nGenerally, at common law, growing crops raised by annual planting, while still attached to the soil, are regarded as personal chattels,', ''), ('where', 'And', '')]\n"
          ],
          "name": "stdout"
        }
      ]
    },
    {
      "cell_type": "code",
      "metadata": {
        "id": "_rVLaYUljOTP",
        "outputId": "8d10479d-c43a-4a25-b4b9-67600c7204aa",
        "colab": {
          "base_uri": "https://localhost:8080/",
          "height": 530
        }
      },
      "source": [
        "import lexnlp.extract.en.constraints\n",
        "list(lexnlp.extract.en.constraints.get_constraints(p))"
      ],
      "execution_count": 25,
      "outputs": [
        {
          "output_type": "execute_result",
          "data": {
            "text/plain": [
              "[('after', 'on a growing crop, nor does such lien attach until', ''),\n",
              " ('after',\n",
              "  '',\n",
              "  ' and that alias and pluries fieri facias’, issued regularly up to the time levy was made; that the cotton levied on was growed on the plantation of harrison, and cultivated by the hands in his service.'),\n",
              " ('first of',\n",
              "  'the claimants came from tennessee, (where they resided) about the',\n",
              "  ''),\n",
              " ('first of',\n",
              "  'the court charged the jury, that the plaintiff had no lien by virtue of his judgment, and execution on the growing crop; that harrison had a right to convey it, without being in any manner restrained by them; that the writing adduced, was a sale of the crop, but if it was not, and the lien of the fieri facias would have attached upon it, when gathered, yet if the claimants obtained possession on the',\n",
              "  ''),\n",
              " ('after',\n",
              "  'it merely inhibits the levy, but the lien attaches, and a levy and sale may be made',\n",
              "  ''),\n",
              " ('more than',\n",
              "  'taking this to be clear *744 law, and it will be seen, that the defendant in execution at the time of the levy had nothing',\n",
              "  ''),\n",
              " ('before',\n",
              "  'it has been frequently mooted whether, at common law, corn, &c.,',\n",
              "  ''),\n",
              " ('before', '**4 the statute which presents the question', ''),\n",
              " ('after',\n",
              "  'now, if the view taken by the majority of the court, is correct, the right secured to the plaintiff in execution, of levying on the crop',\n",
              "  ''),\n",
              " ('before', 'tried', ''),\n",
              " ('before', 'tried', ''),\n",
              " ('before', 'tried', ''),\n",
              " ('before', 'tried', ''),\n",
              " ('before', 'tried', ''),\n",
              " ('before', 'tried', '')]"
            ]
          },
          "metadata": {
            "tags": []
          },
          "execution_count": 25
        }
      ]
    },
    {
      "cell_type": "code",
      "metadata": {
        "id": "a3_OfovBjVWn",
        "outputId": "faf2abd4-30da-4f3d-cdd9-d6e3fd6ffcf8",
        "colab": {
          "base_uri": "https://localhost:8080/",
          "height": 34
        }
      },
      "source": [
        "import  lexnlp.extract.en.copyright\n",
        "list(lexnlp.extract.en.copyright.get_copyright(p))"
      ],
      "execution_count": 26,
      "outputs": [
        {
          "output_type": "stream",
          "text": [
            "[('©', '2019', 'Thomson Reuters. No')]\n"
          ],
          "name": "stdout"
        }
      ]
    },
    {
      "cell_type": "code",
      "metadata": {
        "id": "6p1U_Kw6jcLz",
        "outputId": "b646704f-0b20-4390-d542-d47e15a909c5",
        "colab": {
          "base_uri": "https://localhost:8080/",
          "height": 34
        }
      },
      "source": [
        "import lexnlp.extract.en.courts\n",
        "config_court_data = []\n",
        "list(lexnlp.extract.en.courts.get_courts(p,config_court_data))"
      ],
      "execution_count": 27,
      "outputs": [
        {
          "output_type": "stream",
          "text": [
            "[]\n"
          ],
          "name": "stdout"
        }
      ]
    },
    {
      "cell_type": "code",
      "metadata": {
        "id": "fG3PTE7ojqwQ",
        "outputId": "06269436-63ac-4ee1-c681-fdf48b89fc0a",
        "colab": {
          "base_uri": "https://localhost:8080/",
          "height": 34
        }
      },
      "source": [
        "import lexnlp.extract.en.cusip\n",
        "lexnlp.extract.en.cusip.get_cusip(p)"
      ],
      "execution_count": 28,
      "outputs": [
        {
          "output_type": "execute_result",
          "data": {
            "text/plain": [
              "<generator object get_cusip at 0x7f5466717bf8>"
            ]
          },
          "metadata": {
            "tags": []
          },
          "execution_count": 28
        }
      ]
    },
    {
      "cell_type": "code",
      "metadata": {
        "id": "kowjHBu_j0CM",
        "outputId": "4309d1a4-83b9-40bb-c733-52a9dc2fd165",
        "colab": {
          "base_uri": "https://localhost:8080/",
          "height": 394
        }
      },
      "source": [
        "import lexnlp.extract.en.dates\n",
        "list(lexnlp.extract.en.dates.get_dates(p))"
      ],
      "execution_count": 29,
      "outputs": [
        {
          "output_type": "stream",
          "text": [
            "/usr/local/lib/python3.6/dist-packages/sklearn/base.py:318: UserWarning: Trying to unpickle estimator SelectKBest from version 0.23.1 when using version 0.22.2.post1. This might lead to breaking code or invalid results. Use at your own risk.\n",
            "  state = self.__dict__.copy()\n",
            "/usr/local/lib/python3.6/dist-packages/sklearn/base.py:318: UserWarning: Trying to unpickle estimator LogisticRegressionCV from version 0.23.1 when using version 0.22.2.post1. This might lead to breaking code or invalid results. Use at your own risk.\n",
            "  state = self.__dict__.copy()\n",
            "/usr/local/lib/python3.6/dist-packages/sklearn/base.py:318: UserWarning: Trying to unpickle estimator Pipeline from version 0.23.1 when using version 0.22.2.post1. This might lead to breaking code or invalid results. Use at your own risk.\n",
            "  state = self.__dict__.copy()\n"
          ],
          "name": "stderr"
        },
        {
          "output_type": "execute_result",
          "data": {
            "text/plain": [
              "[datetime.date(2020, 6, 1),\n",
              " datetime.date(1840, 11, 1),\n",
              " datetime.date(1839, 10, 1),\n",
              " datetime.date(1840, 9, 1),\n",
              " datetime.date(1840, 5, 1),\n",
              " datetime.date(1840, 5, 1),\n",
              " datetime.date(2020, 12, 1),\n",
              " datetime.date(2020, 12, 1),\n",
              " datetime.date(2020, 1, 1),\n",
              " datetime.date(2020, 1, 1),\n",
              " datetime.date(2020, 1, 1),\n",
              " datetime.date(2020, 3, 21),\n",
              " datetime.date(2020, 6, 1),\n",
              " datetime.date(2020, 7, 1),\n",
              " datetime.date(2020, 11, 1)]"
            ]
          },
          "metadata": {
            "tags": []
          },
          "execution_count": 29
        }
      ]
    },
    {
      "cell_type": "code",
      "metadata": {
        "id": "kLCpexjbj8RY",
        "outputId": "adef659f-012a-4297-f34c-12f368298808",
        "colab": {
          "base_uri": "https://localhost:8080/",
          "height": 34
        }
      },
      "source": [
        "import lexnlp.extract.en.definitions\n",
        "lexnlp.extract.en.definitions.get_definitions(p)"
      ],
      "execution_count": 30,
      "outputs": [
        {
          "output_type": "execute_result",
          "data": {
            "text/plain": [
              "[]"
            ]
          },
          "metadata": {
            "tags": []
          },
          "execution_count": 30
        }
      ]
    },
    {
      "cell_type": "code",
      "metadata": {
        "id": "uYjzI4VEkMej",
        "outputId": "58972c4b-ae6d-41f1-ba5f-11159c4c088f",
        "colab": {
          "base_uri": "https://localhost:8080/",
          "height": 34
        }
      },
      "source": [
        "import lexnlp.extract.en.distances\n",
        "list(lexnlp.extract.en.distances.get_distances(p))"
      ],
      "execution_count": 31,
      "outputs": [
        {
          "output_type": "stream",
          "text": [
            "[]\n"
          ],
          "name": "stdout"
        }
      ]
    },
    {
      "cell_type": "code",
      "metadata": {
        "id": "Fsu4-yWvkSSn",
        "outputId": "02273960-fab4-48bb-a0dd-0caa6e8fdd19",
        "colab": {
          "base_uri": "https://localhost:8080/",
          "height": 34
        }
      },
      "source": [
        "import lexnlp.extract.en.durations\n",
        "list(lexnlp.extract.en.durations.get_durations(p))"
      ],
      "execution_count": 32,
      "outputs": [
        {
          "output_type": "stream",
          "text": [
            "[('second', 20.0, 0.00023148148148148146), ('year', 6.0, 2190.0)]\n"
          ],
          "name": "stdout"
        }
      ]
    },
    {
      "cell_type": "code",
      "metadata": {
        "id": "01ND3QE3kXfr",
        "outputId": "332381e6-8489-48b7-dfde-1d80a6bed94c",
        "colab": {
          "base_uri": "https://localhost:8080/",
          "height": 34
        }
      },
      "source": [
        "import lexnlp.extract.en.geoentities\n",
        "config_geo_list = []\n",
        "list(lexnlp.extract.en.geoentities.get_geoentities(p,config_geo_list))"
      ],
      "execution_count": 33,
      "outputs": [
        {
          "output_type": "stream",
          "text": [
            "[]\n"
          ],
          "name": "stdout"
        }
      ]
    },
    {
      "cell_type": "code",
      "metadata": {
        "id": "0GRVl44zkjDS",
        "outputId": "5f9bb52e-23c6-4a18-fea9-df048fb553d5",
        "colab": {
          "base_uri": "https://localhost:8080/",
          "height": 34
        }
      },
      "source": [
        "import lexnlp.extract.en.money\n",
        "list(lexnlp.extract.en.money.get_money(p))"
      ],
      "execution_count": 34,
      "outputs": [
        {
          "output_type": "stream",
          "text": [
            "[(100.0, 'USD'), (14000, 'USD'), (14000, 'USD')]\n"
          ],
          "name": "stdout"
        }
      ]
    },
    {
      "cell_type": "code",
      "metadata": {
        "id": "6BievTLPktjK",
        "outputId": "46e61e05-9dca-402d-aafc-e79a13b05cd8",
        "colab": {
          "base_uri": "https://localhost:8080/",
          "height": 34
        }
      },
      "source": [
        "import lexnlp.extract.en.percents\n",
        "list(lexnlp.extract.en.percents.get_percents(p))"
      ],
      "execution_count": 35,
      "outputs": [
        {
          "output_type": "stream",
          "text": [
            "[]\n"
          ],
          "name": "stdout"
        }
      ]
    },
    {
      "cell_type": "code",
      "metadata": {
        "id": "sx3Ta4OrkzEC",
        "outputId": "8571b013-1d78-4d7f-a361-05962b360f95",
        "colab": {
          "base_uri": "https://localhost:8080/",
          "height": 34
        }
      },
      "source": [
        "import lexnlp.extract.en.pii\n",
        "list(lexnlp.extract.en.pii.get_pii(p))"
      ],
      "execution_count": 36,
      "outputs": [
        {
          "output_type": "stream",
          "text": [
            "[]\n"
          ],
          "name": "stdout"
        }
      ]
    },
    {
      "cell_type": "code",
      "metadata": {
        "id": "vOMwwZvPk4r8",
        "outputId": "9b584b59-4167-48f8-9530-32be43c19c68",
        "colab": {
          "base_uri": "https://localhost:8080/",
          "height": 34
        }
      },
      "source": [
        "import lexnlp.extract.en.ratios\n",
        "list(lexnlp.extract.en.ratios.get_ratios(p))"
      ],
      "execution_count": 37,
      "outputs": [
        {
          "output_type": "stream",
          "text": [
            "[]\n"
          ],
          "name": "stdout"
        }
      ]
    },
    {
      "cell_type": "code",
      "metadata": {
        "id": "tIEbJnlAk_FS",
        "outputId": "7ee1706a-f47a-40f3-811b-92bda1794d41",
        "colab": {
          "base_uri": "https://localhost:8080/",
          "height": 34
        }
      },
      "source": [
        "import lexnlp.extract.en.regulations\n",
        "list(lexnlp.extract.en.regulations.get_regulations(p))"
      ],
      "execution_count": 38,
      "outputs": [
        {
          "output_type": "stream",
          "text": [
            "[]\n"
          ],
          "name": "stdout"
        }
      ]
    },
    {
      "cell_type": "code",
      "metadata": {
        "id": "vwGAfssIlD_7",
        "outputId": "ce168412-55c3-43cc-a996-d926cb7b13d6",
        "colab": {
          "base_uri": "https://localhost:8080/",
          "height": 34
        }
      },
      "source": [
        "import lexnlp.extract.en.trademarks\n",
        "list(lexnlp.extract.en.trademarks.get_trademarks(p))"
      ],
      "execution_count": 39,
      "outputs": [
        {
          "output_type": "stream",
          "text": [
            "[]\n"
          ],
          "name": "stdout"
        }
      ]
    },
    {
      "cell_type": "code",
      "metadata": {
        "id": "sY7uDFxDlIF5",
        "outputId": "5599a58e-13e7-47e2-8627-fefe390a4a68",
        "colab": {
          "base_uri": "https://localhost:8080/",
          "height": 34
        }
      },
      "source": [
        "import lexnlp.extract.en.urls\n",
        "list(lexnlp.extract.en.urls.get_urls(p))"
      ],
      "execution_count": 40,
      "outputs": [
        {
          "output_type": "stream",
          "text": [
            "[]\n"
          ],
          "name": "stdout"
        }
      ]
    },
    {
      "cell_type": "code",
      "metadata": {
        "id": "KZYuY7whlSJA",
        "outputId": "a295f6a8-dd95-4826-e2f0-e31abb561f4c",
        "colab": {
          "base_uri": "https://localhost:8080/",
          "height": 1000
        }
      },
      "source": [
        "t = n(p)\n",
        "address = []\n",
        "persons = []\n",
        "for k in t.ents:\n",
        "   if k.label_=='ADDRESS':\n",
        "    address.append(k)\n",
        "   if k.label_ =='PERSON':\n",
        "    persons.append (k)\n",
        "print(address)\n",
        "print(set(persons))\n",
        "for k in t.ents:\n",
        "  print(k.text, k.start_char, k.end_char, k.label_)"
      ],
      "execution_count": 43,
      "outputs": [
        {
          "output_type": "stream",
          "text": [
            "[]\n",
            "{Cohen, lien, lien, Whipple v. Foot, McKenzie, Sawyer, JOHN D. CUNNINGHAM, JOHN D. CUNNINGHAM, Jacob S. Cohen, W., Hon, Austin v. Sawyer, R. H. SMITH, lien, Mansony, lien, St.1821, lien, lien, Allen Harrison, Marshall, Stewart v. Doughty, Jun Term 1852, A. quit-claimed, Dewey v. Bowman, Dane, Stewart, Mayfield, Allen Harrison, Perkins, lien, lien, Lien, Wood, Allen Harrison, L. WHITLOCK, Austin, Doughty, Edwards, lien, Bibb, Dec Term, Booker, Poole, Whipple v. Foot, M. J. SAFFOLD, W. M. MURPHY, C. J., Evans, lien, lien attach, Whipple v. Foot, Elliott v. Mayfield, Jones, W. G. JONES, Hurtell}\n",
            "Supreme Court 12 25 ORG\n",
            "Alabama 29 36 GPE\n",
            "June Term, 66 76 DATE\n",
            "1843 77 81 DATE\n",
            "the Circuit Court of Sumter 109 136 ORG\n",
            "West Headnotes 142 156 GPE\n",
            "2 158 159 CARDINAL\n",
            "1 164 165 CARDINAL\n",
            "4 376 377 CARDINAL\n",
            "2 410 411 CARDINAL\n",
            "Lien 433 437 PERSON\n",
            "St.1821 457 464 PERSON\n",
            "lien 526 530 PERSON\n",
            "lien attach 595 606 PERSON\n",
            "5 647 648 CARDINAL\n",
            "1 682 683 CARDINAL\n",
            "November, 1840 748 762 DATE\n",
            "Sumter 810 816 ORG\n",
            "Allen Harrison 925 939 PERSON\n",
            "thirty-seven hundred and seventy-seven 963 1001 CARDINAL\n",
            "thirty bales 1062 1074 QUANTITY\n",
            "Allen Harrison 1105 1119 PERSON\n",
            "October, 1839 1437 1450 DATE\n",
            "741 1471 1474 CARDINAL\n",
            "7th 1501 1504 ORDINAL\n",
            "Harrison 1669 1677 GPE\n",
            "Harrison 1801 1809 ORG\n",
            "May, 1840 1835 1844 DATE\n",
            "Burton & Harrison 1914 1931 ORG\n",
            "fourteen thousand dollars 2013 2038 MONEY\n",
            "cotton &c. 2100 2110 ORG\n",
            "one hundred and 2126 2141 CARDINAL\n",
            "twenty acres 2142 2154 QUANTITY\n",
            "Allen Harrison 2160 2174 PERSON\n",
            "Gainesville 2385 2396 GPE\n",
            "Tennessee 2422 2431 GPE\n",
            "September, 1840 2473 2488 DATE\n",
            "three 2509 2514 CARDINAL\n",
            "four 2518 2522 CARDINAL\n",
            "Gainesville 2715 2726 GPE\n",
            "Harrison 2757 2765 ORG\n",
            "Harrison 3061 3069 ORG\n",
            "the first of September 3334 3356 DATE\n",
            "R. H. SMITH 3483 3494 PERSON\n",
            "Harrison 3568 3576 GPE\n",
            "May, 1840 3587 3596 DATE\n",
            "2 3681 3682 CARDINAL\n",
            "1 3748 3749 CARDINAL\n",
            "361 3761 3764 CARDINAL\n",
            "1 3766 3767 CARDINAL\n",
            "307 3783 3786 CARDINAL\n",
            "6 3788 3789 CARDINAL\n",
            "East 3790 3794 LOC\n",
            "604 3802 3805 CARDINAL\n",
            "1 3812 3813 CARDINAL\n",
            "2 3815 3816 CARDINAL\n",
            "Johns 3817 3822 GPE\n",
            "418 3829 3832 CARDINAL\n",
            "422 3834 3837 CARDINAL\n",
            "7 Mass. Rep. 34 3839 3854 DATE\n",
            "167 3895 3898 CARDINAL\n",
            "742 3931 3934 CARDINAL\n",
            "lien 4038 4042 PERSON\n",
            "3 4126 4127 CARDINAL\n",
            "Harrison 4255 4263 ORG\n",
            "112 4341 4344 CARDINAL\n",
            "207 4346 4349 CARDINAL\n",
            "3 4351 4352 CARDINAL\n",
            "Johns 4353 4358 GPE\n",
            "338 4365 4368 CARDINAL\n",
            "424 4370 4373 CARDINAL\n",
            "5 4375 4376 CARDINAL\n",
            "26 4388 4390 CARDINAL\n",
            "13 4392 4394 CARDINAL\n",
            "Johns 4395 4400 GPE\n",
            "235 4407 4410 CARDINAL\n",
            "8 4412 4413 CARDINAL\n",
            "693 4425 4428 CARDINAL\n",
            "Harrison 4529 4537 ORG\n",
            "W. M. MURPHY 4728 4740 PERSON\n",
            "W. G. JONES 4756 4767 PERSON\n",
            "1821 4805 4809 DATE\n",
            "lien 4943 4947 PERSON\n",
            "lien 5117 5121 PERSON\n",
            "lien 5311 5315 PERSON\n",
            "Whipple v. Foot 5346 5361 WORK_OF_ART\n",
            "2 5363 5364 CARDINAL\n",
            "Johns 5365 5370 GPE\n",
            "216 5377 5380 CARDINAL\n",
            "3 5382 5383 CARDINAL\n",
            "4 5405 5406 CARDINAL\n",
            "130 5417 5420 CARDINAL\n",
            "COLLIER 5652 5659 ORG\n",
            "C. J. 5661 5666 PERSON\n",
            "29 6040 6042 CARDINAL\n",
            "2 6049 6050 CARDINAL\n",
            "241 6134 6137 CARDINAL\n",
            "332 6141 6144 CARDINAL\n",
            "Whipple v. Foot 6146 6161 PERSON\n",
            "2 6163 6164 CARDINAL\n",
            "Johns 6165 6170 GPE\n",
            "422 6177 6180 CARDINAL\n",
            "Stewart v. Doughty 6182 6200 PERSON\n",
            "9 6202 6203 CARDINAL\n",
            "Johns 6204 6209 GPE\n",
            "112 6216 6219 CARDINAL\n",
            "743 6222 6225 CARDINAL\n",
            "Austin v. Sawyer 6226 6242 PERSON\n",
            "9 6244 6245 CARDINAL\n",
            "39 6256 6258 CARDINAL\n",
            "Ravesies 6269 6277 ORG\n",
            "fourteen thousand dollars 6583 6608 MONEY\n",
            "lien 7062 7066 PERSON\n",
            "the year 7288 7296 DATE\n",
            "lien 7676 7680 PERSON\n",
            "May, 1840 7731 7740 DATE\n",
            "744 8748 8751 CARDINAL\n",
            "Elliott v. Mayfield 9099 9118 PERSON\n",
            "5 9120 9121 CARDINAL\n",
            "Porter 9122 9128 ORG\n",
            "182 9136 9139 CARDINAL\n",
            "3 9144 9145 CARDINAL\n",
            "Dane 9429 9433 PERSON\n",
            "American 9476 9484 NORP\n",
            "Bacon 9495 9500 ORG\n",
            "Whipple v. Foot 9822 9837 PERSON\n",
            "Poole 9854 9859 PERSON\n",
            "368 9874 9877 CARDINAL\n",
            "1 9879 9880 CARDINAL\n",
            "6 9896 9897 CARDINAL\n",
            "East 9898 9902 LOC\n",
            "604 9904 9907 CARDINAL\n",
            "Whipple v. Foot 9917 9932 PERSON\n",
            "first 10266 10271 ORDINAL\n",
            "1821 10294 10298 DATE\n",
            "167 10623 10626 CARDINAL\n",
            "745 11254 11257 CARDINAL\n",
            "lien 11272 11276 PERSON\n",
            "Mansony 11472 11479 PERSON\n",
            "Hurtell 11484 11491 PERSON\n",
            "the Bank of the United States 11517 11546 ORG\n",
            "Wood 11662 11666 PERSON\n",
            "lien 13579 13583 PERSON\n",
            "746 13809 13812 CARDINAL\n",
            "ORMOND 14537 14543 ORG\n",
            "Clay 14836 14840 ORG\n",
            "210 14848 14851 CARDINAL\n",
            "State 15287 15292 ORG\n",
            "lien 15862 15866 PERSON\n",
            "747 16168 16171 CARDINAL\n",
            "5 16277 16278 CARDINAL\n",
            "284 17604 17607 CARDINAL\n",
            "2019 17626 17630 DATE\n",
            "Thomson Reuters 17631 17646 ORG\n",
            "U.S. Government Works 17669 17690 ORG\n",
            "Citing References 17692 17709 ORG\n",
            "9 17711 17712 CARDINAL\n",
            "1 17767 17768 CARDINAL\n",
            "Booker 17771 17777 PERSON\n",
            "Jones 17781 17786 PERSON\n",
            "55 Ala. 266 17795 17806 CARDINAL\n",
            "271 17808 17811 CARDINAL\n",
            "Ala. 17814 17818 GPE\n",
            "Conversion of Cotton 17830 17850 ORG\n",
            "the Circuit Court of Hale 17885 17910 ORG\n",
            "Hon 17929 17932 ORG\n",
            "M. J. SAFFOLD 17934 17947 PERSON\n",
            "Dec Term 17949 17957 PERSON\n",
            "1876 17958 17962 DATE\n",
            "2 17979 17980 CARDINAL\n",
            "Lehman, Durr & Co. 17983 18001 ORG\n",
            "Marshall 18005 18013 PERSON\n",
            "47 18014 18016 DATE\n",
            "362 18022 18025 CARDINAL\n",
            "376 18027 18030 CARDINAL\n",
            "Ala. 18033 18037 GPE\n",
            "TROVER FOR CONVERSION OF COTTON 18039 18070 WORK_OF_ART\n",
            "the City Court of Montgomery 18085 18113 ORG\n",
            "Hon 18128 18131 ORG\n",
            "JOHN D. CUNNINGHAM 18133 18151 PERSON\n",
            "1872 18162 18166 DATE\n",
            "3 18183 18184 CARDINAL\n",
            "Bibb 18187 18191 PERSON\n",
            "45 Ala. 329 18202 18213 CARDINAL\n",
            "334 18215 18218 CARDINAL\n",
            "Ala. 18221 18225 GPE\n",
            "WAIVER OF EXEMPTION 18247 18266 PRODUCT\n",
            "City Court of Montgomery 18281 18305 ORG\n",
            "JOHN D. CUNNINGHAM 18325 18343 PERSON\n",
            "4 18375 18376 CARDINAL\n",
            "McKenzie 18379 18387 PERSON\n",
            "Lampley 18391 18398 ORG\n",
            "31 Ala. 18399 18406 DATE\n",
            "526 18407 18410 CARDINAL\n",
            "527 18412 18415 CARDINAL\n",
            "Ala. 18418 18422 GPE\n",
            "TRIAL OF RIGHT OF PROPERTY IN COTTON 18424 18460 WORK_OF_ART\n",
            "the Circuit Court of Barbour 18475 18503 ORG\n",
            "Hon 18522 18525 PERSON\n",
            "Jan Term 1858 18539 18552 DATE\n",
            "5 18569 18570 DATE\n",
            "Evans 18573 18578 PERSON\n",
            "Lamar 18582 18587 GPE\n",
            "21 18588 18590 CARDINAL\n",
            "333 18596 18599 CARDINAL\n",
            "335 18601 18604 CARDINAL\n",
            "Ala. 18608 18612 GPE\n",
            "ERROR 18613 18618 PRODUCT\n",
            "the Circuit Court of Autauga 18622 18650 ORG\n",
            "Jun Term 1852 18687 18700 PERSON\n",
            "6 18718 18719 CARDINAL\n",
            "Dewey v. Bowman 18722 18737 PERSON\n",
            "8 18738 18739 CARDINAL\n",
            "145 18745 18748 CARDINAL\n",
            "147 18750 18753 CARDINAL\n",
            "Cal 18756 18759 GPE\n",
            "Court 18781 18786 ORG\n",
            "Jacob S. Cohen 18802 18816 PERSON\n",
            "Court 18892 18897 ORG\n",
            "Cohen 18913 18918 PERSON\n",
            "1857 18946 18950 DATE\n",
            "7 18971 18972 DATE\n",
            "65 Ala. 18989 18996 TIME\n",
            "256 18997 19000 CARDINAL\n",
            "258 19002 19005 CARDINAL\n",
            "Ala. 19008 19012 GPE\n",
            "Three Bales 19038 19049 QUANTITY\n",
            "Cotton 19053 19059 GPE\n",
            "the Circuit Court of Etowah 19073 19100 ORG\n",
            "L. WHITLOCK 19128 19139 PERSON\n",
            "8 19175 19176 DATE\n",
            "Edwards 19179 19186 PERSON\n",
            "Thompson 19190 19198 ORG\n",
            "4 19199 19200 CARDINAL\n",
            "913 19206 19209 CARDINAL\n",
            "914 19211 19214 CARDINAL\n",
            "Tenn. 19217 19222 GPE\n",
            "Weakley county 19250 19264 GPE\n",
            "May 1887 19266 19274 DATE\n",
            "9 19284 19285 CARDINAL\n",
            "103 19363 19366 CARDINAL\n",
            "464 19374 19377 CARDINAL\n",
            "annual 19428 19434 DATE\n",
            "1936 19562 19566 DATE\n",
            "ALR 19567 19570 ORG\n",
            "3 19597 19598 CARDINAL\n",
            "1 19667 19668 CARDINAL\n",
            "Austin 19671 19677 PERSON\n",
            "Sawyer 19681 19687 PERSON\n",
            "9 19688 19689 CARDINAL\n",
            "N.Y.Sup. 19699 19707 GPE\n",
            "1828 19709 19713 DATE\n",
            "A. quit-claimed 19815 19830 PERSON\n",
            "W. 19839 19841 PERSON\n",
            "2 19903 19904 CARDINAL\n",
            "2 19912 19913 CARDINAL\n",
            "Perkins 19916 19923 PERSON\n",
            "Mayfield 19927 19935 PERSON\n",
            "5 19936 19937 CARDINAL\n",
            "182 19944 19947 CARDINAL\n",
            "Ala. 19949 19953 GPE\n",
            "1837 19955 19959 DATE\n",
            "the Circuit Court of Tuskaloosa 19980 20011 ORG\n",
            "2 20018 20019 CARDINAL\n",
            "3 20031 20032 CARDINAL\n",
            "Stewart 20035 20042 PERSON\n",
            "Doughty 20046 20053 PERSON\n",
            "9 20054 20055 CARDINAL\n",
            "108 20063 20066 CARDINAL\n",
            "N.Y.Sup. 20068 20076 GPE\n",
            "1812 20078 20082 DATE\n",
            "six years 20107 20116 DATE\n",
            "A. 20122 20124 ORG\n",
            "half 20172 20176 CARDINAL\n",
            "each year 20244 20253 DATE\n",
            "2 20270 20271 CARDINAL\n"
          ],
          "name": "stdout"
        }
      ]
    }
  ]
}