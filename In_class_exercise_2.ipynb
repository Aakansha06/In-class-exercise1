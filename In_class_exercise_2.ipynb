{
  "nbformat": 4,
  "nbformat_minor": 0,
  "metadata": {
    "colab": {
      "name": "In_class_exercise_02.ipynb",
      "provenance": [],
      "collapsed_sections": []
    },
    "kernelspec": {
      "display_name": "Python 3",
      "language": "python",
      "name": "python3"
    },
    "language_info": {
      "codemirror_mode": {
        "name": "ipython",
        "version": 3
      },
      "file_extension": ".py",
      "mimetype": "text/x-python",
      "name": "python",
      "nbconvert_exporter": "python",
      "pygments_lexer": "ipython3",
      "version": "3.7.4"
    }
  },
  "cells": [
    {
      "cell_type": "markdown",
      "metadata": {
        "colab_type": "text",
        "id": "view-in-github"
      },
      "source": [
        "<a href=\"https://colab.research.google.com/github/unt-iialab/INFO5731_Spring2020/blob/master/In_class_exercise/In_class_exercise_02.ipynb\" target=\"_parent\"><img src=\"https://colab.research.google.com/assets/colab-badge.svg\" alt=\"Open In Colab\"/></a>"
      ]
    },
    {
      "cell_type": "markdown",
      "metadata": {
        "colab_type": "text",
        "id": "oo5bsEh2eeWi"
      },
      "source": [
        "# **The second In-class-exercise (9/9/2020, 20 points in total)**\n"
      ]
    },
    {
      "cell_type": "markdown",
      "metadata": {
        "colab_type": "text",
        "id": "2sPQ58dIeqgp"
      },
      "source": [
        "(1) Write a Python program to find the duplicate elements in a given array of integers. Return -1 If there are no such elements. (4 points)"
      ]
    },
    {
      "cell_type": "code",
      "metadata": {
        "colab_type": "code",
        "id": "mnrvKMFTeoJR",
        "colab": {}
      },
      "source": [
        "# write your answer here\n",
        "def duplicate(numbers):\n",
        "    number_set = set()\n",
        "\n",
        "    for i in numbers:\n",
        "\n",
        "        if i in number_set:\n",
        "            return i\n",
        "        else:\n",
        "            number_set.add(i)\n",
        "\n",
        "    return -1\n",
        "\n",
        "   \n",
        "\n",
        "  \n"
      ],
      "execution_count": 35,
      "outputs": []
    },
    {
      "cell_type": "code",
      "metadata": {
        "id": "PIGskso8pgAX",
        "colab_type": "code",
        "colab": {
          "base_uri": "https://localhost:8080/",
          "height": 34
        },
        "outputId": "470f1648-73a9-4c5d-8a42-06f91db0e577"
      },
      "source": [
        "duplicate([1,2,3,4])\n",
        "\n"
      ],
      "execution_count": 40,
      "outputs": [
        {
          "output_type": "execute_result",
          "data": {
            "text/plain": [
              "-1"
            ]
          },
          "metadata": {
            "tags": []
          },
          "execution_count": 40
        }
      ]
    },
    {
      "cell_type": "markdown",
      "metadata": {
        "colab_type": "text",
        "id": "YYrH6n6IhZoQ"
      },
      "source": [
        "(2) Write a Python program to select all the Sundays of a specified year. (4 points)\n",
        "\n"
      ]
    },
    {
      "cell_type": "code",
      "metadata": {
        "colab_type": "code",
        "id": "OSfPLd23eLpX",
        "colab": {
          "base_uri": "https://localhost:8080/",
          "height": 901
        },
        "outputId": "d0e5e6a6-b621-47d0-a794-00f626ab11e6"
      },
      "source": [
        "# write your answer here\n",
        "from datetime import date, timedelta\n",
        "\n",
        "def sundays(givenyear):\n",
        "       datetimevalue = date(givenyear, 1, 1)       \n",
        "       datetimevalue += timedelta(days = 6 - datetimevalue.weekday())  \n",
        "       while datetimevalue.year == givenyear:\n",
        "          yield datetimevalue\n",
        "          datetimevalue += timedelta(days = 7)\n",
        "          \n",
        "for sun in sundays(2020):\n",
        "   print(sun)\n",
        "\n"
      ],
      "execution_count": 33,
      "outputs": [
        {
          "output_type": "stream",
          "text": [
            "2020-01-05\n",
            "2020-01-12\n",
            "2020-01-19\n",
            "2020-01-26\n",
            "2020-02-02\n",
            "2020-02-09\n",
            "2020-02-16\n",
            "2020-02-23\n",
            "2020-03-01\n",
            "2020-03-08\n",
            "2020-03-15\n",
            "2020-03-22\n",
            "2020-03-29\n",
            "2020-04-05\n",
            "2020-04-12\n",
            "2020-04-19\n",
            "2020-04-26\n",
            "2020-05-03\n",
            "2020-05-10\n",
            "2020-05-17\n",
            "2020-05-24\n",
            "2020-05-31\n",
            "2020-06-07\n",
            "2020-06-14\n",
            "2020-06-21\n",
            "2020-06-28\n",
            "2020-07-05\n",
            "2020-07-12\n",
            "2020-07-19\n",
            "2020-07-26\n",
            "2020-08-02\n",
            "2020-08-09\n",
            "2020-08-16\n",
            "2020-08-23\n",
            "2020-08-30\n",
            "2020-09-06\n",
            "2020-09-13\n",
            "2020-09-20\n",
            "2020-09-27\n",
            "2020-10-04\n",
            "2020-10-11\n",
            "2020-10-18\n",
            "2020-10-25\n",
            "2020-11-01\n",
            "2020-11-08\n",
            "2020-11-15\n",
            "2020-11-22\n",
            "2020-11-29\n",
            "2020-12-06\n",
            "2020-12-13\n",
            "2020-12-20\n",
            "2020-12-27\n"
          ],
          "name": "stdout"
        }
      ]
    },
    {
      "cell_type": "markdown",
      "metadata": {
        "colab_type": "text",
        "id": "UIpziZ6Sjie-"
      },
      "source": [
        "(3) Python files reading and writing. Download the “[exercise_02_data _collection.zip](https://github.com/unt-iialab/INFO5731_FALL2020/blob/master/In_class_exercise/exercise_02_data_collection.zip)” to your local and un-zip it.\n",
        "\n",
        "*   Write a program to read all the txt files and save the sentences in all the files into one csv file with two columns, the first column is sentence id (txt file name+sentence line number), the second column is the sentence text content. (4 points)\n",
        "*   Remove all the punctuations from the sentences, save the processed sentences into a new column in the same csv file. (4 points)\n",
        "*   Ask the user to enter a word, return all the sentences that include this word, three kinds of information should be returned: sentence id, sentence text content, the count that user input word appear in the sentence. (4 points)\n",
        "\n"
      ]
    },
    {
      "cell_type": "code",
      "metadata": {
        "colab_type": "code",
        "id": "f3CUsrWOj1Xy",
        "colab": {}
      },
      "source": [
        "# write your answer here\n",
        "import csv\n",
        "import pandas as pd\n",
        "\n",
        "def read_file(file): \n",
        "      global data \n",
        "\n",
        "      data=\"    \n",
        "       with open(file) as fd:         \n",
        "         for i in fd:            \n",
        "           data=data+i     \n",
        "           data=data.strip() \n",
        "           read_file(r'C:\\Users\\HP\\Downloads\\exercise_02_data_collection.zip') \n",
        "           x=[list(map(lambda x:int(x),i.split(','))) for i in data.split('\\n')] \n",
        "           s=','.join([str(sum(i)) for i in zip(*x)]) \n",
        "           y='\\n----------------------------------------------\\n' fd=open('mysum.csv','w') \n",
        "fd.write(data) \n",
        "fd.write(y) \n",
        "fd.write(s) \n",
        "fd.close()      \n"
      ],
      "execution_count": null,
      "outputs": []
    },
    {
      "cell_type": "markdown",
      "metadata": {
        "colab_type": "text",
        "id": "-12cqmJEpZOh"
      },
      "source": [
        "(4) Install packages nltk, numpy, scipy, pandas, and sklearn on Google Colab. Write a program to test whether they are installed successfully. (3 points for extra)"
      ]
    },
    {
      "cell_type": "code",
      "metadata": {
        "colab_type": "code",
        "id": "f1pn1Zl2qK77",
        "colab": {
          "base_uri": "https://localhost:8080/",
          "height": 102
        },
        "outputId": "dff4191b-7a36-4427-9837-6f7fd4278b3e"
      },
      "source": [
        "# write your answer here\n",
        "import nltk\n",
        "import numpy\n",
        "import scipy\n",
        "import pandas\n",
        "import sklearn\n",
        "print(nltk.__version__)\n",
        "print(numpy.__version__)\n",
        "print(scipy.__version__)\n",
        "print(pandas.__version__)\n",
        "print(sklearn.__version__)\n"
      ],
      "execution_count": 41,
      "outputs": [
        {
          "output_type": "stream",
          "text": [
            "3.2.5\n",
            "1.18.5\n",
            "1.4.1\n",
            "1.0.5\n",
            "0.22.2.post1\n"
          ],
          "name": "stdout"
        }
      ]
    }
  ]
}